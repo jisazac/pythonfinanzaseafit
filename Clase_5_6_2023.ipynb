{
  "cells": [
    {
      "cell_type": "markdown",
      "metadata": {
        "colab_type": "text",
        "id": "view-in-github"
      },
      "source": [
        "<a href=\"https://colab.research.google.com/github/jisazac/pythonfinanzaseafit/blob/master/Clase_6_google.ipynb\" target=\"_parent\"><img src=\"https://colab.research.google.com/assets/colab-badge.svg\" alt=\"Open In Colab\"/></a>"
      ]
    },
    {
      "cell_type": "markdown",
      "metadata": {
        "id": "8Eqn3RtteZei"
      },
      "source": [
        "\n",
        "\n",
        "<p><img alt=\"Colaboratory logo\" height=\"140px\" src=\"https://upload.wikimedia.org/wikipedia/commons/b/bf/EAFIT-2015.png\" align=\"left\" hspace=\"10px\" vspace=\"0px\"></p>\n",
        "\n",
        "<h1> Diplomado Python para Finanzas</h1>\n",
        "\n",
        "\n"
      ]
    },
    {
      "cell_type": "markdown",
      "metadata": {
        "id": "KvGkmbJKmJgO"
      },
      "source": [
        "<p><a name=\"contents\"></a></p>\n",
        "\n",
        "# Contenido Clase 5\n",
        "\n",
        "\n",
        "- <a href=\"#var\">1. Value at Risk</a><br>\n",
        "- <a href=\"#backtesting\">2. BackTesting Estrategias de Trading</a><br>\n",
        "- <a href=\"#interes\">3. Modelos de Tasas de Interés</a><br>\n",
        "- <a href=\"#risk\">4. Riesgo de Concentración de Posiciones</a><br>\n",
        "- <a href=\"#beta\">5. Beta Hedging</a><br>\n",
        "- <a href=\"#factors\">6. Model Factors</a><br>\n",
        "\n",
        "\n"
      ]
    },
    {
      "cell_type": "markdown",
      "metadata": {
        "id": "yDalCVf4zFYF"
      },
      "source": [
        "<p><a name=\"var\"></a></p>\n",
        "\n",
        "# 1.0 Value at Risk (VaR)\n",
        "[[Contenidos]](#contents)\n",
        "\n",
        "Tambien conocido como valor en riesgo es una medida de riesgo  equivalente  a la **miníma** pérdida  posible  en cierto porcentaje del tiempo a lo largo de un periodo de tiempo,  dadas unas condiciones de mercado asumidas.  Veamos este ejemplo para aclarar el concepto:\n",
        "\n",
        "\n",
        "*El VaR de 5% de un portafolio es $2.2 millones para un periodo día a día*\n",
        "\n",
        "Los siguientes puntos son importantes para entender el VaR:\n",
        "\n",
        "* El VaR puede ser medido tanto en un unidades monetarias como en términos porcentuales.\n",
        "\n",
        "* El VaR es un pérdida minima. A veces suele decirse que el VaR es la máxima pérdida posible, lo cual es errado ya que lo máximo que puedo perder es el portafolio completo.\n",
        "\n",
        "* El VaR hace referencia a un horizonte de tiempo, se espera que las pérdidas ocurran  a lo largo de un período de tiempo dado.\n",
        "\n",
        "\n",
        "Otra forma de expresar el VaR sería:\n",
        "\n",
        "*5% de las veces las pérdidas van a ser al menos $2.2 millones*\n",
        "\n",
        "<p><img alt=\"comparison  logo\" width=\"450\" height=\"280\" src=\"https://www.bmeclearing.es/images/imgsSubidas/Gestion-Riesgo/Hvar_eng.png\"\n",
        "\" align=\"center\" hspace=\"10px\" vspace=\"0px\"></p>\n",
        "\n",
        "Matemáticamente podemos enunciarlo como\n",
        "\n",
        "$P(R_{t} \\leq VaR_{\\alpha})=\\alpha$\n",
        "\n",
        "$VaR_{\\alpha}=Cuantil_{a}(R_{t})$"
      ]
    },
    {
      "cell_type": "markdown",
      "metadata": {
        "id": "oixBLjMlSg7K"
      },
      "source": [
        "### Ejercicio 1\n",
        "\n",
        "Dado un VaR de 25 millones al 5% para un mes, cual de las siguientes afirmaciones es correcta:\n",
        "\n",
        "1. Hay un 5% de probabilidad perder 25 millone en un mes.\n",
        "\n",
        "2. La minima pérdida que podría ocurrir en un mes 5% de las veces es 25 millones.\n",
        "\n",
        "3. Hay un 95% de probabilidad que el valor esperado de la pérdida durante un mes sea menor a 25 millones.\n",
        "\n"
      ]
    },
    {
      "cell_type": "markdown",
      "metadata": {
        "id": "ynbzx9a2Mttx"
      },
      "source": [
        "\n",
        "De click **aquí** para ver la respuesta.\n",
        "\n",
        "<!---\n",
        "# No esperaba verte tan rápido aquí :(\n",
        "\n",
        "La respuesta correcta es (2). (1) es incorrecta porque el VaR no da la probabilidad de perder una cifra específica. (3) Es incorrecto porque el VaR no es un valor \"esperado\" (promedio) sino una pérdida mínima   \n",
        "\n",
        "--->"
      ]
    },
    {
      "cell_type": "markdown",
      "metadata": {
        "id": "-bOk5r9rJ9aM"
      },
      "source": [
        "### 1.1. Ventajas del VaR\n",
        "\n",
        "- Concepto Simple\n",
        "- Fácil de comunicar\n",
        "- Permite hacer comparaciones de riesgo\n",
        "- Ampliamente aceptado por reguladores."
      ]
    },
    {
      "cell_type": "markdown",
      "metadata": {
        "id": "kYt5t6VOPStx"
      },
      "source": [
        "### 1.2. Limitaciones del VaR\n",
        "\n",
        "- Subestima la frecuencia de eventos extremos\n",
        "- No toma en cuenta la liquidez del portafolio (la iliquidez puede exacerbar las pérdidas)\n",
        "- Vulnerable a regímenes de volatilidad\n",
        "- Malentendidos: El VaR no es una medida de peor escenario, las pérdidas pueden exceder el VaR."
      ]
    },
    {
      "cell_type": "markdown",
      "metadata": {
        "id": "XpZypSRK4CG6"
      },
      "source": [
        "### 1.3. Estimación paramétrica del VaR (método varianza-covarianza) \n",
        "\n",
        "También conocido como el método analítico comienza con una descomposición de riesgo de los componentes del portafolio. Típicamente asume la distribución normal. Solo requiere como insumos:\n",
        "\n",
        "- El retorno esperado de los componentes\n",
        "- La desviación estandar de cada componente.\n",
        "\n",
        "Para lograrlo usaremos el concepto de distribución normal estándar $z$. Si tenemos un serie de retornos $R$ podemos convertirla a su distribución $z$ equivalente con la transformación:\n",
        "\n",
        "$$ z=\\frac{R-\\mu}{\\sigma}$$\n",
        "\n",
        "Así, la fórmula en forma cerrada del VaR Normal sería:\n",
        "\n",
        "$$VaR_{\\alpha}(R) = \\mu - \\sigma N^{-1}(\\alpha)$$\n"
      ]
    },
    {
      "cell_type": "code",
      "execution_count": null,
      "metadata": {},
      "outputs": [],
      "source": [
        "!pip install yfinance"
      ]
    },
    {
      "cell_type": "code",
      "execution_count": null,
      "metadata": {
        "colab": {
          "base_uri": "https://localhost:8080/",
          "height": 481
        },
        "id": "cu9LC3jK4QIC",
        "outputId": "23ede956-ec4e-4ee7-c0fb-e625800a81ea"
      },
      "outputs": [],
      "source": [
        "#Calculo del VaR para un solo activo\n",
        "\n",
        "#Importamos las librerias necesarias\n",
        "import pandas as pd\n",
        "import numpy as np\n",
        "import warnings\n",
        "warnings.simplefilter(action='ignore', category=FutureWarning)\n",
        "import matplotlib.pyplot as plt\n",
        "from matplotlib import mlab\n",
        "import datetime as dt\n",
        "from matplotlib import style\n",
        "pd.core.common.is_list_like = pd.api.types.is_list_like\n",
        "import pandas_datareader as web\n",
        "from scipy.stats import norm\n",
        "import yfinance as yf\n",
        "\n",
        "#Descargamos la data para la acción de Google en las siguientes fechas\n",
        "df = yf.download('GOOG', '2010-01-01','2019-01-31')\n",
        "print(\"-----------------------------------------------\")\n",
        "print(\"Data para Google proveniente de Yahoo Finance\")\n",
        "#Conservamos solo el precio de cierre\n",
        "df = df[['Close']]\n",
        "print(df.head(3))\n",
        "\n",
        "#Calculamos los retornos\n",
        "df['returns'] = df.Close.pct_change()\n",
        "\n",
        "# Usamos numpy para calcular el retorno diario esperado\n",
        "mean = np.mean(df['returns'])\n",
        "#Usamos numpy para calcular desviación estandar de los retornos diarios\n",
        "std_dev = np.std(df['returns'])\n",
        "df['returns'].hist(bins=40, histtype='stepfilled', alpha=0.5)\n",
        "plt.title(\"Distribución retornos Google\")\n",
        "plt.show()\n",
        "\n",
        "#Calculamos el VaR con el inverso de la función\n",
        "# de densidad acumulada normal usando el metodo\n",
        "# ppf() \"percentil point function\"\n",
        "VaR_10 = norm.ppf(1-0.9, mean, std_dev)\n",
        "VaR_5 = norm.ppf(1-0.95, mean, std_dev)\n",
        "VaR_1 = norm.ppf(1-0.99, mean, std_dev)\n",
        "\n",
        "print('VaR 10%  (90% Confidence level):   ', VaR_10)\n",
        "print('VaR 5% (95% Confidence Level):   ', VaR_5)\n",
        "print('VaR 1% (99% Confidence Level):   ', VaR_1)\n"
      ]
    },
    {
      "cell_type": "markdown",
      "metadata": {
        "id": "xOVcAajeaw7a"
      },
      "source": [
        "El ejemplo calcula el VaR a un día, cómo podemos extender el resultado a un periodo de tiempo más amplio partiendo de los retornos diarios? Asuma un portafolio con valor de 30 millones.\n",
        "\n",
        "\n",
        "Esto podemos lograrlo multiplicando el VaR a un día por la raíz cuadrada del número de días que queremos extenderlo"
      ]
    },
    {
      "cell_type": "code",
      "execution_count": null,
      "metadata": {
        "colab": {
          "base_uri": "https://localhost:8080/",
          "height": 414
        },
        "id": "ujG-w-DbbIgy",
        "outputId": "dfe03afa-75a7-4773-a058-3fc8a2dc93fc"
      },
      "outputs": [],
      "source": [
        "# Calcular el VaR n-dias\n",
        "var_array = []\n",
        "num_days = int(30)\n",
        "for x in range(1, num_days+1):    \n",
        "    z=var_array.append(np.round(VaR_5 * np.sqrt(x)*-1*30,2))\n",
        "    if x%5==0:\n",
        "      print(str(x) + \" dia VaR @ 5%: \" + str(np.round(VaR_5 * np.sqrt(x)*-1*30,2)))\n",
        "\n",
        "# Gráfica\n",
        "plt.xlabel(\"Dia #\")\n",
        "plt.ylabel(\"Maxima perdida del portafolio\")\n",
        "plt.title( \"VaR en periodo de 30 días\")\n",
        "plt.plot(var_array, \"r\")"
      ]
    },
    {
      "cell_type": "markdown",
      "metadata": {
        "id": "yd1GQmkkW-Ex"
      },
      "source": [
        "### Ejercicio 2\n",
        "\n",
        "Partiendo desde la misma fecha inicial del ejercicio anterior, añada información de la acción de Google hasta el día de ayer. Luego calcule el VaR 1% , VaR 5% y VaR 10%. Ha aumentado el riesgo del activo al incluir las observaciones de este año?\n"
      ]
    },
    {
      "cell_type": "code",
      "execution_count": null,
      "metadata": {
        "id": "kC0GL_I3VPkD"
      },
      "outputs": [],
      "source": [
        "#Desarrolle aqui su ejercicio"
      ]
    },
    {
      "cell_type": "markdown",
      "metadata": {
        "id": "nLQ6TIf1XtgW"
      },
      "source": [
        "\n",
        "De click **aquí** para ver la respuesta.\n",
        "\n",
        "<!---\n",
        "# No esperaba verte tan rápido aquí :(\n",
        "\n",
        "#Importamos las librerias necesarias\n",
        "import pandas as pd\n",
        "import numpy as np\n",
        "import matplotlib.pyplot as plt\n",
        "from matplotlib import mlab\n",
        "import datetime as dt\n",
        "from matplotlib import style\n",
        "pd.core.common.is_list_like = pd.api.types.is_list_like\n",
        "import pandas_datareader as web\n",
        "from scipy.stats import norm\n",
        "import fix_yahoo_finance as yf\n",
        "\n",
        "#Descargamos la data para la acción de Google en las siguientes fechas\n",
        "df = yf.download('GOOG', '2010-01-01','2020-09-17')\n",
        "print(\"-----------------------------------------------\")\n",
        "print(\"Data para Google proveniente de Yahoo Finance\")\n",
        "#Conservamos solo el precio de cierre\n",
        "df = df[['Close']]\n",
        "print(df.head(3))\n",
        "\n",
        "#Calculamos los retornos\n",
        "df['returns'] = df.Close.pct_change()\n",
        "\n",
        "# Usamos numpy para calcular el retorno diario esperado\n",
        "mean = np.mean(df['returns'])\n",
        "#Usamos numpy para calcular desviación estandar de los retornos diarios\n",
        "std_dev = np.std(df['returns'])\n",
        "df['returns'].hist(bins=40, histtype='stepfilled', alpha=0.5)\n",
        "plt.title(\"Distribución retornos Google\")\n",
        "plt.show()\n",
        "\n",
        "#Calculamos el VaR con el inverso de la función\n",
        "# de densidad acumulada normal usando el metodo\n",
        "# ppf() \"percentil point function\"\n",
        "VaR_90 = norm.ppf(1-0.9, mean, std_dev)\n",
        "VaR_95 = norm.ppf(1-0.95, mean, std_dev)\n",
        "VaR_99 = norm.ppf(1-0.99, mean, std_dev)\n",
        "\n",
        "print('VaR 10%  (90% Confidence level):   ', VaR_90)\n",
        "print('VaR 5% (95% Confidence Level):   ', VaR_95)\n",
        "print('VaR 1% (99% Confidence Level):   ', VaR_99)\n",
        "\n",
        "--->"
      ]
    },
    {
      "cell_type": "markdown",
      "metadata": {
        "id": "xiqF7OV5X8Y1"
      },
      "source": [
        "### Ejercicio 3\n",
        "\n",
        "Asuma un portafolio con retorno esperado de 0.0384% y una desviación estandar de 0.9960%, cuál de los siguientes valores se aproxima mas a un VaR del 1% para un portafolio de 300 millones de COP.\n",
        "\n",
        "a) 6.8 millones COP\n",
        "\n",
        "b) 4.8 millones COP\n",
        "\n",
        "c) 2.8 millones COP\n"
      ]
    },
    {
      "cell_type": "code",
      "execution_count": null,
      "metadata": {
        "id": "RP4LVxmaX5LP"
      },
      "outputs": [],
      "source": [
        "#Desarrolle aqui su ejercicio\n"
      ]
    },
    {
      "cell_type": "markdown",
      "metadata": {
        "id": "FHjiP-wC2_9z"
      },
      "source": [
        "### 1.4. VaR histórico (No paramétrico)\n",
        "\n",
        "Simulemos a partir de una distribución normal los retornos de 10 activos hipotéticos\n",
        "\n"
      ]
    },
    {
      "cell_type": "code",
      "execution_count": null,
      "metadata": {
        "colab": {
          "base_uri": "https://localhost:8080/",
          "height": 296
        },
        "id": "sjAp1h_y3o-M",
        "outputId": "32ea9769-7519-44cf-dbb5-f932e112a4c2"
      },
      "outputs": [],
      "source": [
        "import pandas as pd\n",
        "import numpy as np\n",
        "import matplotlib.pyplot as plt\n",
        "\n",
        "# mu = 0.01, std = 0.10, 1000 dias, 10 activos\n",
        "mu = 0.01\n",
        "sigma = 0.10\n",
        "dias = 1000\n",
        "num_assets = 10\n",
        "\n",
        "returns = np.random.normal(mu, sigma, (dias, num_assets))\n",
        "\n",
        "# Nombres Hipoteticos\n",
        "names = ['Asset %s' %i  for i in range(num_assets)]\n",
        "\n",
        "# Metemos los retornos en un dataframe\n",
        "returns = pd.DataFrame(returns, columns=names)\n",
        "\n",
        "# Grafica de los 50 primeros dias\n",
        "plt.plot(returns.head(50))\n",
        "plt.xlabel('Dias')\n",
        "plt.ylabel('Retorno')"
      ]
    },
    {
      "cell_type": "code",
      "execution_count": null,
      "metadata": {
        "id": "h2vZR0Rc3FoR"
      },
      "outputs": [],
      "source": [
        "weights = np.ones((10, 1))\n",
        "# Normalizamos los pesos\n",
        "weights = weights / np.sum(weights)\n",
        "\n",
        "def value_at_risk(value_invested, returns, weights, alpha=0.05, lookback_days=520):\n",
        "    returns = returns.fillna(0.0)\n",
        "    # Multiplicamos los retornos en la ventana seleccionada por los pesos para obtener un retorno ponderado\n",
        "    portfolio_returns = returns.iloc[-lookback_days:].dot(weights)\n",
        "    # Buscamos el percentil adecuado en el vector de retornos y lo multiplicamos por el valor invertido\n",
        "    return np.percentile(portfolio_returns, 100 * (alpha)) * value_invested"
      ]
    },
    {
      "cell_type": "markdown",
      "metadata": {
        "id": "f_YBHiKY3L-9"
      },
      "source": [
        "Calculemos el VaR para $\\alpha = 0.05$."
      ]
    },
    {
      "cell_type": "code",
      "execution_count": null,
      "metadata": {
        "colab": {
          "base_uri": "https://localhost:8080/",
          "height": 34
        },
        "id": "NCsmIKrV3LXP",
        "outputId": "317ac8c5-7248-4ef7-b7f3-44d5807284ac"
      },
      "outputs": [],
      "source": [
        "value_invested = 1000000\n",
        "\n",
        "value_at_risk(value_invested, returns, weights, alpha=0.05)"
      ]
    },
    {
      "cell_type": "markdown",
      "metadata": {
        "id": "mjf2uZ886LF4"
      },
      "source": [
        "Interpretamos este resultado como:  históricamente no más del 5% de los dias resultaron en pérdidas más extremas que este valor."
      ]
    },
    {
      "cell_type": "markdown",
      "metadata": {
        "id": "N66ZYa8i7f2M"
      },
      "source": [
        "### 1.5. Conditional Value at Risk (CVaR): ¿Qué pasa si los retornos no son normales?\n",
        "\n",
        "El CVaR es considerado como una mejora del VaR, ya que toma en cuenta la forma de la distribución de los retornos. También se le conoce como Expected Shortfall, y no es otra cosa que el valor esperado de todas las diferentes pérdidas mayores al VaR.\n",
        "\n",
        "### Valor esperado (Repaso)\n",
        "\n",
        "Suponga un dado justo. Cada número es igual de probable. El concepto de valor esperado escrito como $\\mathrm{E}(X)$, hace referencia al valor que se obtendría al considerar todos los eventos posibles. Para obtenerlo solo basta multiplicar cada evento por su probabilidad de ocurrencia y luego sumar estos valores,  es decir, estamos ponderando probabilidades:\n",
        "\n",
        "$$1/6 \\times 1 + 1/6 \\times 2 + 1/6 \\times 3 + 1/6 \\times 4 + 1/6 \\times 5 + 1/6 \\times 6 =  3.5$$\n",
        "\n",
        "Cuando los posibles resultados son continuos utilizamos la integración. Esta sería la formula del CVar:\n",
        "\n",
        "$$CVaR_{\\alpha}(x) \\approx \\frac{1}{(1-\\alpha)} \\int_{f(x,y) \\geq VaR_{\\alpha}(x)} f(x,y)p(y)dy dx$$"
      ]
    },
    {
      "cell_type": "code",
      "execution_count": null,
      "metadata": {
        "id": "-dXAewBU3OHR"
      },
      "outputs": [],
      "source": [
        "def cvar(value_invested, returns, weights, alpha=0.05, lookback_days=520):\n",
        "    # LLamamos a nuestra función de VaR basico\n",
        "    var = value_at_risk(value_invested, returns, weights, alpha, lookback_days=lookback_days)\n",
        "    returns = returns.fillna(0.0)\n",
        "    portfolio_returns = returns.iloc[-lookback_days:].dot(weights)\n",
        "    \n",
        "    # Encontramos un ratio en lugar de una perdida monetaria\n",
        "    var_pct_loss = var / value_invested\n",
        "    \n",
        "    #Promediamos luego los retornos menores al var_pct_loss\n",
        "    return value_invested * np.nanmean(portfolio_returns[portfolio_returns < var_pct_loss])"
      ]
    },
    {
      "cell_type": "markdown",
      "metadata": {
        "id": "J1JbyYdH-2t_"
      },
      "source": [
        "Comparemos los cálculos para nuestro ejercicio anterior"
      ]
    },
    {
      "cell_type": "code",
      "execution_count": null,
      "metadata": {
        "colab": {
          "base_uri": "https://localhost:8080/",
          "height": 34
        },
        "id": "2sVthtS8-zVv",
        "outputId": "96ac1d2b-4ebf-41d7-e769-79c0e38a7331"
      },
      "outputs": [],
      "source": [
        "cvar(value_invested, returns, weights, lookback_days=500)"
      ]
    },
    {
      "cell_type": "code",
      "execution_count": null,
      "metadata": {
        "colab": {
          "base_uri": "https://localhost:8080/",
          "height": 34
        },
        "id": "Dfb-71Yt-zu-",
        "outputId": "be22db76-09e4-41db-9429-752996765365"
      },
      "outputs": [],
      "source": [
        "value_at_risk(value_invested, returns, weights, lookback_days=500)"
      ]
    },
    {
      "cell_type": "markdown",
      "metadata": {
        "id": "Ibedjpis_F-y"
      },
      "source": [
        "El CVaR es mayor porque captura mas información acerca de la forma de la distribución (momentos). Si las colas tienen más masa va a capturar ese fenómeno\n",
        "\n"
      ]
    },
    {
      "attachments": {},
      "cell_type": "markdown",
      "metadata": {},
      "source": [
        "### 1.6. Caso adicional: EWMA\n",
        "\n",
        "**EWMA (Media Móvil Exponencialmente Ponderada)** es una técnica estadística que se puede utilizar en el análisis de Value at Risk (VaR) para estimar la volatilidad de los rendimientos de un activo a lo largo del tiempo.\n",
        "\n",
        "Primero, se recolecta los datos históricos de los retornos del activo. Supongamos que deseas estimar el VaR para una cartera de una unica acción. \n",
        "\n",
        "Calculamos los log-returns diarios de la accion utilizando la siguiente fórmula:\n",
        "$log-return_{t} = ln(price_{t}) - ln(price_{t-1})$,\n",
        "\n",
        "\n",
        "Calculamos la volatilidad diaria de los rendimientos de la acción utilizando EWMA. La fórmula para EWMA es:\n",
        "$\\sigma^{2}_{t} = \\lambda \\cdot \\sigma^{2}_{t-1} + (1-\\lambda)(r_{t-1}-\\mu)^{2}$,\n",
        "donde $\\sigma^{2}_{t}$ es la estimación de la volatilidad en el momento t, $\\lambda$ es el parámetro de decaimiento (una constante entre 0 y 1), $$r_{t-1} es el rendimiento diario en el momento t-1, y $\\mu$ es la media de los rendimientos durante el período de tiempo.\n",
        "\n",
        "Así, podemos calcular la volatilidad anualizada utilizando la siguiente fórmula:\n",
        "volatilidad anualizada = $\\sqrt(252)$*volatilidad diaria\n",
        "\n",
        "Para calcuñlar  el VaR utilizando la volatilidad anualizada necesitamos a su vez el nivel de confianza deseado. Por ejemplo, si se busca calcular el VaR del 99%, multiplicamos la volatilidad anualizada por 2.33 (el z-score para el percentil 99 de la distribución normal estándar) y luego  ese resultado por el valor de la cartera.\n",
        "\n"
      ]
    },
    {
      "cell_type": "code",
      "execution_count": 16,
      "metadata": {},
      "outputs": [
        {
          "name": "stdout",
          "output_type": "stream",
          "text": [
            "[*********************100%***********************]  1 of 1 completed\n",
            "-----------------------------------------------\n",
            "Data para Google proveniente de Yahoo Finance\n",
            "                 Open       High        Low      Close  Adj Close     Volume\n",
            "Date                                                                        \n",
            "2010-01-04  15.615220  15.678981  15.547723  15.610239  15.610239   78541293\n",
            "2010-01-05  15.620949  15.637387  15.480475  15.541497  15.541497  120638494\n",
            "2010-01-06  15.588072  15.588072  15.102393  15.149715  15.149715  159744526\n",
            "The estimated VaR at the 99% confidence level is: 715561.5314118258\n"
          ]
        }
      ],
      "source": [
        "import numpy as np\n",
        "import pandas as pd\n",
        "from scipy.stats import norm\n",
        "#Importamos las librerias necesarias\n",
        "import warnings\n",
        "warnings.simplefilter(action='ignore', category=FutureWarning)\n",
        "import matplotlib.pyplot as plt\n",
        "from matplotlib import mlab\n",
        "import datetime as dt\n",
        "from matplotlib import style\n",
        "pd.core.common.is_list_like = pd.api.types.is_list_like\n",
        "import pandas_datareader as web\n",
        "from scipy.stats import norm\n",
        "import yfinance as yf\n",
        "\n",
        "#Descargamos la data para la acción de Google en las siguientes fechas\n",
        "df = yf.download('GOOG', '2010-01-01','2019-01-31')\n",
        "print(\"-----------------------------------------------\")\n",
        "print(\"Data para Google proveniente de Yahoo Finance\")\n",
        "#Conservamos solo el precio de cierre\n",
        "returns_df = df[['Close']].reset_index()\n",
        "print(df.head(3))\n",
        "\n",
        "# Set the decay parameter lambda\n",
        "lambda_param = 0.94\n",
        "\n",
        "# Calculate the daily log-returns\n",
        "returns_df['log_returns'] = np.log(returns_df['Close']) - np.log(returns_df['Close'].shift(1))\n",
        "returns_df=returns_df.dropna()\n",
        "# Calculate the mean of the returns\n",
        "mu = returns_df['log_returns'].mean()\n",
        "\n",
        "# Initialize the volatility estimate\n",
        "returns_df['volatility'] = 0.0\n",
        "\n",
        "# Calculate the daily volatility using EWMA\n",
        "for i in range(2, len(returns_df)):\n",
        "    returns_df.loc[i, 'volatility'] = np.sqrt(lambda_param * returns_df.loc[i-1, 'volatility']**2 + (1-lambda_param) * (returns_df.loc[i-1, 'log_returns'] - mu)**2)\n",
        "\n",
        "# Calculate the annualized volatility\n",
        "annualized_volatility = np.sqrt(252) * returns_df['volatility'].iloc[-2]\n",
        "\n",
        "# Calculate the VaR at the 99% confidence level\n",
        "z_score = norm.ppf(0.99)\n",
        "portfolio_value = 1000000\n",
        "VaR = portfolio_value * annualized_volatility * z_score\n",
        "\n",
        "print(\"The estimated VaR at the 99% confidence level is:\", VaR)\n"
      ]
    },
    {
      "cell_type": "markdown",
      "metadata": {
        "id": "fKnolYpKA16n"
      },
      "source": [
        "# 2.0 Backtesting de  estrategias de Trading\n",
        "<p><a name=\"backtesting\"></a></p>\n",
        "\n",
        "[[Contenidos]](#contents)\n",
        "\n",
        "Podemos definir al Backtesting como el método general para ver que tan bien se desempeña una estrategia o modelo desde una perspectiva ex-post. El Backtesting permite ademas valorar la viabilidad de una estrategia de trading al descubrir cómo le hubiese ido usando data histórica. Si un  backtesting funciona, los traders y analistas pueden tener  confianza para implementar la estrategia  analizada.\n"
      ]
    },
    {
      "cell_type": "markdown",
      "metadata": {
        "id": "8wWhlP8ZLAj1"
      },
      "source": [
        "## 2.1 Death Cross and Golden Cross \n",
        "\n",
        "<p><img alt=\"comparison  logo\" width=\"450\" height=\"280\" src=\"https://www.investopedia.com/thmb/LilaVqIIg0eWGiqKbj6Bf9pYcss=/1575x0/filters:no_upscale():max_bytes(150000):strip_icc():format(webp)/2018-12-14-DeathCross-5c13eaf0c9e77c00013499e4.png\"\n",
        "\" align=\"center\" hspace=\"10px\" vspace=\"0px\"></p>\n",
        "\n",
        "Un \"Death Cross\" occurre cuando la media móvil de 50 días de un indice o acción cae por debajo de su media móvil de 200 días, esto suele conllevar un retroceso en la tendencia de largo plazo para el activo. Veamos un ejemplo de como evaluar una estrategia de trading basada en esta señal para invertir.\n",
        "\n"
      ]
    },
    {
      "cell_type": "code",
      "execution_count": 17,
      "metadata": {
        "id": "iQ0GclZsBAJM"
      },
      "outputs": [
        {
          "name": "stdout",
          "output_type": "stream",
          "text": [
            "[*********************100%***********************]  1 of 1 completed\n"
          ]
        }
      ],
      "source": [
        "#Importamos las librerias necesarias\n",
        "import pandas as pd\n",
        "import numpy as np\n",
        "import matplotlib.pyplot as plt\n",
        "import datetime as dt\n",
        "import yfinance as yf\n",
        "from pandas_datareader import data\n",
        "tickers = ['^GSPC']\n",
        "\n",
        "# We would like all available data from 01/01/2000 until 12/31/2016.\n",
        "start_date = '2007-01-01'\n",
        "end_date = '2023-03-13'\n",
        "\n",
        "# User pandas_reader.data.DataReader to load the desired data. As simple as that.\n",
        "#spy = data.DataReader('^GSPC', 'yahoo', start_date, end_date)\n",
        "#Descargamos la data del SP500 utilizando Yahoo Finance las siguientes fechas\n",
        "spy = yf.download('^GSPC', '2007-01-01','2023-03-13')\n",
        "spy_bol=spy[[\"Close\"]].copy()\n",
        "spy_macd=spy[[\"Close\"]].copy()"
      ]
    },
    {
      "cell_type": "code",
      "execution_count": 18,
      "metadata": {
        "colab": {
          "base_uri": "https://localhost:8080/",
          "height": 701
        },
        "id": "Xr42bn-lHkHs",
        "outputId": "d3669fb8-80f7-447a-b54e-a2870115e281"
      },
      "outputs": [
        {
          "name": "stderr",
          "output_type": "stream",
          "text": [
            "C:\\Users\\juani\\AppData\\Local\\Temp/ipykernel_1684/2041404974.py:5: SettingWithCopyWarning: \n",
            "A value is trying to be set on a copy of a slice from a DataFrame.\n",
            "Try using .loc[row_indexer,col_indexer] = value instead\n",
            "\n",
            "See the caveats in the documentation: https://pandas.pydata.org/pandas-docs/stable/user_guide/indexing.html#returning-a-view-versus-a-copy\n",
            "  spy[\"ma_50\"]=spy.Close.rolling(window=50).mean()\n",
            "C:\\Users\\juani\\AppData\\Local\\Temp/ipykernel_1684/2041404974.py:6: SettingWithCopyWarning: \n",
            "A value is trying to be set on a copy of a slice from a DataFrame.\n",
            "Try using .loc[row_indexer,col_indexer] = value instead\n",
            "\n",
            "See the caveats in the documentation: https://pandas.pydata.org/pandas-docs/stable/user_guide/indexing.html#returning-a-view-versus-a-copy\n",
            "  spy[\"ma_200\"]=spy.Close.rolling(window=200).mean()\n"
          ]
        },
        {
          "ename": "ModuleNotFoundError",
          "evalue": "No module named 'plotly'",
          "output_type": "error",
          "traceback": [
            "\u001b[1;31m---------------------------------------------------------------------------\u001b[0m",
            "\u001b[1;31mModuleNotFoundError\u001b[0m                       Traceback (most recent call last)",
            "\u001b[1;32m~\\AppData\\Local\\Temp/ipykernel_1684/2041404974.py\u001b[0m in \u001b[0;36m<module>\u001b[1;34m\u001b[0m\n\u001b[0;32m      9\u001b[0m \u001b[1;33m\u001b[0m\u001b[0m\n\u001b[0;32m     10\u001b[0m \u001b[1;31m#Usamos plotly para graficar nuestras series\u001b[0m\u001b[1;33m\u001b[0m\u001b[1;33m\u001b[0m\u001b[0m\n\u001b[1;32m---> 11\u001b[1;33m \u001b[1;32mimport\u001b[0m \u001b[0mplotly\u001b[0m\u001b[1;33m.\u001b[0m\u001b[0mgraph_objects\u001b[0m \u001b[1;32mas\u001b[0m \u001b[0mgo\u001b[0m\u001b[1;33m\u001b[0m\u001b[1;33m\u001b[0m\u001b[0m\n\u001b[0m\u001b[0;32m     12\u001b[0m \u001b[1;33m\u001b[0m\u001b[0m\n\u001b[0;32m     13\u001b[0m \u001b[1;33m\u001b[0m\u001b[0m\n",
            "\u001b[1;31mModuleNotFoundError\u001b[0m: No module named 'plotly'"
          ]
        }
      ],
      "source": [
        "#Tomamos solamente el precio de cierre\n",
        "spy=spy[[\"Close\"]]\n",
        "\n",
        "# Calculamos diferentes medias moviles para el SPX \n",
        "spy[\"ma_50\"]=spy.Close.rolling(window=50).mean()\n",
        "spy[\"ma_200\"]=spy.Close.rolling(window=200).mean()\n",
        "\n",
        "\n",
        "\n",
        "#Usamos plotly para graficar nuestras series\n",
        "import plotly.graph_objects as go\n",
        "\n",
        "\n",
        "fig = go.Figure()\n",
        "fig.add_trace(go.Scatter(x=spy.index, y=spy.Close,\n",
        "                    name='SP500'))\n",
        "fig.add_trace(go.Scatter(x=spy.index, y=spy.ma_50,\n",
        "                      name='MA 50'))\n",
        "fig.add_trace(go.Scatter(x=spy.index, y=spy.ma_200,\n",
        "                      name='MA 200'))\n",
        "fig.update_layout(title='SP500 - DEATH CROSS',yaxis_title=\"Precio\")\n",
        "fig.show()\n"
      ]
    },
    {
      "cell_type": "code",
      "execution_count": null,
      "metadata": {
        "id": "-6SJu0d7Ln_6"
      },
      "outputs": [],
      "source": [
        "#Eliminamos aquellas fechas con NaN\n",
        "spy=spy.dropna()\n",
        "\n",
        "#Creamos nuestra señal para el death crossing\n",
        "# con la siguiente interpretación:\n",
        "# Signal= 1 , Long Position, Expuestos de forma positiva y directa al activo\n",
        "# Signal= -1, Short Position, Expuestas de forma negativa al activo\n",
        "\n",
        "\n",
        "spy['Signal'] = spy.apply(lambda row: 1 if row['ma_50'] > row['ma_200']  else -1, axis=1)\n",
        "\n",
        "#Calculamos el retorno del SP500  \n",
        "spy[\"return\"]=spy.Close.pct_change()\n",
        "# Calculamos el retorno acumulado de nuestra linea base: Buy And Hold\n",
        "spy[\"BuyAndHold\"]=spy[\"return\"].cumsum()\n",
        "\n",
        "#Calculamos el retorno acumulado de nuestra estrategia Long-Short con el death crossing\n",
        "spy[\"Strategy\"]=spy[\"return\"]*spy[\"Signal\"]\n",
        "spy[\"Strategy_cum\"]=spy[\"Strategy\"].cumsum()\n"
      ]
    },
    {
      "cell_type": "code",
      "execution_count": null,
      "metadata": {
        "colab": {
          "base_uri": "https://localhost:8080/",
          "height": 542
        },
        "id": "Ilvkq6xBQisB",
        "outputId": "89f9d7ac-1e17-4a0b-ec94-641a8c48bc16"
      },
      "outputs": [],
      "source": [
        "import plotly.graph_objects as go\n",
        "\n",
        "# Create random data with numpy\n",
        "fig = go.Figure()\n",
        "\n",
        "# Add traces\n",
        "fig.add_trace(go.Scatter(x=spy.index, y=spy.BuyAndHold,\n",
        "                    name='Buy And Hold'))\n",
        "fig.add_trace(go.Scatter(x=spy.index, y=spy.Strategy_cum,\n",
        "                      name='Strategy'))\n",
        "fig.update_layout(title='Desempeño Estrategia',yaxis_title=\"Retorno Acumulado\")\n",
        "\n",
        "fig.show()"
      ]
    },
    {
      "attachments": {},
      "cell_type": "markdown",
      "metadata": {},
      "source": [
        "## 2.2 Bandas de Bollinger\n",
        "\n",
        "Las bandas de bollinger son un indicador de volatilidad que consta de un promedio móvil y dos desviaciones estándar trazadas arriba y abajo del promedio móvil. Cuando el precio se mueve fuera de la banda superior o inferior, puede indicar una posible reversión en la dirección. Las señales de compra se generan cuando el precio cae por debajo de la banda inferior y luego sube por encima de ella, y las señales de venta se generan cuando el precio sube por encima de la banda superior y luego cae por debajo de ella.\n",
        "\n",
        "<p><img alt=\"bollinger\" width=\"450\" height=\"280\" src=\"BollingerBandsESbasics.png\"\n",
        "\" align=\"center\" hspace=\"10px\" vspace=\"0px\"></p>"
      ]
    },
    {
      "cell_type": "code",
      "execution_count": 11,
      "metadata": {},
      "outputs": [
        {
          "data": {
            "image/png": "[encoded data removed]",
            "text/plain": [
              "<Figure size 720x432 with 1 Axes>"
            ]
          },
          "metadata": {
            "needs_background": "light"
          },
          "output_type": "display_data"
        }
      ],
      "source": [
        "import pandas as pd\n",
        "import matplotlib.pyplot as plt\n",
        "\n",
        "# Create sample DataFrame\n",
        "df = spy_bol.copy()\n",
        "df[\"Date\"]=df.index\n",
        "\n",
        "# Calculate 20-day rolling mean and standard deviation\n",
        "df['MA20'] = df['Close'].rolling(window=20).mean()\n",
        "df['STD20'] = df['Close'].rolling(window=20).std()\n",
        "\n",
        "# Calculate upper and lower bands\n",
        "df['UpperBand'] = df['MA20'] + 2 * df['STD20']\n",
        "df['LowerBand'] = df['MA20'] - 2 * df['STD20']\n",
        "\n",
        "# Create signals based on price crossing upper or lower band\n",
        "df['Signal'] = None\n",
        "df.loc[df['Close'] > df['UpperBand'], 'Signal'] = -1\n",
        "df.loc[df['Close'] < df['LowerBand'], 'Signal'] = 1\n",
        "\n",
        "# Plot price, bands, and signals\n",
        "fig, ax = plt.subplots(figsize=(10, 6))\n",
        "ax.plot(df['Date'], df['Close'], label='Price')\n",
        "ax.plot(df['Date'], df['MA20'], label='MA20')\n",
        "ax.fill_between(df['Date'], df['UpperBand'], df['LowerBand'], alpha=0.2, label='Bollinger Bands')\n",
        "ax.plot(df.loc[df['Signal'] == -1, 'Date'], df.loc[df['Signal'] == -1, 'Close'], 'rv', markersize=10, label='Sell Signal')\n",
        "ax.plot(df.loc[df['Signal'] == 1, 'Date'], df.loc[df['Signal'] == 1, 'Close'], 'g^', markersize=10, label='Buy Signal')\n",
        "ax.legend(loc='best')\n",
        "plt.show()\n"
      ]
    },
    {
      "attachments": {},
      "cell_type": "markdown",
      "metadata": {},
      "source": [
        "## 2.3 MACD\n",
        "\n",
        "El MACD es un indicador de momento que sigue la tendencia y mide la relación entre dos medias móviles. Cuando la línea del MACD cruza por encima de la línea de señal, se genera una señal de compra, y cuando la línea del MACD cruza por debajo de la línea de señal, se genera una señal de venta.\n",
        "\n"
      ]
    },
    {
      "cell_type": "code",
      "execution_count": 15,
      "metadata": {},
      "outputs": [
        {
          "data": {
            "image/png": "[encoded data removed]",
            "text/plain": [
              "<Figure size 720x432 with 1 Axes>"
            ]
          },
          "metadata": {
            "needs_background": "light"
          },
          "output_type": "display_data"
        }
      ],
      "source": [
        "# Create sample DataFrame\n",
        "df = spy_macd.copy().iloc[-200:]\n",
        "df[\"Date\"]=df.index\n",
        "\n",
        "# Calculate 26-day and 12-day exponential moving averages\n",
        "df['EMA26'] = df['Close'].ewm(span=26).mean()\n",
        "df['EMA12'] = df['Close'].ewm(span=12).mean()\n",
        "\n",
        "# Calculate MACD line\n",
        "df['MACD'] = df['EMA12'] - df['EMA26']\n",
        "\n",
        "# Calculate 9-day signal line\n",
        "df['Signal'] = df['MACD'].ewm(span=9).mean()\n",
        "\n",
        "# Create signals based on MACD line crossing signal line\n",
        "df['Position'] = None\n",
        "df.loc[df['MACD'] > df['Signal'], 'Position'] = 1\n",
        "df.loc[df['MACD'] < df['Signal'], 'Position'] = -1\n",
        "\n",
        "# Plot price, MACD, signal line, and signals\n",
        "fig, ax = plt.subplots(figsize=(10, 6))\n",
        "ax.plot(df['Date'], df['Close'], label='Price')\n",
        "ax.plot(df['Date'], df['MACD'], label='MACD')\n",
        "ax.plot(df['Date'], df['Signal'], label='Signal Line')\n",
        "ax.plot(df.loc[df['Position'] == -1, 'Date'], df.loc[df['Position'] == -1, 'Close'], 'rv', markersize=10, label='Sell Signal')\n",
        "ax.plot(df.loc[df['Position'] == 1, 'Date'], df.loc[df['Position'] == 1, 'Close'], 'g^', markersize=10, label='Buy Signal')\n",
        "ax.legend(loc='best')\n",
        "plt.show()"
      ]
    },
    {
      "attachments": {},
      "cell_type": "markdown",
      "metadata": {},
      "source": [
        "## 2.4 Backtesting"
      ]
    },
    {
      "cell_type": "markdown",
      "metadata": {
        "id": "5V8VuKZaLOyy"
      },
      "source": [
        "Veamos unas metricas que nos permitan comparar la estrategia contra un enfoque de Buy And Hold en el mismo periodo de tiempo:\n",
        "\n"
      ]
    },
    {
      "cell_type": "code",
      "execution_count": 16,
      "metadata": {
        "id": "Hu651J-SODOD"
      },
      "outputs": [
        {
          "ename": "KeyError",
          "evalue": "\"None of [Index(['Strategy', 'return'], dtype='object')] are in the [columns]\"",
          "output_type": "error",
          "traceback": [
            "\u001b[1;31m---------------------------------------------------------------------------\u001b[0m",
            "\u001b[1;31mKeyError\u001b[0m                                  Traceback (most recent call last)",
            "\u001b[1;32m~\\AppData\\Local\\Temp/ipykernel_1684/3075879044.py\u001b[0m in \u001b[0;36m<module>\u001b[1;34m\u001b[0m\n\u001b[0;32m      4\u001b[0m      'trades negativos %']\n\u001b[0;32m      5\u001b[0m \u001b[1;33m\u001b[0m\u001b[0m\n\u001b[1;32m----> 6\u001b[1;33m \u001b[1;32mfor\u001b[0m \u001b[0mmetodo\u001b[0m \u001b[1;32min\u001b[0m \u001b[0mspy\u001b[0m\u001b[1;33m[\u001b[0m\u001b[1;33m[\u001b[0m\u001b[1;34m\"Strategy\"\u001b[0m\u001b[1;33m,\u001b[0m\u001b[1;34m\"return\"\u001b[0m\u001b[1;33m]\u001b[0m\u001b[1;33m]\u001b[0m\u001b[1;33m.\u001b[0m\u001b[0mcolumns\u001b[0m\u001b[1;33m:\u001b[0m\u001b[1;33m\u001b[0m\u001b[1;33m\u001b[0m\u001b[0m\n\u001b[0m\u001b[0;32m      7\u001b[0m   \u001b[1;31m#Volatilidad Anualizada de la Estrategia\u001b[0m\u001b[1;33m\u001b[0m\u001b[1;33m\u001b[0m\u001b[0m\n\u001b[0;32m      8\u001b[0m   \u001b[0mvol\u001b[0m\u001b[1;33m=\u001b[0m\u001b[0mnp\u001b[0m\u001b[1;33m.\u001b[0m\u001b[0mround\u001b[0m\u001b[1;33m(\u001b[0m\u001b[0mspy\u001b[0m\u001b[1;33m[\u001b[0m\u001b[0mmetodo\u001b[0m\u001b[1;33m]\u001b[0m\u001b[1;33m.\u001b[0m\u001b[0mstd\u001b[0m\u001b[1;33m(\u001b[0m\u001b[1;33m)\u001b[0m\u001b[1;33m*\u001b[0m\u001b[0mnp\u001b[0m\u001b[1;33m.\u001b[0m\u001b[0msqrt\u001b[0m\u001b[1;33m(\u001b[0m\u001b[1;36m252\u001b[0m\u001b[1;33m)\u001b[0m\u001b[1;33m*\u001b[0m\u001b[1;36m100\u001b[0m\u001b[1;33m,\u001b[0m\u001b[1;36m2\u001b[0m\u001b[1;33m)\u001b[0m\u001b[1;33m\u001b[0m\u001b[1;33m\u001b[0m\u001b[0m\n",
            "\u001b[1;32mc:\\ProgramData\\Anaconda3\\lib\\site-packages\\pandas\\core\\frame.py\u001b[0m in \u001b[0;36m__getitem__\u001b[1;34m(self, key)\u001b[0m\n\u001b[0;32m   3462\u001b[0m             \u001b[1;32mif\u001b[0m \u001b[0mis_iterator\u001b[0m\u001b[1;33m(\u001b[0m\u001b[0mkey\u001b[0m\u001b[1;33m)\u001b[0m\u001b[1;33m:\u001b[0m\u001b[1;33m\u001b[0m\u001b[1;33m\u001b[0m\u001b[0m\n\u001b[0;32m   3463\u001b[0m                 \u001b[0mkey\u001b[0m \u001b[1;33m=\u001b[0m \u001b[0mlist\u001b[0m\u001b[1;33m(\u001b[0m\u001b[0mkey\u001b[0m\u001b[1;33m)\u001b[0m\u001b[1;33m\u001b[0m\u001b[1;33m\u001b[0m\u001b[0m\n\u001b[1;32m-> 3464\u001b[1;33m             \u001b[0mindexer\u001b[0m \u001b[1;33m=\u001b[0m \u001b[0mself\u001b[0m\u001b[1;33m.\u001b[0m\u001b[0mloc\u001b[0m\u001b[1;33m.\u001b[0m\u001b[0m_get_listlike_indexer\u001b[0m\u001b[1;33m(\u001b[0m\u001b[0mkey\u001b[0m\u001b[1;33m,\u001b[0m \u001b[0maxis\u001b[0m\u001b[1;33m=\u001b[0m\u001b[1;36m1\u001b[0m\u001b[1;33m)\u001b[0m\u001b[1;33m[\u001b[0m\u001b[1;36m1\u001b[0m\u001b[1;33m]\u001b[0m\u001b[1;33m\u001b[0m\u001b[1;33m\u001b[0m\u001b[0m\n\u001b[0m\u001b[0;32m   3465\u001b[0m \u001b[1;33m\u001b[0m\u001b[0m\n\u001b[0;32m   3466\u001b[0m         \u001b[1;31m# take() does not accept boolean indexers\u001b[0m\u001b[1;33m\u001b[0m\u001b[1;33m\u001b[0m\u001b[0m\n",
            "\u001b[1;32mc:\\ProgramData\\Anaconda3\\lib\\site-packages\\pandas\\core\\indexing.py\u001b[0m in \u001b[0;36m_get_listlike_indexer\u001b[1;34m(self, key, axis)\u001b[0m\n\u001b[0;32m   1312\u001b[0m             \u001b[0mkeyarr\u001b[0m\u001b[1;33m,\u001b[0m \u001b[0mindexer\u001b[0m\u001b[1;33m,\u001b[0m \u001b[0mnew_indexer\u001b[0m \u001b[1;33m=\u001b[0m \u001b[0max\u001b[0m\u001b[1;33m.\u001b[0m\u001b[0m_reindex_non_unique\u001b[0m\u001b[1;33m(\u001b[0m\u001b[0mkeyarr\u001b[0m\u001b[1;33m)\u001b[0m\u001b[1;33m\u001b[0m\u001b[1;33m\u001b[0m\u001b[0m\n\u001b[0;32m   1313\u001b[0m \u001b[1;33m\u001b[0m\u001b[0m\n\u001b[1;32m-> 1314\u001b[1;33m         \u001b[0mself\u001b[0m\u001b[1;33m.\u001b[0m\u001b[0m_validate_read_indexer\u001b[0m\u001b[1;33m(\u001b[0m\u001b[0mkeyarr\u001b[0m\u001b[1;33m,\u001b[0m \u001b[0mindexer\u001b[0m\u001b[1;33m,\u001b[0m \u001b[0maxis\u001b[0m\u001b[1;33m)\u001b[0m\u001b[1;33m\u001b[0m\u001b[1;33m\u001b[0m\u001b[0m\n\u001b[0m\u001b[0;32m   1315\u001b[0m \u001b[1;33m\u001b[0m\u001b[0m\n\u001b[0;32m   1316\u001b[0m         if needs_i8_conversion(ax.dtype) or isinstance(\n",
            "\u001b[1;32mc:\\ProgramData\\Anaconda3\\lib\\site-packages\\pandas\\core\\indexing.py\u001b[0m in \u001b[0;36m_validate_read_indexer\u001b[1;34m(self, key, indexer, axis)\u001b[0m\n\u001b[0;32m   1372\u001b[0m                 \u001b[1;32mif\u001b[0m \u001b[0muse_interval_msg\u001b[0m\u001b[1;33m:\u001b[0m\u001b[1;33m\u001b[0m\u001b[1;33m\u001b[0m\u001b[0m\n\u001b[0;32m   1373\u001b[0m                     \u001b[0mkey\u001b[0m \u001b[1;33m=\u001b[0m \u001b[0mlist\u001b[0m\u001b[1;33m(\u001b[0m\u001b[0mkey\u001b[0m\u001b[1;33m)\u001b[0m\u001b[1;33m\u001b[0m\u001b[1;33m\u001b[0m\u001b[0m\n\u001b[1;32m-> 1374\u001b[1;33m                 \u001b[1;32mraise\u001b[0m \u001b[0mKeyError\u001b[0m\u001b[1;33m(\u001b[0m\u001b[1;34mf\"None of [{key}] are in the [{axis_name}]\"\u001b[0m\u001b[1;33m)\u001b[0m\u001b[1;33m\u001b[0m\u001b[1;33m\u001b[0m\u001b[0m\n\u001b[0m\u001b[0;32m   1375\u001b[0m \u001b[1;33m\u001b[0m\u001b[0m\n\u001b[0;32m   1376\u001b[0m             \u001b[0mnot_found\u001b[0m \u001b[1;33m=\u001b[0m \u001b[0mlist\u001b[0m\u001b[1;33m(\u001b[0m\u001b[0mensure_index\u001b[0m\u001b[1;33m(\u001b[0m\u001b[0mkey\u001b[0m\u001b[1;33m)\u001b[0m\u001b[1;33m[\u001b[0m\u001b[0mmissing_mask\u001b[0m\u001b[1;33m.\u001b[0m\u001b[0mnonzero\u001b[0m\u001b[1;33m(\u001b[0m\u001b[1;33m)\u001b[0m\u001b[1;33m[\u001b[0m\u001b[1;36m0\u001b[0m\u001b[1;33m]\u001b[0m\u001b[1;33m]\u001b[0m\u001b[1;33m.\u001b[0m\u001b[0munique\u001b[0m\u001b[1;33m(\u001b[0m\u001b[1;33m)\u001b[0m\u001b[1;33m)\u001b[0m\u001b[1;33m\u001b[0m\u001b[1;33m\u001b[0m\u001b[0m\n",
            "\u001b[1;31mKeyError\u001b[0m: \"None of [Index(['Strategy', 'return'], dtype='object')] are in the [columns]\""
          ]
        }
      ],
      "source": [
        "metricas={}\n",
        "label={\"Strategy\":\"Strategy\",\"return\":\"BuyAndHold\"}\n",
        "idx=['volatilidad','Retorno Mensual Promedio',\"Ratio Sharpe\",'% meses +','+/- ratios meses','trades positivos %',\n",
        "     'trades negativos %']\n",
        "\n",
        "for metodo in spy[[\"Strategy\",\"return\"]].columns:\n",
        "  #Volatilidad Anualizada de la Estrategia\n",
        "  vol=np.round(spy[metodo].std()*np.sqrt(252)*100,2)\n",
        "  #Retorno Mensual Promedio de la Estrategia\n",
        "  avgret=np.round(spy[metodo].groupby(spy.index.strftime('%Y-%m')).sum().mean()*100,2)\n",
        "  #Ratio de Sharpe\n",
        "  sharpe=np.round((spy[metodo].mean()/spy[metodo].std())*np.sqrt(252),2)\n",
        "  # Porcentaje de meses con retornos positivos\n",
        "  posret=np.round(np.sum(spy[metodo].groupby(spy.index.strftime('%Y-%m')).sum()>0)/\n",
        "                  len(spy[metodo].groupby(spy.index.strftime('%Y-%m')).sum()),2)\n",
        "  # Ratio de meses positivos/ meses negativos\n",
        "  pnratio=np.round(posret/(100-posret),3)\n",
        "  #trades positivos\n",
        "  trades_pos=np.round(len(spy.loc[spy[metodo]>0])/len(spy[metodo]),3)\n",
        "  #trades negativos\n",
        "  trades_neg=np.round(len(spy.loc[spy[metodo]<0])/len(spy[metodo]),3)\n",
        "\n",
        "  metricas[label[metodo]]=[vol,avgret,sharpe,posret,pnratio,trades_pos,trades_neg]\n",
        "dfm=pd.DataFrame(metricas)\n",
        "dfm[\"metrica\"]=idx\n"
      ]
    },
    {
      "cell_type": "code",
      "execution_count": null,
      "metadata": {
        "colab": {
          "base_uri": "https://localhost:8080/",
          "height": 266
        },
        "id": "sqvcLiRlNrcz",
        "outputId": "61b0e4f4-004c-4873-9e7e-a38ee6869019"
      },
      "outputs": [],
      "source": [
        "dfm"
      ]
    },
    {
      "attachments": {},
      "cell_type": "markdown",
      "metadata": {
        "id": "fTu79hGqecQK"
      },
      "source": [
        "### Ejercicio 4: Concurso\n",
        "\n",
        "Escoja un periodo de tiempo distinto en el cual probar si alguna de las estrategias estudiadas genera resutados distintos (mejores) al compararlo contra el BuyAndHold. Muestre la gráfica de retornos acumulados además de la tabla resumen de métricas.\n",
        "\n",
        "\n"
      ]
    },
    {
      "cell_type": "code",
      "execution_count": null,
      "metadata": {
        "id": "c7zM5JFuVEuK"
      },
      "outputs": [],
      "source": [
        "#Desarrolle aqui su ejercicio"
      ]
    },
    {
      "cell_type": "markdown",
      "metadata": {
        "id": "CzbD4nmXh-6F"
      },
      "source": [
        "<p><a name=\"interes\"></a></p>\n",
        "\n",
        "# 3.0 Modelos de Tasas de Interés\n",
        "\n",
        "[[Contenidos]](#contents)\n",
        "\n",
        "A la hora de implementar estrategias en portafolios con activos de renta fija (Deuda Privada, Deuda Pública, Treasuries Americanos, Bunds Alemanes, etc..) hay dos actividades fundamentales que debe realizar: La primera es determinar si los bonos vendidos o comprados estan siendo valorados a un precio justo, la segunda, determinar el desempeño de su portafolio bajo distintos escenarios de tasas de interés. Para ambas actividades se hace útil la aplicación de modelos de tasas de interés.\n",
        "\n",
        "Los modelos de tasas de interés son una descripción estadistica de como las tasas pueden cambiar en el tiempo\n"
      ]
    },
    {
      "cell_type": "markdown",
      "metadata": {
        "id": "FdclecTKLQz4"
      },
      "source": [
        "## 3.1. Un proceso estocástico de tiempo continuo básico\n",
        "\n",
        "Empecemos con un modelo básico para la tasa de interés de corto plazo $r$ utilizando la siguiente especificación:\n",
        "\n",
        "$$dr=b\\cdot dt+\\sigma \\cdot dz $$\n",
        "\n",
        "Donde:\n",
        "+ $r$ : Representa la tasa de interés de corto plazo, por tanto $dr$ denota sus cambios\n",
        "+ $dz$ : denota un proceso aleatorio\n",
        "+ $\\sigma$ : desviación estándar de los cambios en la tasa de corto plazo (término de volatilidad)\n",
        "+ $b$ : Dirección esperada del cambio en la tasa (drift)\n",
        "\n",
        "Antes de continuar la formulación anterior requiere enunciar 3 supuestos:\n",
        "\n",
        "+ La variable $z$ sigue una distribución normal de media cero y desviación estándar de 1.\n",
        "+ El cambio en $r$ es proporcional al valor del término de volatilidad.\n",
        "+ Los cambios de $r$ entre dos periodos de tiempo son independientes"
      ]
    },
    {
      "cell_type": "markdown",
      "metadata": {
        "id": "meT-yenWOpCy"
      },
      "source": [
        "Podemos mejorar nuestro modelo básico al incorporar cierta racionalidad economica al cambiar las dinámicas de nuestros parametros haciendolos depender del nivel de $r$ como también del tiempo. Así nuestro modelo pasaria a ser:\n",
        "\n",
        "$$dr=b(r,t)\\cdot dt+\\sigma(r,t) \\cdot dz $$\n",
        "\n"
      ]
    },
    {
      "cell_type": "markdown",
      "metadata": {
        "id": "33WwkDVoQK3x"
      },
      "source": [
        "## 3.2. Especificando la dinámica del drift\n",
        "\n",
        "Vamos a definir el drift como un proceso de **reversión a la media**, es decir, asumimos un valor promedio estable de largo plazo $\\bar{r}$ . De esta forma si $r > \\bar{r}$  la dirección del cambio va a moverse hacia $\\bar{r}$ y viceversa.  El parametro  $\\alpha$ corresponde así  a la **velocidad de ajuste** a la que $r$ converge a $\\bar{r}$\n",
        " \n",
        "$$b(r,t)=-\\alpha (r- \\bar{r})$$"
      ]
    },
    {
      "cell_type": "markdown",
      "metadata": {
        "id": "SyUEEHvLSymO"
      },
      "source": [
        "## 3.3. Especificando la dinámica del término de volatilidad\n",
        "\n",
        "Hay tres especificaciones bastante usadas por la literatura:\n",
        "\n",
        "+ Especificación de Vasicek: $\\sigma(r,t)=\\sigma$\n",
        "+ Especificación de Dothan: $\\sigma(r,t)=\\sigma r$\n",
        "+ Especificación de Cox-Ingersoll-Ross (CIR): $\\sigma(r,t)=\\sigma \\sqrt{r}$\n",
        "\n",
        "\n",
        "De esta forma un modelo CIR completo puede escribirse\n",
        "\n",
        "$$dr= -\\alpha (r- \\bar{r})dt+\\sigma \\sqrt{r}dz$$"
      ]
    },
    {
      "cell_type": "markdown",
      "metadata": {
        "id": "B2_WwVaJxtc4"
      },
      "source": [
        "## 3.4 Aplicaciones\n",
        "\n",
        "Los bonos de renta fija suelen dividirse en bonos con cupón y bonos de cupón cero. Los primeros identifican aquellos documentos mediante los cuales el emisor se compromete a pagar al inversionista o tenedor del mismo una suma fija, denominada cupón, en los períodos señalados en el prospecto de emisión del título y un valor final, denominado principal o valor facial , al momento del vencimiento.\n",
        "\n",
        " Los bonos de cupón cero, por su parte, identifican aquellos\n",
        "títulos mediante los cuales se pacta un solo pago final sin ningún pago periódico intermedio.\n",
        "\n",
        "El plazo de maduración (term to maturity) es el número de años en los cuales el\n",
        "emisor del bono promete realizar los pagos pactados incluyendo el correspondiente al principal. De esta manera, el plazo de maduración identifica la fecha en la cual desaparecen las obligaciones del emisor.\n",
        "\n",
        "El precio de un bono es igual al valor presente del flujo de caja esperado. Esto\n",
        "implica la necesidad de calcular un rendimiento requerido, el cual refleja el rendimiento de instrumentos financieros de riesgo similar o de inversiones alternativas.\n",
        "\n",
        "La estructura a plazo de la tasa de interés es la relación entre los rendimientos de\n",
        "títulos con similar calidad crediticia, regularmente libres de riesgo, pero con diferente\n",
        "período de maduración. La representación gráfica de la estructura a plazo de las tasas de\n",
        "interés se conoce como curva de rendimientos (yield curve).\n",
        "\n",
        "<p><img alt=\"comparison  logo\" width=\"450\" height=\"280\" src=\"\n",
        "https://cdn.statically.io/img/www.rgaia.com/wp-content/uploads/2016/03/22016.jpg?quality=100&f=auto\"\n",
        "\" align=\"center\" hspace=\"10px\" vspace=\"0px\"></p>\n",
        "\n"
      ]
    },
    {
      "cell_type": "markdown",
      "metadata": {
        "id": "DWbAMauAva7e"
      },
      "source": [
        "Los modelos de Vasicek y CIR son modelos de estructura a plazos de equilibrio ( Equilibrium Term Strucutre), esta asignación se da ya que son modelos que buscan describir la dinámica de la estructura a plazos de la tasa de interés usando variables económicas fundamentales para explicar el comportamiento de las tasas. Algunas característcias de estos modelos son:\n",
        "\n",
        "+ Modelos de un único factor:  Un solo factor observable (variable estado) explica todos los movimientos de la curva.\n",
        "+ Se introducen supuestos sobre el comportamiento de los factores (reversión a la media)\n",
        "+ Requieren pocos parámetros para la estimación"
      ]
    },
    {
      "cell_type": "markdown",
      "metadata": {
        "id": "2GlDzUKgxrvN"
      },
      "source": [
        "Veamos una implementación en python para simular el proceso de Vasicek\n",
        "\n",
        "$$dr= -\\alpha (r- \\bar{r})dt+\\sigma dz$$\n"
      ]
    },
    {
      "cell_type": "code",
      "execution_count": null,
      "metadata": {
        "id": "YSZg6NjoinJ8"
      },
      "outputs": [],
      "source": [
        "#Simulación de una realización (path) de  tasas de interés usando el modelo de Vasicek\n",
        "import numpy as np\n",
        "def vasicek(r0, alpha, r_bar, sigma, T=1., N=10, seed=123):\n",
        "  np.random.seed(seed)\n",
        "  dt = T/float(N)\n",
        "  rates = [r0]\n",
        "  for i in range(N):\n",
        "    #Calculamos dr con la especificación de Vasicek\n",
        "    dr = -alpha*(rates[-1]-r_bar)*dt + sigma*np.random.normal()\n",
        "\n",
        "    rates.append(rates[-1] + dr)\n",
        "    \n",
        "  return range(N+1), rates"
      ]
    },
    {
      "cell_type": "code",
      "execution_count": null,
      "metadata": {
        "colab": {
          "base_uri": "https://localhost:8080/",
          "height": 265
        },
        "id": "7Ptvl6KbJO-f",
        "outputId": "50ad2cd9-85e0-4590-869c-f205f7e01d05"
      },
      "outputs": [],
      "source": [
        "#Hagamos uns simulacion con los siguientes parametros\n",
        "# r_0=0.01875\n",
        "# alpha= 0.2\n",
        "# r_bar=0.01\n",
        "# sigma=0.012\n",
        "# Numero de periodos=200\n",
        "\n",
        "import matplotlib.pyplot as plt\n",
        "x, y = vasicek(0.01875, 0.20, 0.01, 0.012, 10., 200)\n",
        "\n",
        "plt.plot(x,y)\n",
        "plt.show()"
      ]
    },
    {
      "cell_type": "markdown",
      "metadata": {
        "id": "Mb26_I5CKNwd"
      },
      "source": [
        "Observe que el modelo de Vasicek permite tener tasas de interés negativas"
      ]
    },
    {
      "cell_type": "markdown",
      "metadata": {
        "id": "TN1xFPOzKTc2"
      },
      "source": [
        "### Ejercicio 5\n",
        "\n",
        "Grafique primero una simulación de Vasicek con una velocidad de ajuste cercana a 1 y luego una con un velocidad de ajuste cercana a 0 con todos los demás parámetros iguales\n",
        "\n",
        "Interprete los resultados\n"
      ]
    },
    {
      "cell_type": "code",
      "execution_count": null,
      "metadata": {
        "id": "aEEqdKU9KLQg"
      },
      "outputs": [],
      "source": [
        "#Desarrolle aqui su ejercicio"
      ]
    },
    {
      "cell_type": "markdown",
      "metadata": {
        "id": "ziKwZZbxLM1-"
      },
      "source": [
        "### Ejercicio 6\n",
        "\n",
        "Basandose en el codigo del modelo de Vasicek defina una función para el modelo CIR\n",
        "\n",
        "$$dr= -\\alpha (r- \\bar{r})dt+\\sigma \\sqrt{r}dz$$"
      ]
    },
    {
      "cell_type": "code",
      "execution_count": null,
      "metadata": {
        "id": "SJEbLa99KIWK"
      },
      "outputs": [],
      "source": [
        "#Desarrolle aqui su ejercicio\n",
        "\n"
      ]
    },
    {
      "cell_type": "markdown",
      "metadata": {
        "id": "fUXNiYbBMcV-"
      },
      "source": [
        "De click **aquí** para ver la respuesta.\n",
        "\n",
        "<!---\n",
        "# No esperaba verte tan rápido aquí :(\n",
        "\n",
        "#Simulación de una realización (path) de  tasas de interés usando el modelo de Vasicek\n",
        "import numpy as np\n",
        "import math\n",
        "\n",
        "def cir(r0, alpha, r_bar, sigma, T=1., N=10, seed=123):\n",
        "  np.random.seed(seed)\n",
        "  dt = T/float(N)\n",
        "  rates = [r0]\n",
        "  for i in range(N):\n",
        "    #Calculamos dr con la especificación de Vasicek\n",
        "    dr = -alpha*(rates[-1]-r_bar)*dt + sigma*math.sqrt(rates[-1])*np.random.normal()\n",
        "\n",
        "    rates.append(rates[-1] + dr)\n",
        "    \n",
        "  return range(N+1), rates\n",
        "\n",
        "--->"
      ]
    },
    {
      "cell_type": "markdown",
      "metadata": {
        "id": "nCb04joWModo"
      },
      "source": [
        "### Ejercicio 7\n",
        "\n",
        "Grafique su función del modelo CIR con los siguientes parametros\n",
        "\n",
        "$$cir(r_0=0.01875,\\alpha= 0.20, \\bar{r}=0.01, \\sigma=0.012, T=10., N=200)$$"
      ]
    },
    {
      "cell_type": "code",
      "execution_count": null,
      "metadata": {
        "id": "dEzvZNA1Lqug"
      },
      "outputs": [],
      "source": [
        "#Desarrolle aqui su ejercicio\n"
      ]
    },
    {
      "cell_type": "markdown",
      "metadata": {
        "id": "ZG-SVRGGNKjS"
      },
      "source": [
        "De click **aquí** para ver la respuesta.\n",
        "\n",
        "<!---\n",
        "# No esperaba verte tan rápido aquí :(\n",
        "\n",
        "import matplotlib.pyplot as plt\n",
        "x, y = cir(0.01875, 0.20, 0.01, 0.012, 10., 200)\n",
        "\n",
        "plt.plot(x,y)\n",
        "plt.show()\n",
        "\n",
        "--->"
      ]
    },
    {
      "cell_type": "markdown",
      "metadata": {
        "id": "L6CUoydANj0K"
      },
      "source": [
        "Construyamos ahora una estimación de la estructura a plazos de la tasa de interés"
      ]
    },
    {
      "cell_type": "code",
      "execution_count": null,
      "metadata": {
        "id": "22oFXhGwNGer"
      },
      "outputs": [],
      "source": [
        "import numpy as np\n",
        "#Valoracion de un bono cero cupon utilizando Vasicek\n",
        "def zcb(r_bar, alpha, sigma, tau, r0=0.):\n",
        "  B = (1 - np.exp(-alpha*tau)) / alpha\n",
        "  A = np.exp((r_bar-(sigma**2)/(2*(alpha**2))) *(B-tau) - (sigma**2)/(4*alpha)*(B**2))\n",
        "  return A * np.exp(-r0*B)\n",
        "\n"
      ]
    },
    {
      "cell_type": "code",
      "execution_count": null,
      "metadata": {
        "colab": {
          "base_uri": "https://localhost:8080/",
          "height": 295
        },
        "id": "giDji8aWQds1",
        "outputId": "59ab2ac6-609d-4058-b8cc-13418138d2ac"
      },
      "outputs": [],
      "source": [
        "Ts = np.r_[0.0:25.5:0.5] #Concatenación de arrays en el primer indice\n",
        "\n",
        "zcbs = [zcb(0.5, 0.02, 0.03, t, 0.015) for t in Ts]\n",
        "\n",
        "import matplotlib.pyplot as plt\n",
        "plt.title(\"Valor del Bono Cero Cupón\")\n",
        "plt.plot(Ts, zcbs, label='Cero Cupón')\n",
        "plt.ylabel(\"Valor\")\n",
        "plt.xlabel(\"Tiempo en  Años\")\n",
        "plt.legend()\n",
        "plt.grid(True)\n",
        "plt.show()"
      ]
    },
    {
      "cell_type": "code",
      "execution_count": null,
      "metadata": {
        "colab": {
          "base_uri": "https://localhost:8080/",
          "height": 349
        },
        "id": "mQOoNl_DSWqq",
        "outputId": "69416960-6012-49b9-e3a7-628078fc4f6d"
      },
      "outputs": [],
      "source": [
        "# extraemos la yield con la funcion yield\n",
        "def  yieldc(r_bar, alpha, sigma, tau, r0=0.):\n",
        "  B = (1 - np.exp(-alpha*tau)) / alpha\n",
        "  A = np.exp((r_bar-(sigma**2)/(2*(alpha**2))) *(B-tau) - (sigma**2)/(4*alpha)*(B**2))\n",
        "  return -1*math.log(A * np.exp(-r0*B))\n",
        "\n",
        "Ts = np.r_[0.0:20.5:0.5]\n",
        "\n",
        "yields = [yieldc(0.5, 0.02, 0.03, t, 0.015)/t for t in Ts]\n",
        "\n",
        "import matplotlib.pyplot as plt\n",
        "plt.title(\"Estructura a plazo\")\n",
        "plt.plot(Ts, yields, label='Yield')\n",
        "plt.ylabel(\"Yield\")\n",
        "plt.xlabel(\"Tiempo en  Años\")\n",
        "plt.legend()\n",
        "plt.grid(True)\n",
        "plt.show()"
      ]
    },
    {
      "cell_type": "markdown",
      "metadata": {
        "id": "QLWZAHYPUkac"
      },
      "source": [
        "# 4.0  Riesgo de Concentración de Posiciones\n",
        "<p><a name=\"risk\"></a></p>\n",
        "No sobra recalcar la importancia de diversificar los riesgos al momento de tomar decisiones de inversión. Al concentrar sus posiciones en solo unos pocos activos podria impactarse negativamente el portafolio como un todo.\n",
        "\n",
        "En esta sección vamos a ver como la diversificación ayuda  a reducir el riesgo total en un portafolio. \n",
        "\n",
        "Un principio básico de la construcción de portafolios es la búsqueda de apuestas independientes, es decir, la toma de posiciones en activos no correlacionados. Recordemos que la voltilidad suele ser medida como la desviación estándar de la serie de retornos y que el riesgo de un portafolio suele entenderse como la volatilidad pasada del portafolio.\n"
      ]
    },
    {
      "cell_type": "markdown",
      "metadata": {
        "id": "tkD-osbr9cll"
      },
      "source": [
        "## 4.1: Inversión en un solo activo\n",
        "\n",
        "Simulemos un conjunto de activos a partir de una distribución normal\n",
        "."
      ]
    },
    {
      "cell_type": "code",
      "execution_count": null,
      "metadata": {
        "colab": {
          "base_uri": "https://localhost:8080/",
          "height": 295
        },
        "id": "kXRded-4VMbz",
        "outputId": "3b25d5c0-7540-4903-ce2c-38688022a782"
      },
      "outputs": [],
      "source": [
        "import pandas as pd\n",
        "import numpy as np\n",
        "\n",
        "import matplotlib.pyplot as plt\n",
        "\n",
        "# Array de retornos , 100 observaciones\n",
        "R_1 = np.random.normal(1.01, 0.03, 100)\n",
        "#Array de retornos geometricos acumulados (Precio)\n",
        "A_1 = np.cumprod(R_1)\n",
        "P = A_1\n",
        "plt.plot(P)\n",
        "plt.title(\"Simulacion R_1\")\n",
        "plt.xlabel('Tiempo')\n",
        "plt.ylabel('Precio');"
      ]
    },
    {
      "cell_type": "markdown",
      "metadata": {
        "id": "CgXMln6j-MyP"
      },
      "source": [
        "En este caso estamos completamente expuestos al comportamiento del activo"
      ]
    },
    {
      "cell_type": "markdown",
      "metadata": {
        "id": "AyeDiJF3-HZm"
      },
      "source": [
        "## 4.2.: Inversión en varios activos correlacionados entre sí\n",
        "\n",
        "Aunque para este caso ya aumentamos nuestro universo de activos, aún existe una correlación no despreciable entre los retornos. Para simular esta correlación hacemos que los activos desde 2 hasta N sean: el activo 1 + ruido."
      ]
    },
    {
      "cell_type": "code",
      "execution_count": null,
      "metadata": {
        "colab": {
          "base_uri": "https://localhost:8080/",
          "height": 649
        },
        "id": "OXi97eYY-HZn",
        "outputId": "1392160e-3c6f-4b37-dafb-a0daa4bff649"
      },
      "outputs": [],
      "source": [
        "# N indica el numero de activos en nuestro portafolio\n",
        "N = 10\n",
        "\n",
        "#Generamos un array de zeros para 10 Activos y 100 Observaciones\n",
        "# tanto para los retornos como para los precios\n",
        "returns = np.zeros((N, 100))\n",
        "assets = np.zeros((N, 100))\n",
        "\n",
        "#Simulamos los retornos del activo 1 a partir de una simulación\n",
        "R_1 = np.random.normal(1.01, 0.03, 100)\n",
        "returns[0] = R_1\n",
        "assets[0] = np.cumprod(R_1)\n",
        "fig=plt.figure(figsize=(10,8))\n",
        "plt.plot(assets[0], alpha=0.1)\n",
        "\n",
        "# Con un ciclo comenzamos a generar los  retornos\n",
        "# de los demas activos\n",
        "for i in range(1, N):\n",
        "    R_i = R_1 + np.random.normal(0.001, 0.01, 100)\n",
        "    returns[i] = R_i\n",
        "    assets[i] = np.cumprod(R_i)\n",
        "    \n",
        "    plt.plot(assets[i], alpha=0.22)\n",
        "\n",
        "#Calculamos la senda del retorno promedio de N activos\n",
        "# En este caso el retorno promedio coincide con \n",
        "# el retorno del portafolio porque son equiponderados w= 1/N\n",
        "R_P = np.mean(returns, axis=0)\n",
        "P = np.mean(assets, axis=0)\n",
        "\n",
        "\n",
        "\n",
        "plt.plot(P,color=\"orangered\")\n",
        "plt.xlabel('Tiempo')\n",
        "\n",
        "plt.title(\"Diversificación a través de N activos\")\n",
        "plt.ylabel('Precio');\n",
        "\n",
        "print ('Volatilidades Individuales')\n",
        "print([np.round(np.std(R),4) for R in returns])\n",
        "print(\"--------------------------\")\n",
        "print ('Volatilidad promedio de los activos')\n",
        "print (np.mean([np.round(np.std(R),4) for R in returns]))\n",
        "print(\"--------------------------\")\n",
        "print ('Volatilidad del Portafolio')\n",
        "print (np.round(np.std(R_P),4))"
      ]
    },
    {
      "cell_type": "markdown",
      "metadata": {
        "id": "2HGGiLaE-HZ3"
      },
      "source": [
        "## 4.3.  Inversión en varios activos no correlacionados\n",
        "\n",
        "En este caso generamos los activos de manera independiente"
      ]
    },
    {
      "cell_type": "code",
      "execution_count": null,
      "metadata": {
        "colab": {
          "base_uri": "https://localhost:8080/",
          "height": 633
        },
        "id": "l71eKybn-HZ5",
        "outputId": "42106ac4-cec7-4567-fee7-bf3c79097e91"
      },
      "outputs": [],
      "source": [
        "#N representa el número de activos\n",
        "N = 10\n",
        "\n",
        "#Creamos los arrays de los retornos y los precios\n",
        "assets = np.zeros((N, 100))\n",
        "returns = np.zeros((N, 100))\n",
        "\n",
        "#Con este ciclo generamos de forma independiente los N activos\n",
        "fig=plt.figure(figsize=(10,8))\n",
        "for i in range(N):\n",
        "    R_i = np.random.normal(1.01, 0.03, 100)\n",
        "    returns[i] = R_i\n",
        "    assets[i] = np.cumprod(R_i)\n",
        "    \n",
        "    plt.plot(assets[i], alpha=0.25)\n",
        "\n",
        "#Calculamos la senda del retorno promedio de N activos\n",
        "# En este caso el retorno promedio coincide con \n",
        "# el retorno del portafolio porque son equiponderados w= 1/N\n",
        "R_P = np.mean(returns, axis=0)\n",
        "P = np.mean(assets, axis=0)\n",
        "plt.plot(P,color=\"orangered\")\n",
        "plt.xlabel('Tiempo')\n",
        "plt.ylabel('Precio')\n",
        "\n",
        "\n",
        "print ('Volatilidades Individuales')\n",
        "print([np.round(np.std(R),4) for R in returns])\n",
        "print(\"--------------------------\")\n",
        "print ('Volatilidad promedio de los activos')\n",
        "print (np.mean([np.round(np.std(R),4) for R in returns]))\n",
        "print(\"--------------------------\")\n",
        "print ('Volatilidad del Portafolio')\n",
        "print (np.round(np.std(R_P),4))\n",
        "\n",
        "\n"
      ]
    },
    {
      "cell_type": "markdown",
      "metadata": {
        "id": "QYNKmubp-HaN"
      },
      "source": [
        "Analicemos este resultado. Poseer más activos no correlacionados suaviza el comportamiento de nuestro portafolio. Cuando un activo sube,  son menos propensos a subir también, así los comovimientos en un mismo sentido son menos probables. Además, entre más activos poseamos más vamos a reducir la volatilidad. Veamos cómo:"
      ]
    },
    {
      "cell_type": "code",
      "execution_count": null,
      "metadata": {
        "colab": {
          "base_uri": "https://localhost:8080/",
          "height": 388
        },
        "id": "xhv5zVVR-HaP",
        "outputId": "4b8740d9-7fff-4b4c-f36e-ea644aa3c2f9"
      },
      "outputs": [],
      "source": [
        "#Creamos un array para almacenar las volatilidades\n",
        "portfolio_volatilities_by_size = np.zeros((100,1))\n",
        "\n",
        "#Iteramos por tamaño del portafolio: con un activo,\n",
        "# con dos activos, así hasta un portafolio de 100 activos\n",
        "for N in range(1,100):\n",
        "\n",
        "    assets = np.zeros((N, 100))\n",
        "    returns = np.zeros((N, 100))\n",
        "\n",
        "    for i in range(N):\n",
        "        R_i = np.random.normal(1.01, 0.03, 100)\n",
        "        returns[i] = R_i\n",
        "\n",
        "    R_P = np.mean(returns, axis=0)\n",
        "\n",
        "    portfolio_volatilities_by_size[N] = np.std(R_P)\n",
        "fig=plt.figure(figsize=(8,6))    \n",
        "plt.plot(portfolio_volatilities_by_size)\n",
        "plt.xlabel('Tamaño del portafolio No correlacionados')\n",
        "plt.ylabel('Volatilidad del portafolio');"
      ]
    },
    {
      "cell_type": "markdown",
      "metadata": {
        "id": "89t4jTSk-Had"
      },
      "source": [
        "## Algunas Restricciones en la vida real\n",
        "\n",
        "Debido a los costos de transacción se hace imposible llevar el concepto de diversificación más allá de unos cientos de activos.\n"
      ]
    },
    {
      "attachments": {},
      "cell_type": "markdown",
      "metadata": {},
      "source": [
        "## 4.3.  Analisis de Riesgos: Enfoque marginal\n",
        "\n",
        "Ya vimos como la diversificacion tiene impactos sobre el riesgo total, veamos como podemos entender la diversificacion desde una perspectiva marginal (derivadas).Para eso debemos partir desde la formulación matricial de la varianza de un portafolio."
      ]
    },
    {
      "attachments": {},
      "cell_type": "markdown",
      "metadata": {
        "id": "CEg9BLlJ-Hau"
      },
      "source": [
        "Podemos extender la idea de un portafolio compuesto por\n",
        " $n$ activos relativamente simple. Aquí tenemos la forma general de la varianza de un portafolio con $n$ activos:\n",
        "\n",
        "$$ \\sigma_p^2 = \\sum_i \\omega_i^2 \\sigma_i^2 + \\sum_i\\sum_{j\\neq i} \\omega_i\\omega_j\\sigma_i\\sigma_j\\rho_{ij}, \\ i, j \\in \\lbrace 1,\\ldots, n\\rbrace $$\n",
        "\n",
        "Que podemos expresar en un forma matricial como:\n",
        "\n",
        "$$ \\sigma_p^2 = w^{T}\\Sigma w $$\n",
        "\n",
        "\n"
      ]
    },
    {
      "attachments": {},
      "cell_type": "markdown",
      "metadata": {},
      "source": [
        "Para encontrar el efecto marginal de un activo sobre el riesgo total entendido como la desviacion estandar de un portafolio debemos tomar derivadas parciales, asi la contribucion marginal de cada posicion podemos entenderla como:\n",
        "\n",
        "$$z_{i}=w_{i} \\cdot \\frac{\\partial std }{\\partial w_{i}}$$\n",
        "\n",
        "reemplazando tenemos\n",
        "$$z_{i}=w_{i} \\cdot \\frac{\\partial \\sqrt{w^{T}\\Sigma w} }{\\partial w_{i}}$$\n",
        "\n",
        "$$z_{i}=w_{i} \\cdot \\frac{ w^{T}\\Sigma  }{\\sqrt{w^{T}\\Sigma w}}$$\n",
        "\n",
        "Siendo $\\frac{ w^{T}\\Sigma  }{\\sqrt{w^{T}\\Sigma w}}$ una matriz 1xN que mide el riesgo marginal por unidad de posicionamiento. "
      ]
    },
    {
      "attachments": {},
      "cell_type": "markdown",
      "metadata": {},
      "source": [
        "Veamos una implementación sencilla en python"
      ]
    },
    {
      "cell_type": "code",
      "execution_count": 1,
      "metadata": {},
      "outputs": [
        {
          "data": {
            "text/plain": [
              "array([ 0.1417764 , -0.01538337, -0.03466408])"
            ]
          },
          "execution_count": 1,
          "metadata": {},
          "output_type": "execute_result"
        }
      ],
      "source": [
        "import numpy as np\n",
        "\n",
        "#Vector de pesos\n",
        "w=np.array([0.9, 0.1,0.1])\n",
        "\n",
        "# Retornos artificiales\n",
        "x = np.array([0.1, 0.2, 0.3, 0.4, 0.5])\n",
        "y = np.array([0.5, 0.4, 0.3, 0.22, 0.1])\n",
        "z=np.array([0.35, 0.14, 0, -0.2, -0.6])\n",
        "\n",
        "# Combinamos los retornos\n",
        "data = np.vstack((x, y, z))\n",
        "\n",
        "# Calculamos la matriz de covarianzaS\n",
        "cov_matrix = np.cov(data)\n",
        "\n",
        "\n",
        "def acte(w,cov_matrix):\n",
        "    \"\"\"returns the vector of marginal contribution risk\n",
        "\n",
        "    Args:\n",
        "        w (_type_): _description_\n",
        "        covar (_type_): _description_\n",
        "    \"\"\"\n",
        "    marginal_result = np.dot(w, cov_matrix)\n",
        "    variance= np.dot(np.dot(w, cov_matrix),w.T)\n",
        "    margin_risk=np.dot(w, cov_matrix)/np.sqrt(variance)\n",
        "    acte=w*margin_risk\n",
        "\n",
        "\n",
        "    return acte\n",
        "acte=acte(w,cov_matrix)\n",
        "acte"
      ]
    },
    {
      "attachments": {},
      "cell_type": "markdown",
      "metadata": {},
      "source": [
        "Veamos un analisis de sensibilidad para una unica variable"
      ]
    },
    {
      "cell_type": "code",
      "execution_count": 11,
      "metadata": {},
      "outputs": [
        {
          "data": {
            "image/png": "[encoded data removed]",
            "text/plain": [
              "<Figure size 640x480 with 1 Axes>"
            ]
          },
          "metadata": {},
          "output_type": "display_data"
        }
      ],
      "source": [
        "import numpy as np\n",
        "import matplotlib.pyplot as plt\n",
        "\n",
        "# Retornos artificiales\n",
        "x = np.array([0.1, 0.2, 0.3, 0.4, 0.5])\n",
        "y = np.array([0.5, 0.4, 0.3, 0.22, 0.1])\n",
        "z = np.array([0.35, 0.14, 0, -0.2, -0.6])\n",
        "\n",
        "# Combinamos los retornos\n",
        "data = np.vstack((x, y, z))\n",
        "\n",
        "# Calculamos la matriz de covarianza\n",
        "cov_matrix = np.cov(data)\n",
        "\n",
        "def acte(w, cov_matrix):\n",
        "    \"\"\"returns the vector of marginal contribution risk\n",
        "\n",
        "    Args:\n",
        "        w (array): Vector of weights\n",
        "        cov_matrix (array): Covariance matrix\n",
        "    \"\"\"\n",
        "    variance = np.dot(np.dot(w, cov_matrix), w.T)\n",
        "    margin_risk = np.dot(w, cov_matrix) / np.sqrt(variance)\n",
        "    acte = w * margin_risk\n",
        "    return acte\n",
        "\n",
        "n_points = 50\n",
        "weights = np.linspace(0, 1, n_points)\n",
        "acte_results = []\n",
        "\n",
        "for w1 in weights:\n",
        "    for w2 in weights:\n",
        "        w3 = 1 - w1 - w2\n",
        "        if w3 >= 0:\n",
        "            w = np.array([w1, w2, w3])\n",
        "            acte_result = acte(w, cov_matrix)\n",
        "    acte_results.append(acte_result[0])       \n",
        "\n",
        "acte_results = np.array(acte_results)\n",
        "\n",
        "# Plot the results\n",
        "fig, ax = plt.subplots()\n",
        "#ax.scatter(acte_results[:, 0], acte_results[:, 1], alpha=0.5)\n",
        "ax.plot(weights,acte_results)\n",
        "ax.set_xlabel('w1')\n",
        "ax.set_ylabel('ACTE')\n",
        "plt.show()\n"
      ]
    },
    {
      "cell_type": "markdown",
      "metadata": {
        "id": "o_-vtzvuqr8m"
      },
      "source": [
        "## Ejercicio 8\n",
        "\n",
        "Seleccione al menos 2 de los siguientes fondos mutuos para construir un portafolio equiponderado vigente desde el primero de enero de 2017 a la fecha de ayer. \n",
        "\n",
        "+ \"DVEM\": WisdomTree Emerging Markets ESG Fund\n",
        "\n",
        "+ \"ICVT\": iShares Convertible Bond ETF\n",
        "\n",
        "+ \"JHMI\": John Hancock Multifactor Industrials ETF\n",
        "\n",
        "+ \"PSCH\": Invesco S&P SmallCap Health Care ETF\n",
        "\n",
        "+ \"ASHR\": Xtrackers Harvest CSI 300 China A-Shares ETF\n",
        "\n",
        "+ \"IAU\": iShares Gold Trust\n",
        "\n",
        "+ \"IHY\": VanEck Vectors International High Yield Bond ETF\n",
        "\n",
        "Calcule la volatilidad de cada uno de los activos seleccionados, la volatilidad promedio de sus activos y la volatilidad del portafolio construido.\n",
        "\n",
        "Finalmente grafique la rentabilidad acumulada geométrica de su portafolio propuesto contra el SP500\n"
      ]
    },
    {
      "cell_type": "code",
      "execution_count": null,
      "metadata": {
        "colab": {
          "base_uri": "https://localhost:8080/",
          "height": 252
        },
        "id": "zBZ7snrZsCtv",
        "outputId": "006ae634-281e-461c-e708-e1eeaa234e02"
      },
      "outputs": [],
      "source": [
        "# Pista 1\n",
        "# Como importar los precios de cierre de yahoo finance para varios tickers\n",
        "\n",
        "#librerias a importar\n",
        "from pandas_datareader import data as pdr\n",
        "import yfinance as yf\n",
        "import datetime\n",
        "yf.pdr_override() \n",
        "\n",
        "#Tickers deseados\n",
        "tickers=[\"SPY\", \"AAPL\", \"MSFT\"]\n",
        "column_precio=[i+\"_Close\" for i in tickers]\n",
        "\n",
        "#Fechas de inicio y fin\n",
        "start = datetime.datetime(2012,5,31)\n",
        "end = datetime.datetime(2018,3,1)\n",
        "\n",
        "#Conexion a yahoo finance\n",
        "df = pdr.get_data_yahoo(tickers, start=start, end=end,group_by = 'ticker')\n",
        "\n",
        "# Renombramos columnas\n",
        "df.columns = ['_'.join(col) for col in df.columns]\n",
        "#Bos quedamos con aquellas columnas que tienen precio de cierre\n",
        "df_precios=df[column_precio]\n",
        "df_precios.head()\n"
      ]
    },
    {
      "cell_type": "code",
      "execution_count": null,
      "metadata": {
        "id": "G6o7cGy1L9dY"
      },
      "outputs": [],
      "source": [
        "#Desarrolle aqui su ejercicio\n"
      ]
    },
    {
      "cell_type": "markdown",
      "metadata": {
        "id": "w0ifyIiHvp2z"
      },
      "source": [
        "De click **aquí** para ver la respuesta.\n",
        "\n",
        "<!---\n",
        "# No esperaba verte tan rápido aquí :(\n",
        "\n",
        "#librerias a importar\n",
        "from pandas_datareader import data as pdr\n",
        "import fix_yahoo_finance as yf\n",
        "import datetime\n",
        "yf.pdr_override() \n",
        "\n",
        "#Tickers deseados\n",
        "tickers=[\"DVEM\",\"ICVT\",\"JHMI\",\"PSCH\",\"ASHR\",\"IAU\",\"IHY\",\"SPY\"]\n",
        "column_precio=[i+\"_Close\" for i in tickers]\n",
        "\n",
        "start = datetime.datetime(2017,1,1)\n",
        "end = datetime.datetime(2020,9,17)\n",
        "df = pdr.get_data_yahoo(tickers, start=start, end=end,group_by = 'ticker')\n",
        "df.columns = ['_'.join(col) for col in df.columns]\n",
        "df_precios=df[column_precio]\n",
        "\n",
        "df_retornos=df_precios.pct_change().dropna()\n",
        "df_retornos[\"retorno_port\"]=df_retornos[[\"DVEM_Close\",\"ICVT_Close\",\"JHMI_Close\",\"PSCH_Close\",\"ASHR_Close\",\"IAU_Close\",\"IHY_Close\"]].apply(np.mean,axis=1)\n",
        "print ('Volatilidades')\n",
        "print(df_retornos.std())\n",
        "print(\"--------------------------\")\n",
        "print ('Volatilidad promedio de los activos')\n",
        "print (df_retornos.iloc[:,:-1].std().mean())\n",
        "\n",
        "df_retornos[\"retorno_port_cum\"]=df_retornos[\"retorno_port\"]+1\n",
        "df_retornos[\"retorno_port_cumg\"]=df_retornos[\"retorno_port_cum\"].cumprod()\n",
        "df_retornos[\"SPY_cum\"]=df_retornos[\"SPY_Close\"]+1\n",
        "df_retornos[\"SPY_cumg\"]=df_retornos[\"SPY_cum\"].cumprod()\n",
        "\n",
        "######### GRAFICAS #########\n",
        "fig=plt.figure(figsize=(10,8))\n",
        "plt.plot(df_retornos.SPY_cumg,color=\"orangered\",label='SP500')\n",
        "plt.plot(df_retornos.retorno_port_cumg,label='Portafolio')\n",
        "plt.legend()\n",
        "plt.xlabel('Tiempo')\n",
        "plt.ylabel('Retorno')\n",
        "\n",
        "\n",
        "\n",
        "--->"
      ]
    },
    {
      "cell_type": "markdown",
      "metadata": {
        "id": "3bjDrTmjxPas"
      },
      "source": [
        "# 5.0 Beta Hedging\n",
        "<p><a name=\"beta\"></a></p>\n",
        "\n",
        "[[Contenidos]](#contents)"
      ]
    },
    {
      "cell_type": "markdown",
      "metadata": {
        "id": "Uuh5wDAaxogM"
      },
      "source": [
        "## 5.1 Factor Models\n",
        "\n",
        "Los Factor models (modelos de factores) son una técnica que permiten explicar los retornos de un activo como la combinación lineal de los retornos de otros activos. La forma general de un modelo de factores es \n",
        "\n",
        "$$Y = \\alpha + \\beta_1 X_1 + \\beta_2 X_2 + \\dots + \\beta_n X_n$$\n",
        "\n",
        "La cual se parece a la especificación de una regresión lineal múltiple. \n",
        "\n",
        "### ¿Qué es la Beta?\n",
        "\n",
        "La beta de un activo no es otra cosa que el coeficiente respectivo enunciado en la formulación anterior. Por ejemplo si hicieramos la regresión de AMZN contra el  S&P 500 usando el modelo  $Y_{AMZN} = \\alpha + \\beta X$ , entonces la exposición de  AMZN  contra el S&P 500 sería esa beta. Por otro lado, si usaramos el modelo  $Y_{AMZN} = \\alpha + \\beta_{1} X_{SPY} + \\beta_{2} X_{AAPL}$, tendriamos 2 betas, una de exposición al S&P 500 y otra que sería la exposición de AMZN a  AAPL.\n",
        "\n"
      ]
    },
    {
      "cell_type": "code",
      "execution_count": null,
      "metadata": {
        "id": "z0Ih5BYoxogP"
      },
      "outputs": [],
      "source": [
        "# Importamos las librerias necesarias\n",
        "import numpy as np\n",
        "from statsmodels import regression\n",
        "import statsmodels.api as sm\n",
        "import matplotlib.pyplot as plt\n",
        "import math\n",
        "from pandas_datareader import data as pdr\n",
        "import yfinance as yf\n",
        "import datetime\n",
        "yf.pdr_override() \n"
      ]
    },
    {
      "cell_type": "code",
      "execution_count": null,
      "metadata": {
        "colab": {
          "base_uri": "https://localhost:8080/",
          "height": 391
        },
        "id": "SgOQM1fwxogY",
        "outputId": "3dc2c1cd-13d9-4d59-db0d-53781676dce2"
      },
      "outputs": [],
      "source": [
        "# conseguimos la data necesaria\n",
        "\n",
        "\n",
        "#Tickers deseados\n",
        "tickers=[\"SPY\", \"AMZN\"]\n",
        "column_precio=[i+\"_Close\" for i in tickers]\n",
        "\n",
        "#Fechas de inicio y fin\n",
        "start = datetime.datetime(2017,1,11)\n",
        "end = datetime.datetime(2019,1,1)\n",
        "\n",
        "#Conexion a yahoo finance\n",
        "df=yf.download(tickers,start,end,group_by=\"ticker\")\n",
        "\n",
        "# Renombramos columnas\n",
        "df.columns = ['_'.join(col) for col in df.columns]\n",
        "#Bos quedamos con aquellas columnas que tienen precio de cierre\n",
        "df_precios=df[column_precio]\n",
        "\n",
        "asset=df_precios[[\"AMZN_Close\"]]\n",
        "benchmark=df_precios[[\"SPY_Close\"]]\n",
        "\n",
        "\n",
        "\n",
        "# Calculamos los retornos\n",
        "r_a = asset.pct_change()[1:]\n",
        "r_b = benchmark.pct_change()[1:]\n",
        "\n",
        "# Grafiquemos\n",
        "fig=plt.figure(figsize=(8,6))  \n",
        "plt.plot(r_a,label=\"Amazon\")\n",
        "plt.plot(r_b,label=\"Benchmark\")\n",
        "plt.ylabel(\"Retorno Diario\")\n",
        "plt.legend();"
      ]
    },
    {
      "cell_type": "markdown",
      "metadata": {
        "id": "_QMzya4Ixogj"
      },
      "source": [
        "Hagamos ahora la regresión para encontrar $\\alpha$ y $\\beta$:"
      ]
    },
    {
      "cell_type": "code",
      "execution_count": null,
      "metadata": {
        "colab": {
          "base_uri": "https://localhost:8080/",
          "height": 51
        },
        "id": "6OeEMi3-xogm",
        "outputId": "950c52fd-d46a-4b94-f921-dba678ba747f"
      },
      "outputs": [],
      "source": [
        "# Definamos las variables de forma similar a la formulacion de regresión\n",
        "X = r_b.values # Toammos los valores ignorando las fehcas\n",
        "Y = r_a.values\n",
        "\n",
        "def linreg(x,y):\n",
        "    \n",
        "    # Añadimos una constante\n",
        "    x = sm.add_constant(x)\n",
        "    model = regression.linear_model.OLS(y,x).fit()\n",
        "    \n",
        "    x = x[:, 1]\n",
        "    return model.params[0], model.params[1]\n",
        "\n",
        "alpha, beta = linreg(X,Y)\n",
        "print ('alpha: ' + str(alpha))\n",
        "print ('beta: ' + str(beta))"
      ]
    },
    {
      "cell_type": "markdown",
      "metadata": {
        "id": "41IxuhK2xogs"
      },
      "source": [
        "Veamos que al graficar $\\alpha + \\beta X$, podemos ver la relación con la linea de mejor estimación:"
      ]
    },
    {
      "cell_type": "code",
      "execution_count": null,
      "metadata": {
        "colab": {
          "base_uri": "https://localhost:8080/",
          "height": 279
        },
        "id": "pl0HAx_Cxogt",
        "outputId": "f918d048-cc42-44ce-e727-56e5745e63d8"
      },
      "outputs": [],
      "source": [
        "X2 = np.linspace(X.min(), X.max(), 100)\n",
        "Y_hat = X2 * beta + alpha\n",
        "\n",
        "plt.scatter(X, Y, alpha=0.3) # Plot the raw data\n",
        "plt.xlabel(\"SPY Retorno Diario\")\n",
        "plt.ylabel(\"AMZN Retorno Diario\")\n",
        "\n",
        " # Añadimos una linea roja de mejor ajuste\n",
        "plt.plot(X2, Y_hat, 'r', alpha=0.9);"
      ]
    },
    {
      "cell_type": "markdown",
      "metadata": {
        "id": "PFod81HTxogz"
      },
      "source": [
        "## 5.2. Exposición a Riesgo \n",
        "\n",
        "En un plano más general, esta beta se interpreta como la medición de exposición a riesgo tomado al mantener una posición en el activo.\n",
        "\n",
        "Si un activo tiene una alta exposición en términos de beta al  S&P 500, entonces va a irle muy bien en las subidas del mercado pero va a tener desempeño pobre cuando este vaya a la baja.  Una beta alta corresponde a un riesgo especulativo alto.\n",
        "\n",
        "\n",
        "\n",
        "\n",
        "### Hedging (Cobertura)\n",
        "\n",
        "Si determinamos que los retornos de nuestro portafolio dependen del mercado via esta relación:\n",
        "\n",
        "$$Y_{portfolio} = \\alpha + \\beta X_{SPY}$$\n",
        "\n",
        "podemos tomar una posición corta en SPY  con el objetivo de cancelar este riesgo. La cantidad a tomar sería  $-\\beta V$ donde $V$ es el valor total de nuestro portafolio.\n",
        "\n",
        "Esta estrategia funciona si nuestros retornos pueden aproximarse con $\\alpha + \\beta X_{SPY}$, luego añadiendo un corto en SPY  hará que nuestros retornos sean  $\\alpha + \\beta X_{SPY} - \\beta X_{SPY} = \\alpha$. Así, nuestros retornos serán puramente alfa (en promedio), el cual es independiente del SPY y no está expuesto al mercado.\n",
        "\n",
        "### Market Neutral\n",
        "\n",
        "Cuando una estrategia tiene beta de 0 se denomina market neutral.\n",
        "\n",
        "\n",
        "### Advertencias\n",
        "\n",
        "+ La beta puede cambiar en el tiempo\n",
        "\n",
        "+ Violaciones de supuestos OLS \n",
        "\n",
        "\n",
        "\n"
      ]
    },
    {
      "cell_type": "markdown",
      "metadata": {
        "id": "wEViGhkHxog0"
      },
      "source": [
        "## 5.3. Implementando el Hedging\n",
        "\n",
        "Ahora que identificamos el hedge, veamos como afectaría a nuestros retornos. Construiremos un portafolio usando el activo y el benchmark, ponderando el  benchmark con  $-\\beta$ (negativo ya que es una posición en corto)."
      ]
    },
    {
      "cell_type": "code",
      "execution_count": null,
      "metadata": {
        "colab": {
          "base_uri": "https://localhost:8080/",
          "height": 483
        },
        "id": "vEhMklEhxog2",
        "outputId": "857196d5-6f26-42a2-b0a5-6dedc9767bfd"
      },
      "outputs": [],
      "source": [
        "# Construccion de un portaolfio con cobertura de Beta\n",
        "portfolio = -1*beta*r_b.values + r_a.values\n",
        "\n",
        "# Grafico de los retornos\n",
        "fig=plt.figure(figsize=(10,8))  \n",
        "plt.plot(portfolio,alpha=0.9,label=\"portfolio\",color=\"orangered\")\n",
        "#portfolio.plot(alpha=0.9)\n",
        "plt.plot(r_b.values,alpha=0.5,label=\"SPY\")\n",
        "plt.plot(r_a.values,alpha=0.5,label=\"AMZN\",color=\"lime\")\n",
        "#r_b.plot(alpha=0.5);\n",
        "#r_a.plot(alpha=0.5);\n",
        "plt.ylabel(\"Daily Return\")\n",
        "plt.legend();"
      ]
    },
    {
      "cell_type": "markdown",
      "metadata": {
        "id": "4FgoI7KCxog8"
      },
      "source": [
        "Calculemos las diferencias entre los desempeños al calcular retornos medios y volatilidades:"
      ]
    },
    {
      "cell_type": "code",
      "execution_count": null,
      "metadata": {
        "colab": {
          "base_uri": "https://localhost:8080/",
          "height": 51
        },
        "id": "IEsM1lA7xog9",
        "outputId": "f2560c36-9b98-4b7e-cd2a-9f49520b7e10"
      },
      "outputs": [],
      "source": [
        "print (\"retornos promedio: \", portfolio.mean(), np.mean(r_a.values))\n",
        "print (\"Volatilidades: \", np.std(portfolio), np.std(r_a.values))"
      ]
    },
    {
      "cell_type": "markdown",
      "metadata": {
        "id": "PdODAqR8xohD"
      },
      "source": [
        "Los resultados muestran que reducimos la volatilidad  a costa de retornos. Veamos que la beta de nuestro portafolio ha sido eliminada:"
      ]
    },
    {
      "cell_type": "code",
      "execution_count": null,
      "metadata": {
        "colab": {
          "base_uri": "https://localhost:8080/",
          "height": 51
        },
        "id": "G_hdKIGsxohF",
        "outputId": "067e0007-1cc3-4362-de97-8b073abcf48f"
      },
      "outputs": [],
      "source": [
        "P = portfolio\n",
        "alpha, beta = linreg(X,P)\n",
        "print ('alpha: ' + str(alpha))\n",
        "print ('beta: ' + str(np.round(beta,4)))"
      ]
    },
    {
      "cell_type": "markdown",
      "metadata": {
        "id": "NNS10_gExohK"
      },
      "source": [
        "Luego de desarrollar nuestro hedging, veamos si la estrategia se mantiene out of sample"
      ]
    },
    {
      "cell_type": "markdown",
      "metadata": {
        "id": "NFTYf8ZsFwZq"
      },
      "source": [
        "## Ejercicio  9 \n",
        "\n",
        "Evalue la validez de la estrategia out of sample para lo que va de 2020 calculando retornos promedio y volatilidad, utilizando AMZN y el SPY. Para eso calcule los nuevos retornos pero construya \n",
        "el portafolio neutral a mercado utilizando la beta calculada en la sección (beta_historica=1.5731148412935139)\n",
        "\n"
      ]
    },
    {
      "cell_type": "code",
      "execution_count": null,
      "metadata": {
        "id": "5rLt1IucGYFw"
      },
      "outputs": [],
      "source": [
        "#Pista 1\n",
        "portfolio_out_sample = -1*historical_beta*r_b_out_sample.values + r_a_out_sample.values\n",
        "\n"
      ]
    },
    {
      "cell_type": "markdown",
      "metadata": {
        "id": "-bje8x3QxohR"
      },
      "source": [
        "## Tradeoff Alpha/beta \n",
        "\n",
        "Cubrirse contra un benchmark como el mercado tiende a reducir los retornos de su portafolio cuando el mercado está bullish, sin embargo trae la ventaja de unos retornos menos volatiles. Además, este tipo de estrategias suelen fallar en el largo plazo debido a movimientos fuertes en el mercado.\n",
        "\n"
      ]
    },
    {
      "cell_type": "markdown",
      "metadata": {
        "id": "jz14L6Bdinji"
      },
      "source": [
        "# 5.0 Factor Models\n",
        "<p><a name=\"factor\"></a></p>\n",
        "\n",
        "[[Contenidos]](#contents)\n",
        "\n",
        "Un modelo de factores es un modelo financiero que emplea múltiples factores en sus cálculos para explicar fenómenos de mercado o equilibrio en el precio de los activos. Los modelos de factores pueden emplearse tanto para expliar el comportamiento de un activo individual como el de un portafolio de activos.\n",
        "\n",
        "Algunos ejemplos de factores son el market cap, al utilidad neta, el ratio P/E, la prima de riesgo, etc...\n",
        "\n",
        "Vamos a centrarnos en los modelos de factores lineales. Dada un conjunto $k$ de factores, podemos representar los retornos de un activo, $R_t$, de la siguiente manera:\n",
        "\n",
        "$$R_t = \\alpha_t + \\beta_{t, F_1}F_1 + \\beta_{t, F_2}F_2 + ... + \\beta_{t, F_k}F_k + \\epsilon_t$$\n",
        "\n",
        "donde cada $F_j$ representa el retorno de un factor"
      ]
    },
    {
      "cell_type": "markdown",
      "metadata": {
        "id": "T9FMkc8N5P6G"
      },
      "source": [
        "## ¿A qué hace referencia el término factor?\n",
        "\n",
        "El término factor es utilizado en una variedad de formas incluyendo:\n",
        "\n",
        "+ El retorno de una combinación de activos, ejemplo: El retorno de una posición larga en tesoros de 10Y y una posición corta en tesoros de 2Y.\n",
        "+ Un factor fundamental, como por ejemplo el retorno de activos optimizados para trackear la inflación\n",
        "+ Un factor estadístico, como una combinación de activos que explican la variación de los retornos y que es construido a través de análisis de componentes principales."
      ]
    },
    {
      "cell_type": "markdown",
      "metadata": {
        "id": "HkBekhKcwidS"
      },
      "source": [
        "## 5.1  Capital Asset Pricing Model - CAPM (1 Factor)\n",
        "\n",
        "El modelo CAPM  es una medida clásica del costo del capital. Utilizado frecuentemente para evaluar el precio de activos financieros además del impacto de la prima de riesgo sobre el mercado como un todo."
      ]
    },
    {
      "cell_type": "markdown",
      "metadata": {
        "id": "_0PSSbMKwidd"
      },
      "source": [
        "## 5.2. Riesgo Idiosincratico y Sistémico\n",
        "\n",
        "En general los  portafolios y activos enfrentan dos tipos de riesgos: \n",
        "\n",
        "+ **Riesgo Idiosincratico** riesgos asociados a factores especificos de una compañía, es un riesgo diversificable.\n",
        "+ **Riesgo sistémico**  afecta a todo el mercado y sus participantes. No puede ser diversificado.\n",
        "\n",
        "## Prima de Riesgo\n",
        "\n",
        "Debido a que el riesgo sistémico no puede ser removido de un portafolio, los inversionistas suelen exigir una prima de riesgo, es decir, un retorno extra por encima de la tasa libre de riesgo para compensarles el riesgo que toman al invertir en nuestro portafolio."
      ]
    },
    {
      "cell_type": "markdown",
      "metadata": {
        "id": "1G19v2GDwide"
      },
      "source": [
        "Siguiendo este razonamiento podemos concluir que la prima de riesgo no tiene relación alguna con factores idiosincraticos sino por el contrario dependerá exclusivamnete del nivel de riesgo sistémico que trae consigo.\n",
        "Teóricamente podemos definir el retorno de un activo como:\n",
        "\n",
        "$$E[\\mbox{Return}] = \\mbox{Risk-Free Rate of Return} + \\mbox{Risk Premium}$$\n",
        "\n",
        "La beta que obtenemos de la regresión de los retornos de un activo contra los retornos del mercado será nuestra medida de riesgo sistémico. Esta beta representa la sensiblidad de un activo a los choques en el mercado .\n",
        "\n",
        "Dada esta beta, la prima de riesgo del ativo $i$ es definida como:\n",
        "\n",
        "$$\\mbox{Risk Premium of Asset}_i = \\beta (\\mbox{Market Risk Premium})$$\n",
        "\n",
        "Este modelo tan simple es el CAPM\n",
        "\n",
        "## 5.3. Capital Asset Pricing Theory\n",
        "\n",
        "Podemos expresar el CAPM mas simple como:\n",
        "\n",
        "$$E[R_i] = R_F + \\beta(E[R_M] - R_F)$$\n",
        "\n",
        "donde $R_i$ es el retorno del activo $i$, $R_F$ es la tasa libre de riesgo, y $R_M$ es el retorno del mercado.El CAPM determina el minimo retorno requerido para convencer a un inversionista de tener posiciones en un activo particular.\n",
        "\n"
      ]
    },
    {
      "cell_type": "code",
      "execution_count": null,
      "metadata": {
        "colab": {
          "base_uri": "https://localhost:8080/",
          "height": 819
        },
        "id": "mWisPk7wwidf",
        "outputId": "d66a8e05-ab1a-44ff-a06a-a6348739ee9d"
      },
      "outputs": [],
      "source": [
        "#librerias a importar\n",
        "import numpy as np\n",
        "import pandas as pd\n",
        "import statsmodels.api as sm\n",
        "from statsmodels import regression\n",
        "import matplotlib.pyplot as plt\n",
        "from pandas_datareader import data as pdr\n",
        "import fix_yahoo_finance as yf\n",
        "import datetime\n",
        "yf.pdr_override() \n",
        "\n",
        "#Tickers deseados\n",
        "tickers=[\"SPY\", \"AAPL\", \"BIL\"]\n",
        "column_precio=[i+\"_Close\" for i in tickers]\n",
        "\n",
        "#Fechas de inicio y fin\n",
        "start = datetime.datetime(2014,1,1)\n",
        "end = datetime.datetime(2014,12,31)\n",
        "\n",
        "#Conexion a yahoo finance\n",
        "df = pdr.get_data_yahoo(tickers, start=start, end=end,group_by = 'ticker')\n",
        "\n",
        "# Renombramos columnas\n",
        "df.columns = ['_'.join(col) for col in df.columns]\n",
        "#Bos quedamos con aquellas columnas que tienen precio de cierre\n",
        "df_precios=df[column_precio]\n",
        "df_precios.head()\n",
        "\n",
        "\n",
        "\n",
        "#Elegimos la acción a valorar mediante CAPM\n",
        "R = df_precios[\"AAPL_Close\"].pct_change()[1:]\n",
        "\n",
        "# Nuestro referente de tasa libre de riesgo\n",
        "R_F = df_precios[\"BIL_Close\"].pct_change()[1:]\n",
        "\n",
        "# Nuestro referente del mercado\n",
        "M = df_precios[\"SPY_Close\"].pct_change()[1:]\n",
        "\n",
        "#Calculamos el CAPM para Apple\n",
        "AAPL_results = regression.linear_model.OLS(R-R_F, sm.add_constant(M)).fit()\n",
        "AAPL_beta = AAPL_results.params[1]\n",
        "\n",
        "fig=plt.figure(figsize=(8,6)) \n",
        "M.plot()\n",
        "R.plot()\n",
        "R_F.plot()\n",
        "plt.xlabel('Tiempo')\n",
        "plt.ylabel('Retorno porcentual diario')\n",
        "plt.legend();\n",
        "\n",
        "AAPL_results.summary()"
      ]
    },
    {
      "cell_type": "markdown",
      "metadata": {
        "id": "YqW2HesQwidn"
      },
      "source": [
        "Podemos utilizar la beta calculada para hacer predicciones de los retornos de Apple"
      ]
    },
    {
      "cell_type": "code",
      "execution_count": null,
      "metadata": {
        "colab": {
          "base_uri": "https://localhost:8080/",
          "height": 375
        },
        "id": "iqzeb2gLwido",
        "outputId": "80b8449e-728b-4edf-c54b-20409b8fefb0"
      },
      "outputs": [],
      "source": [
        "predictions = R_F + AAPL_beta*(M - R_F) # CAPM equation\n",
        "\n",
        "\n",
        "fig=plt.figure(figsize=(8,6)) \n",
        "predictions.plot()\n",
        "R.plot(color='Y')\n",
        "plt.legend(['Predicción', 'Retorno Real'])\n",
        "\n",
        "plt.xlabel('Tiempo')\n",
        "plt.ylabel('Retorno Porcentual Diario');"
      ]
    },
    {
      "cell_type": "markdown",
      "metadata": {
        "id": "3IpLbatdwidu"
      },
      "source": [
        "## 5.4. Supuestos del CAPM\n",
        "\n",
        "Hay dos supuestos principales:\n",
        "\n",
        "* No hay costos de transacción y todos los agentes en el mercado pueden pedir y prestar dinero a la tasa libre de riesgo\n",
        "* Asumimos que todos los inversionistas son optimizadores en términos de *media-varianza*, es decir, solo demandan portafolios optimos ubicados en la **frontera eficiente** \n",
        "\n",
        "Veamos la siguiente derivación programatica de la frontera eficiente para 4 activos (Tomada de una fuente externa)"
      ]
    },
    {
      "cell_type": "code",
      "execution_count": null,
      "metadata": {
        "id": "rD5yQ2V8widw"
      },
      "outputs": [],
      "source": [
        "from scipy import optimize\n",
        "import cvxopt as opt\n",
        "from cvxopt import blas, solvers"
      ]
    },
    {
      "cell_type": "code",
      "execution_count": null,
      "metadata": {
        "colab": {
          "base_uri": "https://localhost:8080/",
          "height": 513
        },
        "id": "C8eZiy_Rwid2",
        "outputId": "dc00bff0-7a48-4b52-b1a0-780e043d0f83"
      },
      "outputs": [],
      "source": [
        "np.random.seed(123)\n",
        "\n",
        "solvers.options['show_progress'] = False\n",
        "\n",
        "# Numero de activos\n",
        "n_assets = 4\n",
        "\n",
        "# Numero de observaciones\n",
        "n_obs = 2000\n",
        "\n",
        "## Generamos retornos aleatorios para nuestros 4 activos\n",
        "return_vec = np.random.randn(n_assets, n_obs)\n",
        "\n",
        "def rand_weights(n):\n",
        "    ''' \n",
        "    Produce n pesos aleatorios que suman 1 \n",
        "    '''\n",
        "    k = np.random.rand(n)\n",
        "    return k / sum(k)\n",
        "\n",
        "def random_portfolio(returns):\n",
        "    ''' \n",
        "    Retorna la media y desviacion estandar para un portafolio dado\n",
        "    '''\n",
        "\n",
        "    p = np.asmatrix(np.mean(returns, axis=1))\n",
        "    w = np.asmatrix(rand_weights(returns.shape[0]))\n",
        "    C = np.asmatrix(np.cov(returns))\n",
        "    \n",
        "    mu = w * p.T\n",
        "    sigma = np.sqrt(w * C * w.T)\n",
        "    \n",
        "    # Quitamos outliers de la grafica\n",
        "    if sigma > 2:\n",
        "        return random_portfolio(returns)\n",
        "    return mu, sigma\n",
        "\n",
        "def optimal_portfolios(returns):\n",
        "    n = len(returns)\n",
        "    returns = np.asmatrix(returns)\n",
        "    \n",
        "    N = 100000\n",
        "    \n",
        "    # Creamos una lista de retornos para optimizar el riesgo\n",
        "    mus = [100**(5.0 * t/N - 1.0) for t in range(N)]\n",
        "    \n",
        "    \n",
        "    S = opt.matrix(np.cov(returns))\n",
        "    pbar = opt.matrix(np.mean(returns, axis=1))\n",
        "    \n",
        "    # Creamos las matrices e restricción\n",
        "    G = -opt.matrix(np.eye(n))   # negative n x n identity matrix\n",
        "    h = opt.matrix(0.0, (n ,1))\n",
        "    A = opt.matrix(1.0, (1, n))\n",
        "    b = opt.matrix(1.0)\n",
        "    \n",
        "    # Calculamos la frontera eficiente con programación cuadratica\n",
        "    portfolios = [solvers.qp(mu*S, -pbar, G, h, A, b)['x'] \n",
        "                  for mu in mus]\n",
        "    \n",
        "    ## Calculamos el riesgo y retorno de la frontera\n",
        "    returns = [blas.dot(pbar, x) for x in portfolios]\n",
        "    risks = [np.sqrt(blas.dot(x, S*x)) for x in portfolios]\n",
        "    \n",
        "    return returns, risks\n",
        "\n",
        "n_portfolios = 50000\n",
        "\n",
        "means, stds = np.column_stack([random_portfolio(return_vec) for x in range(n_portfolios)])\n",
        "\n",
        "returns, risks = optimal_portfolios(return_vec)\n",
        "\n",
        "\n",
        "fig=plt.figure(figsize=(10,8)) \n",
        "plt.plot(stds, means, 'o', markersize=2, color='navy')\n",
        "plt.xlabel('Riesgo')\n",
        "plt.ylabel('Retorno')\n",
        "plt.title('Portafolios simulados: Media y Varianza');\n",
        "\n",
        "plt.plot(risks, returns, '-', markersize=3, color='red');\n",
        "plt.legend(['Portafolios', 'Frontera Eficiente']);"
      ]
    },
    {
      "cell_type": "markdown",
      "metadata": {
        "id": "kbxBU-8Kwid8"
      },
      "source": [
        "Cada punto azul representa un portafolio distinto mientras que la linea roja representa la frontera eficiente, es decir, los portafolios con mejor desempeño dado un nivel de riesgo.\n",
        "\n",
        "Ahora, para encontrar el mejor portafolio de todos se hace necesario maximizar el ratio de Sharpe. La linea que representa las diferentes combinaciones de un activo libre de riesgo con un portafolio de activos riesgosos se conoce como la  Capital Allocations Line (CAL). La pendiente de la CAL es el ratio de Sharpe. Para maximizar el ratio de sharpe debemos encontrar el punto de tangencia entre la CAL y la frontera eficiente."
      ]
    },
    {
      "cell_type": "code",
      "execution_count": null,
      "metadata": {
        "colab": {
          "base_uri": "https://localhost:8080/",
          "height": 497
        },
        "id": "EN2cJVPSwid9",
        "outputId": "10a29d52-ce6b-4f3e-dad9-0f91d17cd3b8"
      },
      "outputs": [],
      "source": [
        "def maximize_sharpe_ratio(return_vec, risk_free_rate):\n",
        "    \"\"\"\n",
        "    Encuentra el portafolio optimo en  CAPM optimizando el ratio de Sharpe\n",
        "    \"\"\"\n",
        "    \n",
        "    def find_sharpe(weights):\n",
        "        \n",
        "        means = [np.mean(asset) for asset in return_vec]\n",
        "        \n",
        "        numerator = sum(weights[m]*means[m] for m in range(len(means))) - risk_free_rate\n",
        "        \n",
        "        weight = np.array(weights)\n",
        "        \n",
        "        denominator = np.sqrt(weights.T.dot(np.corrcoef(return_vec).dot(weights)))\n",
        "        \n",
        "        return numerator/denominator\n",
        "    \n",
        "    guess = np.ones(len(return_vec)) / len(return_vec)\n",
        "    \n",
        "    def objective(weights):\n",
        "        return -find_sharpe(weights)\n",
        "    \n",
        "    \n",
        "    cons = {'type':'eq', 'fun': lambda x: np.sum(np.abs(x)) - 1} \n",
        "\n",
        "    \n",
        "    bnds = [(0, 1)] * len(return_vec)\n",
        "    \n",
        "    results = optimize.minimize(objective, guess,\n",
        "                            constraints=cons, bounds=bnds, \n",
        "                            method='SLSQP', options={'disp': False})\n",
        "    \n",
        "    return results\n",
        "\n",
        "risk_free_rate = np.mean(R_F)\n",
        "\n",
        "results = maximize_sharpe_ratio(return_vec, risk_free_rate)\n",
        "\n",
        "\n",
        "optimal_mean = sum(results.x[i]*np.mean(return_vec[i]) for i in range(len(results.x)))\n",
        "\n",
        "optimal_std = np.sqrt(results.x.T.dot(np.corrcoef(return_vec).dot(results.x)))\n",
        "\n",
        "fig=plt.figure(figsize=(10,8))\n",
        "\n",
        "plt.plot(stds, means, 'o', markersize=2, color='navy')\n",
        "plt.ylabel('Return')\n",
        "plt.xlabel('Risk')\n",
        "\n",
        "\n",
        "eqn_of_the_line = lambda x : ( (optimal_mean-risk_free_rate) / optimal_std ) * x + risk_free_rate    \n",
        "\n",
        "xrange = np.linspace(0., 1., num=11)\n",
        "\n",
        "plt.plot(xrange, [eqn_of_the_line(x) for x in xrange], color='red', linestyle='-', linewidth=2)\n",
        "\n",
        "# Our optimal portfolio\n",
        "plt.plot([optimal_std], [optimal_mean], marker='o', markersize=12, color=\"navy\")\n",
        "\n",
        "plt.legend(['Portfolios', 'Capital Allocation Line', 'Optimal Portfolio']);"
      ]
    },
    {
      "cell_type": "markdown",
      "metadata": {
        "id": "LEeNVVFAwieE"
      },
      "source": [
        "Podemos recuperar las caracteristicas inviduales de este portafolio optimo:"
      ]
    },
    {
      "cell_type": "code",
      "execution_count": null,
      "metadata": {
        "colab": {
          "base_uri": "https://localhost:8080/",
          "height": 108
        },
        "id": "RPBvmvsVwieF",
        "outputId": "112293f1-cf0a-4db0-e5fb-2c3ea7787a71"
      },
      "outputs": [],
      "source": [
        "for a in range(len(return_vec)): \n",
        "    print ( \"Retorno y  Riesgo del Activo\", a, \":\", np.mean(return_vec[a]), \",\",np.std(return_vec[a])  ) \n",
        "    \n",
        "print (\"Retorno y Riesgo del portaofolio óptimo\", optimal_mean, optimal_std)"
      ]
    },
    {
      "cell_type": "markdown",
      "metadata": {
        "id": "-AVvsJweLLhe"
      },
      "source": [
        "## Ejercicio 10\n",
        "\n",
        "Calcule el CAPM para una acción americana de su preferencia, utilice información de enero de 2018 hasta diciembre de 2019. Luego grafique el retorno real de su activo contra el retorno estimado del modelo en 2020."
      ]
    },
    {
      "cell_type": "code",
      "execution_count": null,
      "metadata": {
        "id": "oYWA6mMnLt3n"
      },
      "outputs": [],
      "source": [
        "# Desarrolle aqui su ejercicio"
      ]
    },
    {
      "cell_type": "markdown",
      "metadata": {
        "id": "1dWhVgO9wv1I"
      },
      "source": [
        "## 5.1 Modelo de 3 Factores de Fama y French\n",
        "\n",
        "El modelo de tres factores propuesto por Eugene Fama y  Kenneth French en su articulo  *Common risk factors in the returns on stocks and bonds* del Journal of financial economics  es un punto de referencia fundamental para la valoración de activos y la gestión de portafolios.\n",
        "\n",
        "Los factores permiten explicar los retornos que han presentado los activos  y conocer la trayectoria de estos factores ayuda a predecir también su desempeño. La rentabilidad esperada de un activo o portafolio estará así determinada por la sensibilidad respecto a los siguientes tres factores:\n",
        "\n",
        "1. El exceso de rentabilidad del mercado respecto a un activo libre de riesgo.\n",
        "\n",
        "2. La diferencia entre el retorno de las acciones de pequeña capitalización y el retorno de las acciones de más capitalización. (SMB)\n",
        "\n",
        "3. La diferencia entre el retorno de las empresas con un alto ratio book-to-market equity (diferencia entre valor en libros y valor bursátil) y las compañías con un bajo book-to-market equity. (HML)"
      ]
    },
    {
      "cell_type": "code",
      "execution_count": null,
      "metadata": {
        "id": "VjyQoEwwj1rU"
      },
      "outputs": [],
      "source": [
        "import pandas as pd\n",
        "import pandas_datareader as web\n",
        "import statsmodels.api as smf"
      ]
    },
    {
      "cell_type": "code",
      "execution_count": null,
      "metadata": {
        "id": "J_N-aWYUj4lc"
      },
      "outputs": [],
      "source": [
        "#Funcion para consultar los factores de Fama y French\n",
        "def get_fama_french():\n",
        "    # Now open the CSV file\n",
        "    # Read the csv \n",
        "    ff_factors = pd.read_csv('https://raw.githubusercontent.com/jisazac/pythonfinanzaseafit/master/F-F_Research_Data_Factors2.csv',encoding=\"latin1\",sep=\";\")\n",
        "    ff_factors.set_index(\"Date\",inplace=True)\n",
        "    # Format the date index\n",
        "    ff_factors.index = pd.to_datetime(ff_factors.index, format= '%Y%m')\n",
        "    # Format dates to end of month\n",
        "    ff_factors.index = ff_factors.index.to_period('M').to_timestamp('M')\n",
        "    \n",
        "        \n",
        "    # Convert from percent to decimal\n",
        "    ff_factors['Mkt-RF']=ff_factors['Mkt-RF']/100\n",
        "    ff_factors['SMB']=ff_factors['SMB']/100\n",
        "    ff_factors['HML']=ff_factors['HML']/100\n",
        "    ff_factors['RF']=ff_factors['RF']/100\n",
        "   \n",
        "    return ff_factors"
      ]
    },
    {
      "cell_type": "markdown",
      "metadata": {
        "id": "jaWX46qxHDuo"
      },
      "source": [
        "¿Cómo se han comportado los factores en los últimos do\n",
        "s años?"
      ]
    },
    {
      "cell_type": "code",
      "execution_count": null,
      "metadata": {
        "colab": {
          "base_uri": "https://localhost:8080/",
          "height": 283
        },
        "id": "SxgncUg5HCt_",
        "outputId": "955c8fe9-093b-4fef-f698-57bf73945a21"
      },
      "outputs": [],
      "source": [
        "import numpy as np\n",
        "import matplotlib.pyplot as plt\n",
        "ff_factors=get_fama_french()\n",
        "\n",
        "ff_factors=ff_factors.iloc[-24:,]\n",
        "SMB_CUM = np.cumprod(ff_factors[\"SMB\"].values+1)\n",
        "HML_CUM = np.cumprod(ff_factors[\"HML\"].values+1)\n",
        "\n",
        "plt.plot(ff_factors.index, SMB_CUM)\n",
        "plt.plot(ff_factors.index, HML_CUM)\n",
        "plt.ylabel('Cumulative Return')\n",
        "plt.legend(['SMB Portfolio Returns', 'HML Portfolio Returns'])"
      ]
    },
    {
      "cell_type": "code",
      "execution_count": null,
      "metadata": {
        "id": "1HZaxxUCkCbX"
      },
      "outputs": [],
      "source": [
        "#Funcion para consultar el precio de cierre de un ticker\n",
        "def get_price_data(ticker, start, end):\n",
        "    price = web.get_data_yahoo(ticker, start, end)\n",
        "    price = price['Close'] \n",
        "    return price"
      ]
    },
    {
      "cell_type": "code",
      "execution_count": null,
      "metadata": {
        "id": "uCkabSdHqqPN"
      },
      "outputs": [],
      "source": [
        "#Funcion para calcular los retornos mensuales\n",
        "def get_return_data(price_data, period = \"M\"):\n",
        "    \n",
        "    \n",
        "    price = price_data.resample(period).last()\n",
        "    \n",
        "    \n",
        "    ret_data = price.pct_change()[1:]\n",
        "    \n",
        "    \n",
        "    ret_data = pd.DataFrame(ret_data)\n",
        "    \n",
        "    \n",
        "    ret_data.columns = ['portfolio']\n",
        "    return ret_data\n",
        "    \n"
      ]
    },
    {
      "cell_type": "code",
      "execution_count": null,
      "metadata": {
        "id": "XPB0jUact9yV"
      },
      "outputs": [],
      "source": [
        "#Función para calcular el modelo Fama-French de 3 factores\n",
        "def run_reg_model(ticker,start,end):\n",
        "    \n",
        "    ff_data = get_fama_french()\n",
        "    ff_last = ff_data.index[ff_data.shape[0] - 1].date()\n",
        "    \n",
        "    price_data = get_price_data(ticker,start,end)\n",
        "    price_data = price_data.loc[:ff_last]\n",
        "    ret_data = get_return_data(price_data, \"M\")\n",
        "    all_data = pd.merge(pd.DataFrame(ret_data),ff_data, how = 'inner', left_index= True, right_index= True)\n",
        "    all_data.rename(columns={\"Mkt-RF\":\"mkt_excess\"}, inplace=True)\n",
        "    all_data['port_excess'] = all_data['portfolio'] - all_data['RF']\n",
        "    # Correr el modelo\n",
        "    model = smf.formula.ols(formula = \"port_excess ~ mkt_excess + SMB + HML\", data = all_data).fit()\n",
        "    return model.params"
      ]
    },
    {
      "cell_type": "markdown",
      "metadata": {
        "id": "0nQ1PhCDHcOd"
      },
      "source": [
        "Asi esta función recoge los diferentes elementos para poder estimar el siguiente modelo en una sola linea de código:\n",
        "\n",
        "$$R_{t}=\\alpha+\\beta_{1}(E[R_M] - R_F)+\\beta_{2}SMB+\\beta_{3}HML$$"
      ]
    },
    {
      "cell_type": "code",
      "execution_count": null,
      "metadata": {
        "colab": {
          "base_uri": "https://localhost:8080/",
          "height": 108
        },
        "id": "ZWZSV6c2uFsj",
        "outputId": "e613200f-9ccc-432e-e61f-800796b14db4"
      },
      "outputs": [],
      "source": [
        "#Modularizacion del modelo Fama-French Mensual, para el ticker GGRAX\n",
        "ggrax_model = run_reg_model(\"GGRAX\", start = \"1999-05-01\", end = \"2019-06-30\")\n",
        "print(ggrax_model)"
      ]
    },
    {
      "cell_type": "markdown",
      "metadata": {
        "id": "Wys8moJTIAT0"
      },
      "source": [
        "## Ejercicio 11\n",
        "\n",
        "Calcule para tres fondos distintos de los utilizados en la sección la exposición a los factores de Fama y French para cada uno de ellos. Primero desde Enero de 2000 hasta Diciembre 2010, y luego desde 2010 hasta julio 2020.\n",
        "\n"
      ]
    },
    {
      "cell_type": "code",
      "execution_count": null,
      "metadata": {
        "id": "Gc4bsXwALzNq"
      },
      "outputs": [],
      "source": [
        "# Desarrolle aqui su ejercicio"
      ]
    },
    {
      "cell_type": "markdown",
      "metadata": {
        "id": "lUG3GqsW_hWv"
      },
      "source": [
        "# 6.0 Análisis de Componentes Principales\n",
        "\n",
        "\n",
        "EL análisis de componentes principales  (PCA) es un método clásico para la reducción de dimensionalidad. Este utiliza los primeros **componentes prncipales**, los cuales son caracteristicas estadisticas que explican la mayoría d ela variación de una matriz  $m \\times n$ de datos  $\\mathbf{X}$, con el objetivo de describir de forma simplificada una matriz  $\\mathbf{X}$ de gran escala.   "
      ]
    },
    {
      "cell_type": "markdown",
      "metadata": {
        "id": "B2HKNMAG98Dw"
      },
      "source": [
        "## 6.1 PCA en un portafolio de 10 activos"
      ]
    },
    {
      "cell_type": "markdown",
      "metadata": {
        "id": "p60fpqhx8cEZ"
      },
      "source": [
        "Construyamos un portafolio con 10 activos, IBM, MSFT, FB, T,IAU, INTC, NEM, AU, AEM, GFI. 5 de ellos están relacionados con el sector tecnología y las 5 restantes son compañías de extracciónd e oro.\n",
        "\n",
        "En este caso cada columna del dataframe es una variable distinta haciendo referencia a un activo de renta variable"
      ]
    },
    {
      "cell_type": "code",
      "execution_count": null,
      "metadata": {
        "colab": {
          "base_uri": "https://localhost:8080/",
          "height": 35
        },
        "id": "NZ2_CWwP8cEa",
        "outputId": "f65ef75e-7800-40f7-cf1d-8d0a1b27a0b7"
      },
      "outputs": [],
      "source": [
        "#librerias a importar\n",
        "from pandas_datareader import data as pdr\n",
        "import fix_yahoo_finance as yf\n",
        "import datetime\n",
        "import numpy as np\n",
        "yf.pdr_override() \n",
        "\n",
        "#Tickers deseados\n",
        "tickers= ['IBM','MSFT', 'FB', 'T', 'INTC','NEM','IAU', 'AU', 'AEM', 'GFI']\n",
        "column_precio=[i+\"_Close\" for i in tickers]\n",
        "\n",
        "#Fechas de inicio y fin\n",
        "start = datetime.datetime(2015,9,1)\n",
        "end = datetime.datetime(2016,11,1)\n",
        "\n",
        "#Conexion a yahoo finance\n",
        "df = pdr.get_data_yahoo(tickers, start=start, end=end,group_by = 'ticker')\n",
        "\n",
        "# Renombramos columnas\n",
        "df.columns = ['_'.join(col) for col in df.columns]\n",
        "#Bos quedamos con aquellas columnas que tienen precio de cierre\n",
        "df_precios=df[column_precio]\n",
        "df_precios.head()\n",
        "\n",
        "df_retornos=df_precios.pct_change().dropna()\n",
        "df_retornos[\"retorno_port\"]=df_retornos[column_precio].apply(np.mean,axis=1)\n",
        "df_retornos.head()\n",
        "portfolio_returns=df_retornos.iloc[:,0:-1]"
      ]
    },
    {
      "cell_type": "code",
      "execution_count": null,
      "metadata": {
        "colab": {
          "base_uri": "https://localhost:8080/",
          "height": 72
        },
        "id": "KNozZ-zb8cEe",
        "outputId": "f9e31e89-3348-481a-8119-1f60972bacd1"
      },
      "outputs": [],
      "source": [
        "#Importados de la libreria sklearn el modulo de PCA\n",
        "from sklearn.decomposition import PCA\n",
        "#Especificamos que queremos dos componentes principales\n",
        "num_pc = 2\n",
        "\n",
        "X = np.asarray(portfolio_returns)\n",
        "[n,m] = X.shape\n",
        "print ('Numero de fechas es {}.'.format(n))\n",
        "print ('Numero de activos es {}.'.format(m))\n",
        "\n",
        "pca = PCA(n_components=num_pc) # numero de componentes principales\n",
        "pca.fit(X)\n",
        "\n",
        "percentage =  pca.explained_variance_ratio_\n",
        "percentage_cum = np.cumsum(percentage)\n",
        "print ('{0:.2f}% de la varianza es explicada por los dos primeros componentes principales 2 PCs'.format(percentage_cum[-1]*100))\n",
        "\n",
        "pca_components = pca.components_"
      ]
    },
    {
      "cell_type": "markdown",
      "metadata": {
        "id": "yynFssa88cEj"
      },
      "source": [
        "Notese como solo dos componentes principales capturan la gran mayoría de la varianza presente en nuestros datos.\n",
        "\n",
        "Entremos mas en detalle en nuestros dos primeros factores y grafiquemos sus contribuciones\n"
      ]
    },
    {
      "cell_type": "code",
      "execution_count": null,
      "metadata": {
        "colab": {
          "base_uri": "https://localhost:8080/",
          "height": 526
        },
        "id": "pmDCJpQH8cEk",
        "outputId": "36cde895-3ad1-440d-bf9e-9444fa15b17c"
      },
      "outputs": [],
      "source": [
        "x = np.arange(1,len(percentage)+1,1)\n",
        "\n",
        "\n",
        "import matplotlib.pyplot as plt\n",
        "fig=plt.figure(figsize=(12,8))\n",
        "plt.subplot(1, 2, 1)\n",
        "plt.bar(x, percentage*100, align = \"center\")\n",
        "plt.title('Contribución  componentes principales',fontsize = 16)\n",
        "plt.xlabel('componentes principales',fontsize = 16)\n",
        "plt.ylabel('porcentaje',fontsize = 16)\n",
        "plt.xticks(x,fontsize = 16) \n",
        "plt.yticks(fontsize = 16)\n",
        "plt.xlim([0, num_pc+1])\n",
        "\n",
        "plt.subplot(1, 2, 2)\n",
        "plt.plot(x, percentage_cum*100,'ro-')\n",
        "plt.xlabel('componentes principales',fontsize = 16)\n",
        "plt.ylabel('porcentaje',fontsize = 16)\n",
        "plt.title('Contribución Acumulada  componentes',fontsize = 16)\n",
        "plt.xticks(x,fontsize = 16) \n",
        "plt.yticks(fontsize = 16)\n",
        "plt.xlim([1, num_pc])\n",
        "plt.ylim([50,100]);"
      ]
    },
    {
      "cell_type": "markdown",
      "metadata": {
        "id": "Jr0wGJLe8cEq"
      },
      "source": [
        "A partir de estos componentes principales podemos construir \"factores de riesgo estadisticos\" de manera similar a los factores de riesgo tradicionales. Esto nos debería dar una idea de cuanto de los retornos de nuestro portafolio puede ser explicado por una característica estadistica no observable."
      ]
    },
    {
      "cell_type": "code",
      "execution_count": null,
      "metadata": {
        "colab": {
          "base_uri": "https://localhost:8080/",
          "height": 228
        },
        "id": "43W1ZJqP8cEr",
        "outputId": "0d6f3cf8-e748-4f85-91e2-d6be24333aec"
      },
      "outputs": [],
      "source": [
        "import pandas as pd\n",
        "factor_returns = X.dot(pca_components.T)\n",
        "factor_returns = pd.DataFrame(columns=[\"factor 1\", \"factor 2\"], \n",
        "                              index=portfolio_returns.index,\n",
        "                              data=factor_returns)\n",
        "factor_returns.head()"
      ]
    },
    {
      "cell_type": "markdown",
      "metadata": {
        "id": "Ox5W5mNRCNTL"
      },
      "source": [
        "Veamos ahora como esta compuesto cada factor"
      ]
    },
    {
      "cell_type": "code",
      "execution_count": null,
      "metadata": {
        "id": "ON6tnnXq8cEz"
      },
      "outputs": [],
      "source": [
        "factor_exposures = pd.DataFrame(index=[\"factor 1\", \"factor 2\"], \n",
        "                                columns=portfolio_returns.columns,\n",
        "                                data = pca.components_).T"
      ]
    },
    {
      "cell_type": "code",
      "execution_count": null,
      "metadata": {
        "colab": {
          "base_uri": "https://localhost:8080/",
          "height": 348
        },
        "id": "D_TE-rEP8cE3",
        "outputId": "eb4f1ae6-f6e4-4450-ae79-8e0c364f832d"
      },
      "outputs": [],
      "source": [
        "factor_exposures"
      ]
    },
    {
      "cell_type": "code",
      "execution_count": null,
      "metadata": {
        "id": "gY-GjQu18cE9"
      },
      "outputs": [],
      "source": [
        "labels = factor_exposures.index\n",
        "data = factor_exposures.values"
      ]
    },
    {
      "cell_type": "code",
      "execution_count": null,
      "metadata": {
        "colab": {
          "base_uri": "https://localhost:8080/",
          "height": 415
        },
        "id": "-2mvy7OM8cFC",
        "outputId": "3d24f6a2-b984-4bd5-979b-f5537fffd50b"
      },
      "outputs": [],
      "source": [
        "fig=plt.figure(figsize=(10,6))\n",
        "plt.subplots_adjust(bottom = 0.1)\n",
        "plt.scatter(\n",
        "    data[:, 0], data[:, 1], marker='o', s=300, c='m',\n",
        "    cmap=plt.get_cmap('Spectral'))\n",
        "plt.title('Coeficientes del  PC1 y PC2')\n",
        "plt.xlabel('Exposicion del  PC1')\n",
        "plt.ylabel('Exposicion del PC2')\n",
        "plt.grid()\n",
        "\n",
        "for label, x, y in zip(labels, data[:, 0], data[:, 1]):\n",
        "    plt.annotate(\n",
        "        label,\n",
        "        xy=(x, y), xytext=(-20, 20),\n",
        "        textcoords='offset points', ha='right', va='bottom',\n",
        "        bbox=dict(boxstyle='round,pad=0.5', fc='yellow', alpha=0.5),\n",
        "        arrowprops=dict(arrowstyle = '->', connectionstyle='arc3,rad=0')\n",
        "    );"
      ]
    },
    {
      "cell_type": "markdown",
      "metadata": {
        "id": "iBRM_zZnDBsP"
      },
      "source": [
        "## Ejercicio 12\n",
        "\n",
        "Utilizando la base de datos \"https://raw.githubusercontent.com/jisazac/pythonfinanzaseafit/master/SP_WEEKLY.csv\"  replique el ejercicio anterior culminando el grafico de dispersión de los dos primeros componentes principales.\n",
        "Sin embargo tenga en cuenta los siguientes cambios:\n",
        "\n",
        "+ Utilizar 30 en lugar de 10 activos cualesquiera\n",
        "+ Calcular 3 componentes principales en lugar de 2\n",
        "\n",
        "\n"
      ]
    },
    {
      "cell_type": "code",
      "execution_count": null,
      "metadata": {
        "id": "3sSPvWKwD5Jx"
      },
      "outputs": [],
      "source": []
    },
    {
      "cell_type": "markdown",
      "metadata": {
        "id": "x-LT-DNoMdUZ"
      },
      "source": [
        "# 7.0 Optimización de Portafolios\n",
        "\n",
        "Vamos a enfocar la optimización de portafolios desde la perspectiva de \n",
        "la teoría moderna del portafolio, la cual propone como maximizar el retorno y minimizar el riesgo, mediante una adecuada elección de los componentes. Propuesta por Harry Markowitz en 1952.\n",
        "\n",
        "La teoría moderna de la selección de cartera (modern portfolio theory) propone que el inversor debe abordar la cartera como un todo, estudiando el riesgo y retorno global, en lugar de escoger valores individuales en virtud del retorno esperado de cada valor en particular. Esta teoría puede enunciarse como un problema de optimización con restricciones\n",
        "\n",
        "$$\\begin{split}\\begin{equation*}\n",
        "\\begin{aligned}\n",
        "& \\underset{w}{\\text{minimise}} & & w^T \\Sigma w \\\\\n",
        "& \\text{subject to} & & w^T\\mu \\geq \\mu^*\\\\\n",
        "&&& w^T\\mathbf{1} = 1 \\\\\n",
        "&&& w_i \\geq 0 \\\\\n",
        "\\end{aligned}\n",
        "\\end{equation*}\\end{split}$$\n",
        "\n",
        "\n",
        "\n",
        "Vamos a utilizar los paquetes propuestos por el libro:\n",
        "\n",
        "<p><img alt=\"comparison  logo\" width=\"250\" height=\"280\" src=\"https://miro.medium.com/max/500/0*HPlMKEFv8M2pUcQy.jpg\"\n",
        "\" align=\"center\" hspace=\"10px\" vspace=\"0px\"></p>\n"
      ]
    },
    {
      "cell_type": "code",
      "execution_count": null,
      "metadata": {
        "id": "ei8mOXQzMgYJ"
      },
      "outputs": [],
      "source": [
        "# Importamos las librerias a utilizar\n",
        "from pandas_datareader import data as web\n",
        "import pandas as pd\n",
        "import numpy as np\n",
        "from datetime import datetime\n",
        "import matplotlib.pyplot as plt\n",
        "\n",
        "\n"
      ]
    },
    {
      "cell_type": "markdown",
      "metadata": {
        "id": "innmYd60UWAv"
      },
      "source": [
        "Instalamos el paquete PyPortfolioOpt\n",
        "\n",
        "<p><img alt=\"comparison  logo\" width=\"450\" height=\"280\" src=\"https://pyportfolioopt.readthedocs.io/en/latest/_images/conceptual_flowchart_v2-grey.png\"\n",
        "\" align=\"center\" hspace=\"10px\" vspace=\"0px\"></p>\n",
        "\n"
      ]
    },
    {
      "cell_type": "code",
      "execution_count": null,
      "metadata": {
        "id": "F7Em8pAnQSjW"
      },
      "outputs": [],
      "source": [
        "!pip install PyPortfolioOpt"
      ]
    },
    {
      "cell_type": "code",
      "execution_count": null,
      "metadata": {
        "colab": {
          "base_uri": "https://localhost:8080/",
          "height": 35
        },
        "id": "NgUgVlGEMhyD",
        "outputId": "ba72114f-74f3-4edb-cd3e-0ca794135120"
      },
      "outputs": [],
      "source": [
        "#Enlistamos 5 activos con sus tickers respectivos\n",
        "# y les asignamos pesos inciales iguales a 1/5\n",
        "\n",
        "assets =  [\"FB\", \"AMZN\", \"AAPL\", \"NFLX\", \"GOOG\"]\n",
        "weights = np.array([0.2, 0.2, 0.2, 0.2, 0.2])\n",
        "weights"
      ]
    },
    {
      "cell_type": "code",
      "execution_count": null,
      "metadata": {
        "id": "-5VMWwxiMoOp"
      },
      "outputs": [],
      "source": [
        "#Fecha de inicio\n",
        "stockStartDate = '2013-01-01'\n",
        "# Vamos hasta la feha de hoy y la formateamos\n",
        "today = datetime.today().strftime('%Y-%m-%d')\n",
        "\n",
        "#Creamos un dataframe vacío y le añadimos con un \n",
        "# ciclo cada uno de los activos\n",
        "df = pd.DataFrame()\n",
        "\n",
        "for stock in assets:\n",
        "  df[stock] = web.DataReader(stock,data_source='yahoo',start=stockStartDate , end=today)['Close']"
      ]
    },
    {
      "cell_type": "code",
      "execution_count": null,
      "metadata": {
        "colab": {
          "base_uri": "https://localhost:8080/",
          "height": 344
        },
        "id": "_CR9SYemMuHf",
        "outputId": "f3a6c304-4112-4a32-e2e9-88f1e51315f1"
      },
      "outputs": [],
      "source": [
        "# Grafiquemos el comportamiento de los precios de nuestros activos\n",
        "title = 'Comportamiento Histórico'\n",
        "#Get the stocks\n",
        "my_stocks = df\n",
        "#Create and plot the graph\n",
        "plt.figure(figsize=(12.2,4.5)) #width = 12.2in, height = 4.5\n",
        "\n",
        "\n",
        "for c in my_stocks.columns.values:\n",
        "  plt.plot( my_stocks[c],  label=c)\n",
        "plt.title(title)\n",
        "plt.xlabel('Fecha',fontsize=18)\n",
        "plt.ylabel('Close Price USD',fontsize=18)\n",
        "plt.legend(my_stocks.columns.values, loc='upper left')\n",
        "plt.show()"
      ]
    },
    {
      "cell_type": "code",
      "execution_count": null,
      "metadata": {
        "colab": {
          "base_uri": "https://localhost:8080/",
          "height": 198
        },
        "id": "vkxOIcpmM513",
        "outputId": "18dac995-5ced-4db8-fd25-38708b4db8ae"
      },
      "outputs": [],
      "source": [
        "#Calculamos los retornos\n",
        "returns = df.pct_change()\n",
        "\n",
        "#Calculamos nuestra matriz de varianzas y covarianzas de la forma\n",
        "# tradicional en terminos anuals\n",
        "cov_matrix_annual = returns.cov() * 252\n",
        "cov_matrix_annual"
      ]
    },
    {
      "cell_type": "code",
      "execution_count": null,
      "metadata": {
        "colab": {
          "base_uri": "https://localhost:8080/",
          "height": 54
        },
        "id": "mWChFOAhNFNy",
        "outputId": "abf9916b-5f68-4017-fa61-bf57c1725b62"
      },
      "outputs": [],
      "source": [
        "#Calculamos la varianza del portafolio utilizando\n",
        "# la especificación matricial\n",
        "port_variance = np.dot(weights.T, np.dot(cov_matrix_annual, weights))\n",
        "print(\"Varianza del portafolio: \",port_variance)\n",
        "\n",
        "#Calculamos la volatilidad del portafolio\n",
        "port_volatility = np.sqrt(port_variance)\n",
        "print(\"Volatilidad del portafolio: \",port_volatility)"
      ]
    },
    {
      "cell_type": "code",
      "execution_count": null,
      "metadata": {
        "colab": {
          "base_uri": "https://localhost:8080/",
          "height": 35
        },
        "id": "jGNHthyRNMXe",
        "outputId": "4c56ff4c-c8a8-4c0d-cc43-88db3f49a23f"
      },
      "outputs": [],
      "source": [
        "#Calculemos el retorno anual simple del portafolio\n",
        "portfolioSimpleAnnualReturn = np.sum(returns.mean()*weights) * 252\n",
        "portfolioSimpleAnnualReturn"
      ]
    },
    {
      "cell_type": "code",
      "execution_count": null,
      "metadata": {
        "colab": {
          "base_uri": "https://localhost:8080/",
          "height": 54
        },
        "id": "Nc62LgKINPS4",
        "outputId": "1f154803-7b3e-4e18-c461-f48cae009bbc"
      },
      "outputs": [],
      "source": [
        "#Veamos unas métricas del portafolio propuesto de momento\n",
        "\n",
        "percent_vols = str(round(port_volatility, 2) * 100) + '%'\n",
        "percent_ret = str(round(portfolioSimpleAnnualReturn, 2)*100)+'%'\n",
        "print(\"Retorno Anual Esperado: \"+ percent_ret)\n",
        "print('Volatilidad Anual : '+percent_vols)\n"
      ]
    },
    {
      "cell_type": "markdown",
      "metadata": {
        "id": "_RPHBAnRR9u2"
      },
      "source": [
        "Ahora importemos las funciones del paquete pypfopt necesarias para resolver el ejercicio"
      ]
    },
    {
      "cell_type": "code",
      "execution_count": null,
      "metadata": {
        "id": "rEUHFe7FNZTP"
      },
      "outputs": [],
      "source": [
        "from pypfopt.efficient_frontier import EfficientFrontier\n",
        "from pypfopt import risk_models\n",
        "from pypfopt import expected_returns"
      ]
    },
    {
      "cell_type": "code",
      "execution_count": null,
      "metadata": {
        "id": "8G9FS1zwNd-G"
      },
      "outputs": [],
      "source": [
        "mu = expected_returns.mean_historical_return(df)\n",
        "S = risk_models.sample_cov(df) "
      ]
    },
    {
      "cell_type": "code",
      "execution_count": null,
      "metadata": {
        "colab": {
          "base_uri": "https://localhost:8080/",
          "height": 145
        },
        "id": "OW0Uyn-rSOUz",
        "outputId": "0cdcae67-bad5-46ec-eef5-3e442eec0afd"
      },
      "outputs": [],
      "source": [
        "print(\"Retornos Esperados de los activos\")\n",
        "print(mu)"
      ]
    },
    {
      "cell_type": "code",
      "execution_count": null,
      "metadata": {
        "colab": {
          "base_uri": "https://localhost:8080/",
          "height": 126
        },
        "id": "_HCOhdBkNgmX",
        "outputId": "80b1f452-74f4-47cf-93a2-acd4fb3e84d9"
      },
      "outputs": [],
      "source": [
        "#Asi, obtenemos los pesos optimos de nuestro portafolio\n",
        "ef = EfficientFrontier(mu, S)\n",
        "weights = ef.max_sharpe() #Maximizamos ratio de sharpe y obtenemos los pesos optimos\n",
        "cleaned_weights = ef.clean_weights() \n",
        "print(cleaned_weights) \n",
        "print(\"------------------------------\")\n",
        "ef.portfolio_performance(verbose=True)"
      ]
    },
    {
      "cell_type": "markdown",
      "metadata": {
        "id": "itn9YEZ7TNUi"
      },
      "source": [
        "## Ejercicio 13\n",
        "\n",
        "Calcule un portafolio óptimo utilizando al menos 2 fondos de la sección 4 para el mismo periodo de tiempo. Imprima los resultados de su portafolio óptimo."
      ]
    },
    {
      "cell_type": "code",
      "execution_count": null,
      "metadata": {
        "id": "8I2j8wFpNjgb"
      },
      "outputs": [],
      "source": [
        "#Desarrolle aquí su ejercicio"
      ]
    },
    {
      "attachments": {},
      "cell_type": "markdown",
      "metadata": {},
      "source": [
        "# 8.0 PCA: Caso Aplicado a Renta Fija\n"
      ]
    },
    {
      "cell_type": "code",
      "execution_count": 21,
      "metadata": {
        "id": "aq2A5irZTjSO"
      },
      "outputs": [
        {
          "data": {
            "text/html": [
              "<div>\n",
              "<style scoped>\n",
              "    .dataframe tbody tr th:only-of-type {\n",
              "        vertical-align: middle;\n",
              "    }\n",
              "\n",
              "    .dataframe tbody tr th {\n",
              "        vertical-align: top;\n",
              "    }\n",
              "\n",
              "    .dataframe thead th {\n",
              "        text-align: right;\n",
              "    }\n",
              "</style>\n",
              "<table border=\"1\" class=\"dataframe\">\n",
              "  <thead>\n",
              "    <tr style=\"text-align: right;\">\n",
              "      <th></th>\n",
              "      <th>1.0</th>\n",
              "      <th>1.5</th>\n",
              "      <th>2.0</th>\n",
              "      <th>2.5</th>\n",
              "      <th>3.0</th>\n",
              "      <th>3.5</th>\n",
              "      <th>4.0</th>\n",
              "      <th>4.5</th>\n",
              "      <th>5.0</th>\n",
              "      <th>5.5</th>\n",
              "      <th>...</th>\n",
              "      <th>20.5</th>\n",
              "      <th>21.0</th>\n",
              "      <th>21.5</th>\n",
              "      <th>22.0</th>\n",
              "      <th>22.5</th>\n",
              "      <th>23.0</th>\n",
              "      <th>23.5</th>\n",
              "      <th>24.0</th>\n",
              "      <th>24.5</th>\n",
              "      <th>25.0</th>\n",
              "    </tr>\n",
              "    <tr>\n",
              "      <th>Date</th>\n",
              "      <th></th>\n",
              "      <th></th>\n",
              "      <th></th>\n",
              "      <th></th>\n",
              "      <th></th>\n",
              "      <th></th>\n",
              "      <th></th>\n",
              "      <th></th>\n",
              "      <th></th>\n",
              "      <th></th>\n",
              "      <th></th>\n",
              "      <th></th>\n",
              "      <th></th>\n",
              "      <th></th>\n",
              "      <th></th>\n",
              "      <th></th>\n",
              "      <th></th>\n",
              "      <th></th>\n",
              "      <th></th>\n",
              "      <th></th>\n",
              "      <th></th>\n",
              "    </tr>\n",
              "  </thead>\n",
              "  <tbody>\n",
              "    <tr>\n",
              "      <th>31/01/2000</th>\n",
              "      <td>6.32</td>\n",
              "      <td>6.43</td>\n",
              "      <td>6.47</td>\n",
              "      <td>6.48</td>\n",
              "      <td>6.46</td>\n",
              "      <td>6.43</td>\n",
              "      <td>6.39</td>\n",
              "      <td>6.34</td>\n",
              "      <td>6.29</td>\n",
              "      <td>6.23</td>\n",
              "      <td>...</td>\n",
              "      <td>4.45</td>\n",
              "      <td>4.42</td>\n",
              "      <td>4.40</td>\n",
              "      <td>4.38</td>\n",
              "      <td>4.36</td>\n",
              "      <td>4.34</td>\n",
              "      <td>4.32</td>\n",
              "      <td>4.31</td>\n",
              "      <td>4.30</td>\n",
              "      <td>4.29</td>\n",
              "    </tr>\n",
              "    <tr>\n",
              "      <th>29/02/2000</th>\n",
              "      <td>6.25</td>\n",
              "      <td>6.30</td>\n",
              "      <td>6.30</td>\n",
              "      <td>6.28</td>\n",
              "      <td>6.24</td>\n",
              "      <td>6.19</td>\n",
              "      <td>6.13</td>\n",
              "      <td>6.07</td>\n",
              "      <td>6.01</td>\n",
              "      <td>5.95</td>\n",
              "      <td>...</td>\n",
              "      <td>4.34</td>\n",
              "      <td>4.31</td>\n",
              "      <td>4.29</td>\n",
              "      <td>4.27</td>\n",
              "      <td>4.26</td>\n",
              "      <td>4.24</td>\n",
              "      <td>4.23</td>\n",
              "      <td>4.21</td>\n",
              "      <td>4.20</td>\n",
              "      <td>4.19</td>\n",
              "    </tr>\n",
              "    <tr>\n",
              "      <th>31/03/2000</th>\n",
              "      <td>6.25</td>\n",
              "      <td>6.29</td>\n",
              "      <td>6.27</td>\n",
              "      <td>6.22</td>\n",
              "      <td>6.16</td>\n",
              "      <td>6.09</td>\n",
              "      <td>6.01</td>\n",
              "      <td>5.93</td>\n",
              "      <td>5.86</td>\n",
              "      <td>5.78</td>\n",
              "      <td>...</td>\n",
              "      <td>4.33</td>\n",
              "      <td>4.31</td>\n",
              "      <td>4.29</td>\n",
              "      <td>4.28</td>\n",
              "      <td>4.27</td>\n",
              "      <td>4.25</td>\n",
              "      <td>4.24</td>\n",
              "      <td>4.23</td>\n",
              "      <td>4.22</td>\n",
              "      <td>4.21</td>\n",
              "    </tr>\n",
              "    <tr>\n",
              "      <th>30/04/2000</th>\n",
              "      <td>6.10</td>\n",
              "      <td>6.10</td>\n",
              "      <td>6.07</td>\n",
              "      <td>6.02</td>\n",
              "      <td>5.96</td>\n",
              "      <td>5.90</td>\n",
              "      <td>5.83</td>\n",
              "      <td>5.77</td>\n",
              "      <td>5.70</td>\n",
              "      <td>5.64</td>\n",
              "      <td>...</td>\n",
              "      <td>4.24</td>\n",
              "      <td>4.22</td>\n",
              "      <td>4.21</td>\n",
              "      <td>4.19</td>\n",
              "      <td>4.18</td>\n",
              "      <td>4.16</td>\n",
              "      <td>4.15</td>\n",
              "      <td>4.14</td>\n",
              "      <td>4.13</td>\n",
              "      <td>4.12</td>\n",
              "    </tr>\n",
              "    <tr>\n",
              "      <th>31/05/2000</th>\n",
              "      <td>6.13</td>\n",
              "      <td>6.16</td>\n",
              "      <td>6.14</td>\n",
              "      <td>6.08</td>\n",
              "      <td>6.01</td>\n",
              "      <td>5.93</td>\n",
              "      <td>5.85</td>\n",
              "      <td>5.77</td>\n",
              "      <td>5.70</td>\n",
              "      <td>5.62</td>\n",
              "      <td>...</td>\n",
              "      <td>4.28</td>\n",
              "      <td>4.26</td>\n",
              "      <td>4.24</td>\n",
              "      <td>4.22</td>\n",
              "      <td>4.20</td>\n",
              "      <td>4.18</td>\n",
              "      <td>4.16</td>\n",
              "      <td>4.15</td>\n",
              "      <td>4.13</td>\n",
              "      <td>4.11</td>\n",
              "    </tr>\n",
              "  </tbody>\n",
              "</table>\n",
              "<p>5 rows × 49 columns</p>\n",
              "</div>"
            ],
            "text/plain": [
              "             1.0   1.5   2.0   2.5   3.0   3.5   4.0   4.5   5.0   5.5  ...  \\\n",
              "Date                                                                    ...   \n",
              "31/01/2000  6.32  6.43  6.47  6.48  6.46  6.43  6.39  6.34  6.29  6.23  ...   \n",
              "29/02/2000  6.25  6.30  6.30  6.28  6.24  6.19  6.13  6.07  6.01  5.95  ...   \n",
              "31/03/2000  6.25  6.29  6.27  6.22  6.16  6.09  6.01  5.93  5.86  5.78  ...   \n",
              "30/04/2000  6.10  6.10  6.07  6.02  5.96  5.90  5.83  5.77  5.70  5.64  ...   \n",
              "31/05/2000  6.13  6.16  6.14  6.08  6.01  5.93  5.85  5.77  5.70  5.62  ...   \n",
              "\n",
              "            20.5  21.0  21.5  22.0  22.5  23.0  23.5  24.0  24.5  25.0  \n",
              "Date                                                                    \n",
              "31/01/2000  4.45  4.42  4.40  4.38  4.36  4.34  4.32  4.31  4.30  4.29  \n",
              "29/02/2000  4.34  4.31  4.29  4.27  4.26  4.24  4.23  4.21  4.20  4.19  \n",
              "31/03/2000  4.33  4.31  4.29  4.28  4.27  4.25  4.24  4.23  4.22  4.21  \n",
              "30/04/2000  4.24  4.22  4.21  4.19  4.18  4.16  4.15  4.14  4.13  4.12  \n",
              "31/05/2000  4.28  4.26  4.24  4.22  4.20  4.18  4.16  4.15  4.13  4.11  \n",
              "\n",
              "[5 rows x 49 columns]"
            ]
          },
          "execution_count": 21,
          "metadata": {},
          "output_type": "execute_result"
        }
      ],
      "source": [
        "%matplotlib inline\n",
        "import matplotlib.pyplot as plt\n",
        "import pandas as pd\n",
        "import numpy as np\n",
        "# Leemos la data de la ruta o repositorio\n",
        "df = pd.read_csv(\"spot_curve_uk.csv\")\n",
        "# Select all of the data up to 10 years\n",
        "\n",
        "df.set_index(\"Date\",inplace=True)\n",
        "df.head()"
      ]
    },
    {
      "cell_type": "code",
      "execution_count": 25,
      "metadata": {},
      "outputs": [
        {
          "data": {
            "text/plain": [
              "<AxesSubplot:xlabel='Date'>"
            ]
          },
          "execution_count": 25,
          "metadata": {},
          "output_type": "execute_result"
        },
        {
          "data": {
            "image/png": "[encoded data removed]",
            "text/plain": [
              "<Figure size 720x432 with 1 Axes>"
            ]
          },
          "metadata": {
            "needs_background": "light"
          },
          "output_type": "display_data"
        }
      ],
      "source": [
        "#Grafico Historico\n",
        "df[[\"1.0\",\"2.0\",\"10.0\",\"20.0\"]].plot(figsize=(10,6))"
      ]
    },
    {
      "cell_type": "code",
      "execution_count": 27,
      "metadata": {},
      "outputs": [
        {
          "data": {
            "text/plain": [
              "<AxesSubplot:>"
            ]
          },
          "execution_count": 27,
          "metadata": {},
          "output_type": "execute_result"
        },
        {
          "data": {
            "image/png": "[encoded data removed]",
            "text/plain": [
              "<Figure size 720x432 with 1 Axes>"
            ]
          },
          "metadata": {
            "needs_background": "light"
          },
          "output_type": "display_data"
        }
      ],
      "source": [
        "# Grafico de corte transversal\n",
        "df[[\"1.0\",\"2.0\",\"10.0\",\"20.0\"]].tail(1).T.plot(figsize=(10,6))"
      ]
    },
    {
      "cell_type": "code",
      "execution_count": 22,
      "metadata": {},
      "outputs": [
        {
          "data": {
            "text/html": [
              "<div>\n",
              "<style scoped>\n",
              "    .dataframe tbody tr th:only-of-type {\n",
              "        vertical-align: middle;\n",
              "    }\n",
              "\n",
              "    .dataframe tbody tr th {\n",
              "        vertical-align: top;\n",
              "    }\n",
              "\n",
              "    .dataframe thead th {\n",
              "        text-align: right;\n",
              "    }\n",
              "</style>\n",
              "<table border=\"1\" class=\"dataframe\">\n",
              "  <thead>\n",
              "    <tr style=\"text-align: right;\">\n",
              "      <th></th>\n",
              "      <th>1.0</th>\n",
              "      <th>1.5</th>\n",
              "      <th>2.0</th>\n",
              "      <th>2.5</th>\n",
              "      <th>3.0</th>\n",
              "      <th>3.5</th>\n",
              "      <th>4.0</th>\n",
              "      <th>4.5</th>\n",
              "      <th>5.0</th>\n",
              "      <th>5.5</th>\n",
              "      <th>...</th>\n",
              "      <th>20.5</th>\n",
              "      <th>21.0</th>\n",
              "      <th>21.5</th>\n",
              "      <th>22.0</th>\n",
              "      <th>22.5</th>\n",
              "      <th>23.0</th>\n",
              "      <th>23.5</th>\n",
              "      <th>24.0</th>\n",
              "      <th>24.5</th>\n",
              "      <th>25.0</th>\n",
              "    </tr>\n",
              "    <tr>\n",
              "      <th>Date</th>\n",
              "      <th></th>\n",
              "      <th></th>\n",
              "      <th></th>\n",
              "      <th></th>\n",
              "      <th></th>\n",
              "      <th></th>\n",
              "      <th></th>\n",
              "      <th></th>\n",
              "      <th></th>\n",
              "      <th></th>\n",
              "      <th></th>\n",
              "      <th></th>\n",
              "      <th></th>\n",
              "      <th></th>\n",
              "      <th></th>\n",
              "      <th></th>\n",
              "      <th></th>\n",
              "      <th></th>\n",
              "      <th></th>\n",
              "      <th></th>\n",
              "      <th></th>\n",
              "    </tr>\n",
              "  </thead>\n",
              "  <tbody>\n",
              "    <tr>\n",
              "      <th>31/01/2000</th>\n",
              "      <td>1.639318</td>\n",
              "      <td>1.705986</td>\n",
              "      <td>1.740368</td>\n",
              "      <td>1.762877</td>\n",
              "      <td>1.772998</td>\n",
              "      <td>1.780179</td>\n",
              "      <td>1.783482</td>\n",
              "      <td>1.781849</td>\n",
              "      <td>1.780477</td>\n",
              "      <td>1.772412</td>\n",
              "      <td>...</td>\n",
              "      <td>0.472273</td>\n",
              "      <td>0.437559</td>\n",
              "      <td>0.415619</td>\n",
              "      <td>0.394178</td>\n",
              "      <td>0.371581</td>\n",
              "      <td>0.350248</td>\n",
              "      <td>0.328154</td>\n",
              "      <td>0.320449</td>\n",
              "      <td>0.314701</td>\n",
              "      <td>0.308299</td>\n",
              "    </tr>\n",
              "    <tr>\n",
              "      <th>29/02/2000</th>\n",
              "      <td>1.606717</td>\n",
              "      <td>1.643900</td>\n",
              "      <td>1.656547</td>\n",
              "      <td>1.660723</td>\n",
              "      <td>1.656359</td>\n",
              "      <td>1.647970</td>\n",
              "      <td>1.634600</td>\n",
              "      <td>1.621075</td>\n",
              "      <td>1.607112</td>\n",
              "      <td>1.592194</td>\n",
              "      <td>...</td>\n",
              "      <td>0.315171</td>\n",
              "      <td>0.277648</td>\n",
              "      <td>0.253216</td>\n",
              "      <td>0.229130</td>\n",
              "      <td>0.219333</td>\n",
              "      <td>0.195656</td>\n",
              "      <td>0.187132</td>\n",
              "      <td>0.161671</td>\n",
              "      <td>0.153789</td>\n",
              "      <td>0.145501</td>\n",
              "    </tr>\n",
              "    <tr>\n",
              "      <th>31/03/2000</th>\n",
              "      <td>1.606717</td>\n",
              "      <td>1.639124</td>\n",
              "      <td>1.641755</td>\n",
              "      <td>1.630077</td>\n",
              "      <td>1.613945</td>\n",
              "      <td>1.592883</td>\n",
              "      <td>1.565885</td>\n",
              "      <td>1.537711</td>\n",
              "      <td>1.514238</td>\n",
              "      <td>1.482776</td>\n",
              "      <td>...</td>\n",
              "      <td>0.300889</td>\n",
              "      <td>0.277648</td>\n",
              "      <td>0.253216</td>\n",
              "      <td>0.244134</td>\n",
              "      <td>0.234558</td>\n",
              "      <td>0.211115</td>\n",
              "      <td>0.202801</td>\n",
              "      <td>0.193427</td>\n",
              "      <td>0.185971</td>\n",
              "      <td>0.178060</td>\n",
              "    </tr>\n",
              "    <tr>\n",
              "      <th>30/04/2000</th>\n",
              "      <td>1.536857</td>\n",
              "      <td>1.548384</td>\n",
              "      <td>1.543142</td>\n",
              "      <td>1.527922</td>\n",
              "      <td>1.507910</td>\n",
              "      <td>1.488217</td>\n",
              "      <td>1.462813</td>\n",
              "      <td>1.442438</td>\n",
              "      <td>1.415172</td>\n",
              "      <td>1.392667</td>\n",
              "      <td>...</td>\n",
              "      <td>0.172351</td>\n",
              "      <td>0.146812</td>\n",
              "      <td>0.135105</td>\n",
              "      <td>0.109094</td>\n",
              "      <td>0.097534</td>\n",
              "      <td>0.071982</td>\n",
              "      <td>0.061779</td>\n",
              "      <td>0.050528</td>\n",
              "      <td>0.041150</td>\n",
              "      <td>0.031542</td>\n",
              "    </tr>\n",
              "    <tr>\n",
              "      <th>31/05/2000</th>\n",
              "      <td>1.550829</td>\n",
              "      <td>1.577039</td>\n",
              "      <td>1.577656</td>\n",
              "      <td>1.558569</td>\n",
              "      <td>1.534418</td>\n",
              "      <td>1.504743</td>\n",
              "      <td>1.474265</td>\n",
              "      <td>1.442438</td>\n",
              "      <td>1.415172</td>\n",
              "      <td>1.379794</td>\n",
              "      <td>...</td>\n",
              "      <td>0.229479</td>\n",
              "      <td>0.204961</td>\n",
              "      <td>0.179397</td>\n",
              "      <td>0.154108</td>\n",
              "      <td>0.127984</td>\n",
              "      <td>0.102900</td>\n",
              "      <td>0.077448</td>\n",
              "      <td>0.066405</td>\n",
              "      <td>0.041150</td>\n",
              "      <td>0.015262</td>\n",
              "    </tr>\n",
              "  </tbody>\n",
              "</table>\n",
              "<p>5 rows × 49 columns</p>\n",
              "</div>"
            ],
            "text/plain": [
              "                 1.0       1.5       2.0       2.5       3.0       3.5  \\\n",
              "Date                                                                     \n",
              "31/01/2000  1.639318  1.705986  1.740368  1.762877  1.772998  1.780179   \n",
              "29/02/2000  1.606717  1.643900  1.656547  1.660723  1.656359  1.647970   \n",
              "31/03/2000  1.606717  1.639124  1.641755  1.630077  1.613945  1.592883   \n",
              "30/04/2000  1.536857  1.548384  1.543142  1.527922  1.507910  1.488217   \n",
              "31/05/2000  1.550829  1.577039  1.577656  1.558569  1.534418  1.504743   \n",
              "\n",
              "                 4.0       4.5       5.0       5.5  ...      20.5      21.0  \\\n",
              "Date                                                ...                       \n",
              "31/01/2000  1.783482  1.781849  1.780477  1.772412  ...  0.472273  0.437559   \n",
              "29/02/2000  1.634600  1.621075  1.607112  1.592194  ...  0.315171  0.277648   \n",
              "31/03/2000  1.565885  1.537711  1.514238  1.482776  ...  0.300889  0.277648   \n",
              "30/04/2000  1.462813  1.442438  1.415172  1.392667  ...  0.172351  0.146812   \n",
              "31/05/2000  1.474265  1.442438  1.415172  1.379794  ...  0.229479  0.204961   \n",
              "\n",
              "                21.5      22.0      22.5      23.0      23.5      24.0  \\\n",
              "Date                                                                     \n",
              "31/01/2000  0.415619  0.394178  0.371581  0.350248  0.328154  0.320449   \n",
              "29/02/2000  0.253216  0.229130  0.219333  0.195656  0.187132  0.161671   \n",
              "31/03/2000  0.253216  0.244134  0.234558  0.211115  0.202801  0.193427   \n",
              "30/04/2000  0.135105  0.109094  0.097534  0.071982  0.061779  0.050528   \n",
              "31/05/2000  0.179397  0.154108  0.127984  0.102900  0.077448  0.066405   \n",
              "\n",
              "                24.5      25.0  \n",
              "Date                            \n",
              "31/01/2000  0.314701  0.308299  \n",
              "29/02/2000  0.153789  0.145501  \n",
              "31/03/2000  0.185971  0.178060  \n",
              "30/04/2000  0.041150  0.031542  \n",
              "31/05/2000  0.041150  0.015262  \n",
              "\n",
              "[5 rows x 49 columns]"
            ]
          },
          "execution_count": 22,
          "metadata": {},
          "output_type": "execute_result"
        }
      ],
      "source": [
        "# Standardise the data in the df into z scores\n",
        "\n",
        "df_std = ((df-df.mean()) / df.std())\n",
        "df_std.head()"
      ]
    },
    {
      "cell_type": "code",
      "execution_count": 31,
      "metadata": {},
      "outputs": [
        {
          "data": {
            "text/plain": [
              "array([4.49130515e+01, 3.91490587e+00, 1.34502508e-01, 2.71882003e-02,\n",
              "       8.62807103e-03, 1.02239996e-03, 2.64595595e-04, 3.94108549e-05,\n",
              "       2.65462512e-05, 2.63098418e-05, 2.24369523e-05, 2.13657649e-05,\n",
              "       2.00529682e-05, 1.92313855e-05, 1.78990630e-05, 1.67424483e-05,\n",
              "       1.60253036e-05, 1.51956287e-05, 1.45279324e-05, 1.29926901e-05,\n",
              "       1.27900445e-05, 1.20628960e-05, 1.03706475e-05, 1.05569529e-06,\n",
              "       1.00669258e-05, 9.88187829e-06, 9.34460235e-06, 1.48865375e-06,\n",
              "       1.69411538e-06, 1.93357213e-06, 2.12214145e-06, 2.26667326e-06,\n",
              "       2.77774175e-06, 2.96715655e-06, 3.28850290e-06, 3.57726272e-06,\n",
              "       8.56787697e-06, 8.26010023e-06, 7.79161811e-06, 7.65751847e-06,\n",
              "       4.07876536e-06, 4.38902919e-06, 4.75511553e-06, 4.92609787e-06,\n",
              "       5.31588823e-06, 5.64800192e-06, 6.58769881e-06, 6.26957200e-06,\n",
              "       6.15350242e-06])"
            ]
          },
          "execution_count": 31,
          "metadata": {},
          "output_type": "execute_result"
        }
      ],
      "source": [
        "# Create a covariance matrix \n",
        "cov_matrix_array = np.array(np.cov(df_std, rowvar=False))\n",
        "\n",
        "# Perform eigendecomposition\n",
        "eigenvalues, eigenvectors = np.linalg.eig(cov_matrix_array)\n",
        "\n",
        "# Put data into a DataFrame \n",
        "df_eigval = pd.DataFrame({\"Eigenvalues\":eigenvalues})\n",
        "df_eigvec = pd.DataFrame(eigenvectors)\n",
        "eigenvalues"
      ]
    },
    {
      "cell_type": "code",
      "execution_count": 32,
      "metadata": {},
      "outputs": [
        {
          "data": {
            "text/html": [
              "<style type=\"text/css\">\n",
              "</style>\n",
              "<table id=\"T_385c6_\">\n",
              "  <thead>\n",
              "    <tr>\n",
              "      <th class=\"blank level0\" >&nbsp;</th>\n",
              "      <th class=\"col_heading level0 col0\" >Eigenvalues</th>\n",
              "      <th class=\"col_heading level0 col1\" >Explained proportion</th>\n",
              "    </tr>\n",
              "  </thead>\n",
              "  <tbody>\n",
              "    <tr>\n",
              "      <th id=\"T_385c6_level0_row0\" class=\"row_heading level0 row0\" >0</th>\n",
              "      <td id=\"T_385c6_row0_col0\" class=\"data row0 col0\" >44.913052</td>\n",
              "      <td id=\"T_385c6_row0_col1\" class=\"data row0 col1\" >91.66%</td>\n",
              "    </tr>\n",
              "    <tr>\n",
              "      <th id=\"T_385c6_level0_row1\" class=\"row_heading level0 row1\" >1</th>\n",
              "      <td id=\"T_385c6_row1_col0\" class=\"data row1 col0\" >3.914906</td>\n",
              "      <td id=\"T_385c6_row1_col1\" class=\"data row1 col1\" >7.99%</td>\n",
              "    </tr>\n",
              "    <tr>\n",
              "      <th id=\"T_385c6_level0_row2\" class=\"row_heading level0 row2\" >2</th>\n",
              "      <td id=\"T_385c6_row2_col0\" class=\"data row2 col0\" >0.134503</td>\n",
              "      <td id=\"T_385c6_row2_col1\" class=\"data row2 col1\" >0.27%</td>\n",
              "    </tr>\n",
              "    <tr>\n",
              "      <th id=\"T_385c6_level0_row3\" class=\"row_heading level0 row3\" >3</th>\n",
              "      <td id=\"T_385c6_row3_col0\" class=\"data row3 col0\" >0.027188</td>\n",
              "      <td id=\"T_385c6_row3_col1\" class=\"data row3 col1\" >0.06%</td>\n",
              "    </tr>\n",
              "    <tr>\n",
              "      <th id=\"T_385c6_level0_row4\" class=\"row_heading level0 row4\" >4</th>\n",
              "      <td id=\"T_385c6_row4_col0\" class=\"data row4 col0\" >0.008628</td>\n",
              "      <td id=\"T_385c6_row4_col1\" class=\"data row4 col1\" >0.02%</td>\n",
              "    </tr>\n",
              "    <tr>\n",
              "      <th id=\"T_385c6_level0_row5\" class=\"row_heading level0 row5\" >5</th>\n",
              "      <td id=\"T_385c6_row5_col0\" class=\"data row5 col0\" >0.001022</td>\n",
              "      <td id=\"T_385c6_row5_col1\" class=\"data row5 col1\" >0.00%</td>\n",
              "    </tr>\n",
              "    <tr>\n",
              "      <th id=\"T_385c6_level0_row6\" class=\"row_heading level0 row6\" >6</th>\n",
              "      <td id=\"T_385c6_row6_col0\" class=\"data row6 col0\" >0.000265</td>\n",
              "      <td id=\"T_385c6_row6_col1\" class=\"data row6 col1\" >0.00%</td>\n",
              "    </tr>\n",
              "    <tr>\n",
              "      <th id=\"T_385c6_level0_row7\" class=\"row_heading level0 row7\" >7</th>\n",
              "      <td id=\"T_385c6_row7_col0\" class=\"data row7 col0\" >0.000039</td>\n",
              "      <td id=\"T_385c6_row7_col1\" class=\"data row7 col1\" >0.00%</td>\n",
              "    </tr>\n",
              "    <tr>\n",
              "      <th id=\"T_385c6_level0_row8\" class=\"row_heading level0 row8\" >8</th>\n",
              "      <td id=\"T_385c6_row8_col0\" class=\"data row8 col0\" >0.000027</td>\n",
              "      <td id=\"T_385c6_row8_col1\" class=\"data row8 col1\" >0.00%</td>\n",
              "    </tr>\n",
              "    <tr>\n",
              "      <th id=\"T_385c6_level0_row9\" class=\"row_heading level0 row9\" >9</th>\n",
              "      <td id=\"T_385c6_row9_col0\" class=\"data row9 col0\" >0.000026</td>\n",
              "      <td id=\"T_385c6_row9_col1\" class=\"data row9 col1\" >0.00%</td>\n",
              "    </tr>\n",
              "    <tr>\n",
              "      <th id=\"T_385c6_level0_row10\" class=\"row_heading level0 row10\" >10</th>\n",
              "      <td id=\"T_385c6_row10_col0\" class=\"data row10 col0\" >0.000022</td>\n",
              "      <td id=\"T_385c6_row10_col1\" class=\"data row10 col1\" >0.00%</td>\n",
              "    </tr>\n",
              "    <tr>\n",
              "      <th id=\"T_385c6_level0_row11\" class=\"row_heading level0 row11\" >11</th>\n",
              "      <td id=\"T_385c6_row11_col0\" class=\"data row11 col0\" >0.000021</td>\n",
              "      <td id=\"T_385c6_row11_col1\" class=\"data row11 col1\" >0.00%</td>\n",
              "    </tr>\n",
              "    <tr>\n",
              "      <th id=\"T_385c6_level0_row12\" class=\"row_heading level0 row12\" >12</th>\n",
              "      <td id=\"T_385c6_row12_col0\" class=\"data row12 col0\" >0.000020</td>\n",
              "      <td id=\"T_385c6_row12_col1\" class=\"data row12 col1\" >0.00%</td>\n",
              "    </tr>\n",
              "    <tr>\n",
              "      <th id=\"T_385c6_level0_row13\" class=\"row_heading level0 row13\" >13</th>\n",
              "      <td id=\"T_385c6_row13_col0\" class=\"data row13 col0\" >0.000019</td>\n",
              "      <td id=\"T_385c6_row13_col1\" class=\"data row13 col1\" >0.00%</td>\n",
              "    </tr>\n",
              "    <tr>\n",
              "      <th id=\"T_385c6_level0_row14\" class=\"row_heading level0 row14\" >14</th>\n",
              "      <td id=\"T_385c6_row14_col0\" class=\"data row14 col0\" >0.000018</td>\n",
              "      <td id=\"T_385c6_row14_col1\" class=\"data row14 col1\" >0.00%</td>\n",
              "    </tr>\n",
              "    <tr>\n",
              "      <th id=\"T_385c6_level0_row15\" class=\"row_heading level0 row15\" >15</th>\n",
              "      <td id=\"T_385c6_row15_col0\" class=\"data row15 col0\" >0.000017</td>\n",
              "      <td id=\"T_385c6_row15_col1\" class=\"data row15 col1\" >0.00%</td>\n",
              "    </tr>\n",
              "    <tr>\n",
              "      <th id=\"T_385c6_level0_row16\" class=\"row_heading level0 row16\" >16</th>\n",
              "      <td id=\"T_385c6_row16_col0\" class=\"data row16 col0\" >0.000016</td>\n",
              "      <td id=\"T_385c6_row16_col1\" class=\"data row16 col1\" >0.00%</td>\n",
              "    </tr>\n",
              "    <tr>\n",
              "      <th id=\"T_385c6_level0_row17\" class=\"row_heading level0 row17\" >17</th>\n",
              "      <td id=\"T_385c6_row17_col0\" class=\"data row17 col0\" >0.000015</td>\n",
              "      <td id=\"T_385c6_row17_col1\" class=\"data row17 col1\" >0.00%</td>\n",
              "    </tr>\n",
              "    <tr>\n",
              "      <th id=\"T_385c6_level0_row18\" class=\"row_heading level0 row18\" >18</th>\n",
              "      <td id=\"T_385c6_row18_col0\" class=\"data row18 col0\" >0.000015</td>\n",
              "      <td id=\"T_385c6_row18_col1\" class=\"data row18 col1\" >0.00%</td>\n",
              "    </tr>\n",
              "    <tr>\n",
              "      <th id=\"T_385c6_level0_row19\" class=\"row_heading level0 row19\" >19</th>\n",
              "      <td id=\"T_385c6_row19_col0\" class=\"data row19 col0\" >0.000013</td>\n",
              "      <td id=\"T_385c6_row19_col1\" class=\"data row19 col1\" >0.00%</td>\n",
              "    </tr>\n",
              "    <tr>\n",
              "      <th id=\"T_385c6_level0_row20\" class=\"row_heading level0 row20\" >20</th>\n",
              "      <td id=\"T_385c6_row20_col0\" class=\"data row20 col0\" >0.000013</td>\n",
              "      <td id=\"T_385c6_row20_col1\" class=\"data row20 col1\" >0.00%</td>\n",
              "    </tr>\n",
              "    <tr>\n",
              "      <th id=\"T_385c6_level0_row21\" class=\"row_heading level0 row21\" >21</th>\n",
              "      <td id=\"T_385c6_row21_col0\" class=\"data row21 col0\" >0.000012</td>\n",
              "      <td id=\"T_385c6_row21_col1\" class=\"data row21 col1\" >0.00%</td>\n",
              "    </tr>\n",
              "    <tr>\n",
              "      <th id=\"T_385c6_level0_row22\" class=\"row_heading level0 row22\" >22</th>\n",
              "      <td id=\"T_385c6_row22_col0\" class=\"data row22 col0\" >0.000010</td>\n",
              "      <td id=\"T_385c6_row22_col1\" class=\"data row22 col1\" >0.00%</td>\n",
              "    </tr>\n",
              "    <tr>\n",
              "      <th id=\"T_385c6_level0_row23\" class=\"row_heading level0 row23\" >23</th>\n",
              "      <td id=\"T_385c6_row23_col0\" class=\"data row23 col0\" >0.000001</td>\n",
              "      <td id=\"T_385c6_row23_col1\" class=\"data row23 col1\" >0.00%</td>\n",
              "    </tr>\n",
              "    <tr>\n",
              "      <th id=\"T_385c6_level0_row24\" class=\"row_heading level0 row24\" >24</th>\n",
              "      <td id=\"T_385c6_row24_col0\" class=\"data row24 col0\" >0.000010</td>\n",
              "      <td id=\"T_385c6_row24_col1\" class=\"data row24 col1\" >0.00%</td>\n",
              "    </tr>\n",
              "    <tr>\n",
              "      <th id=\"T_385c6_level0_row25\" class=\"row_heading level0 row25\" >25</th>\n",
              "      <td id=\"T_385c6_row25_col0\" class=\"data row25 col0\" >0.000010</td>\n",
              "      <td id=\"T_385c6_row25_col1\" class=\"data row25 col1\" >0.00%</td>\n",
              "    </tr>\n",
              "    <tr>\n",
              "      <th id=\"T_385c6_level0_row26\" class=\"row_heading level0 row26\" >26</th>\n",
              "      <td id=\"T_385c6_row26_col0\" class=\"data row26 col0\" >0.000009</td>\n",
              "      <td id=\"T_385c6_row26_col1\" class=\"data row26 col1\" >0.00%</td>\n",
              "    </tr>\n",
              "    <tr>\n",
              "      <th id=\"T_385c6_level0_row27\" class=\"row_heading level0 row27\" >27</th>\n",
              "      <td id=\"T_385c6_row27_col0\" class=\"data row27 col0\" >0.000001</td>\n",
              "      <td id=\"T_385c6_row27_col1\" class=\"data row27 col1\" >0.00%</td>\n",
              "    </tr>\n",
              "    <tr>\n",
              "      <th id=\"T_385c6_level0_row28\" class=\"row_heading level0 row28\" >28</th>\n",
              "      <td id=\"T_385c6_row28_col0\" class=\"data row28 col0\" >0.000002</td>\n",
              "      <td id=\"T_385c6_row28_col1\" class=\"data row28 col1\" >0.00%</td>\n",
              "    </tr>\n",
              "    <tr>\n",
              "      <th id=\"T_385c6_level0_row29\" class=\"row_heading level0 row29\" >29</th>\n",
              "      <td id=\"T_385c6_row29_col0\" class=\"data row29 col0\" >0.000002</td>\n",
              "      <td id=\"T_385c6_row29_col1\" class=\"data row29 col1\" >0.00%</td>\n",
              "    </tr>\n",
              "    <tr>\n",
              "      <th id=\"T_385c6_level0_row30\" class=\"row_heading level0 row30\" >30</th>\n",
              "      <td id=\"T_385c6_row30_col0\" class=\"data row30 col0\" >0.000002</td>\n",
              "      <td id=\"T_385c6_row30_col1\" class=\"data row30 col1\" >0.00%</td>\n",
              "    </tr>\n",
              "    <tr>\n",
              "      <th id=\"T_385c6_level0_row31\" class=\"row_heading level0 row31\" >31</th>\n",
              "      <td id=\"T_385c6_row31_col0\" class=\"data row31 col0\" >0.000002</td>\n",
              "      <td id=\"T_385c6_row31_col1\" class=\"data row31 col1\" >0.00%</td>\n",
              "    </tr>\n",
              "    <tr>\n",
              "      <th id=\"T_385c6_level0_row32\" class=\"row_heading level0 row32\" >32</th>\n",
              "      <td id=\"T_385c6_row32_col0\" class=\"data row32 col0\" >0.000003</td>\n",
              "      <td id=\"T_385c6_row32_col1\" class=\"data row32 col1\" >0.00%</td>\n",
              "    </tr>\n",
              "    <tr>\n",
              "      <th id=\"T_385c6_level0_row33\" class=\"row_heading level0 row33\" >33</th>\n",
              "      <td id=\"T_385c6_row33_col0\" class=\"data row33 col0\" >0.000003</td>\n",
              "      <td id=\"T_385c6_row33_col1\" class=\"data row33 col1\" >0.00%</td>\n",
              "    </tr>\n",
              "    <tr>\n",
              "      <th id=\"T_385c6_level0_row34\" class=\"row_heading level0 row34\" >34</th>\n",
              "      <td id=\"T_385c6_row34_col0\" class=\"data row34 col0\" >0.000003</td>\n",
              "      <td id=\"T_385c6_row34_col1\" class=\"data row34 col1\" >0.00%</td>\n",
              "    </tr>\n",
              "    <tr>\n",
              "      <th id=\"T_385c6_level0_row35\" class=\"row_heading level0 row35\" >35</th>\n",
              "      <td id=\"T_385c6_row35_col0\" class=\"data row35 col0\" >0.000004</td>\n",
              "      <td id=\"T_385c6_row35_col1\" class=\"data row35 col1\" >0.00%</td>\n",
              "    </tr>\n",
              "    <tr>\n",
              "      <th id=\"T_385c6_level0_row36\" class=\"row_heading level0 row36\" >36</th>\n",
              "      <td id=\"T_385c6_row36_col0\" class=\"data row36 col0\" >0.000009</td>\n",
              "      <td id=\"T_385c6_row36_col1\" class=\"data row36 col1\" >0.00%</td>\n",
              "    </tr>\n",
              "    <tr>\n",
              "      <th id=\"T_385c6_level0_row37\" class=\"row_heading level0 row37\" >37</th>\n",
              "      <td id=\"T_385c6_row37_col0\" class=\"data row37 col0\" >0.000008</td>\n",
              "      <td id=\"T_385c6_row37_col1\" class=\"data row37 col1\" >0.00%</td>\n",
              "    </tr>\n",
              "    <tr>\n",
              "      <th id=\"T_385c6_level0_row38\" class=\"row_heading level0 row38\" >38</th>\n",
              "      <td id=\"T_385c6_row38_col0\" class=\"data row38 col0\" >0.000008</td>\n",
              "      <td id=\"T_385c6_row38_col1\" class=\"data row38 col1\" >0.00%</td>\n",
              "    </tr>\n",
              "    <tr>\n",
              "      <th id=\"T_385c6_level0_row39\" class=\"row_heading level0 row39\" >39</th>\n",
              "      <td id=\"T_385c6_row39_col0\" class=\"data row39 col0\" >0.000008</td>\n",
              "      <td id=\"T_385c6_row39_col1\" class=\"data row39 col1\" >0.00%</td>\n",
              "    </tr>\n",
              "    <tr>\n",
              "      <th id=\"T_385c6_level0_row40\" class=\"row_heading level0 row40\" >40</th>\n",
              "      <td id=\"T_385c6_row40_col0\" class=\"data row40 col0\" >0.000004</td>\n",
              "      <td id=\"T_385c6_row40_col1\" class=\"data row40 col1\" >0.00%</td>\n",
              "    </tr>\n",
              "    <tr>\n",
              "      <th id=\"T_385c6_level0_row41\" class=\"row_heading level0 row41\" >41</th>\n",
              "      <td id=\"T_385c6_row41_col0\" class=\"data row41 col0\" >0.000004</td>\n",
              "      <td id=\"T_385c6_row41_col1\" class=\"data row41 col1\" >0.00%</td>\n",
              "    </tr>\n",
              "    <tr>\n",
              "      <th id=\"T_385c6_level0_row42\" class=\"row_heading level0 row42\" >42</th>\n",
              "      <td id=\"T_385c6_row42_col0\" class=\"data row42 col0\" >0.000005</td>\n",
              "      <td id=\"T_385c6_row42_col1\" class=\"data row42 col1\" >0.00%</td>\n",
              "    </tr>\n",
              "    <tr>\n",
              "      <th id=\"T_385c6_level0_row43\" class=\"row_heading level0 row43\" >43</th>\n",
              "      <td id=\"T_385c6_row43_col0\" class=\"data row43 col0\" >0.000005</td>\n",
              "      <td id=\"T_385c6_row43_col1\" class=\"data row43 col1\" >0.00%</td>\n",
              "    </tr>\n",
              "    <tr>\n",
              "      <th id=\"T_385c6_level0_row44\" class=\"row_heading level0 row44\" >44</th>\n",
              "      <td id=\"T_385c6_row44_col0\" class=\"data row44 col0\" >0.000005</td>\n",
              "      <td id=\"T_385c6_row44_col1\" class=\"data row44 col1\" >0.00%</td>\n",
              "    </tr>\n",
              "    <tr>\n",
              "      <th id=\"T_385c6_level0_row45\" class=\"row_heading level0 row45\" >45</th>\n",
              "      <td id=\"T_385c6_row45_col0\" class=\"data row45 col0\" >0.000006</td>\n",
              "      <td id=\"T_385c6_row45_col1\" class=\"data row45 col1\" >0.00%</td>\n",
              "    </tr>\n",
              "    <tr>\n",
              "      <th id=\"T_385c6_level0_row46\" class=\"row_heading level0 row46\" >46</th>\n",
              "      <td id=\"T_385c6_row46_col0\" class=\"data row46 col0\" >0.000007</td>\n",
              "      <td id=\"T_385c6_row46_col1\" class=\"data row46 col1\" >0.00%</td>\n",
              "    </tr>\n",
              "    <tr>\n",
              "      <th id=\"T_385c6_level0_row47\" class=\"row_heading level0 row47\" >47</th>\n",
              "      <td id=\"T_385c6_row47_col0\" class=\"data row47 col0\" >0.000006</td>\n",
              "      <td id=\"T_385c6_row47_col1\" class=\"data row47 col1\" >0.00%</td>\n",
              "    </tr>\n",
              "    <tr>\n",
              "      <th id=\"T_385c6_level0_row48\" class=\"row_heading level0 row48\" >48</th>\n",
              "      <td id=\"T_385c6_row48_col0\" class=\"data row48 col0\" >0.000006</td>\n",
              "      <td id=\"T_385c6_row48_col1\" class=\"data row48 col1\" >0.00%</td>\n",
              "    </tr>\n",
              "  </tbody>\n",
              "</table>\n"
            ],
            "text/plain": [
              "<pandas.io.formats.style.Styler at 0x2054a0fbf10>"
            ]
          },
          "execution_count": 32,
          "metadata": {},
          "output_type": "execute_result"
        }
      ],
      "source": [
        "# Work out explained proportion \n",
        "df_eigval[\"Explained proportion\"] = df_eigval[\"Eigenvalues\"] / np.sum(df_eigval[\"Eigenvalues\"])\n",
        "\n",
        "#Format as percentage\n",
        "df_eigval.style.format({\"Explained proportion\": \"{:.2%}\"})"
      ]
    },
    {
      "cell_type": "code",
      "execution_count": 33,
      "metadata": {},
      "outputs": [
        {
          "data": {
            "text/html": [
              "<div>\n",
              "<style scoped>\n",
              "    .dataframe tbody tr th:only-of-type {\n",
              "        vertical-align: middle;\n",
              "    }\n",
              "\n",
              "    .dataframe tbody tr th {\n",
              "        vertical-align: top;\n",
              "    }\n",
              "\n",
              "    .dataframe thead th {\n",
              "        text-align: right;\n",
              "    }\n",
              "</style>\n",
              "<table border=\"1\" class=\"dataframe\">\n",
              "  <thead>\n",
              "    <tr style=\"text-align: right;\">\n",
              "      <th></th>\n",
              "      <th>0</th>\n",
              "      <th>1</th>\n",
              "      <th>2</th>\n",
              "      <th>3</th>\n",
              "      <th>4</th>\n",
              "      <th>5</th>\n",
              "      <th>6</th>\n",
              "      <th>7</th>\n",
              "      <th>8</th>\n",
              "      <th>9</th>\n",
              "      <th>...</th>\n",
              "      <th>39</th>\n",
              "      <th>40</th>\n",
              "      <th>41</th>\n",
              "      <th>42</th>\n",
              "      <th>43</th>\n",
              "      <th>44</th>\n",
              "      <th>45</th>\n",
              "      <th>46</th>\n",
              "      <th>47</th>\n",
              "      <th>48</th>\n",
              "    </tr>\n",
              "    <tr>\n",
              "      <th>Date</th>\n",
              "      <th></th>\n",
              "      <th></th>\n",
              "      <th></th>\n",
              "      <th></th>\n",
              "      <th></th>\n",
              "      <th></th>\n",
              "      <th></th>\n",
              "      <th></th>\n",
              "      <th></th>\n",
              "      <th></th>\n",
              "      <th></th>\n",
              "      <th></th>\n",
              "      <th></th>\n",
              "      <th></th>\n",
              "      <th></th>\n",
              "      <th></th>\n",
              "      <th></th>\n",
              "      <th></th>\n",
              "      <th></th>\n",
              "      <th></th>\n",
              "      <th></th>\n",
              "    </tr>\n",
              "  </thead>\n",
              "  <tbody>\n",
              "    <tr>\n",
              "      <th>31/01/2000</th>\n",
              "      <td>-7.954140</td>\n",
              "      <td>3.796736</td>\n",
              "      <td>0.747118</td>\n",
              "      <td>-0.162828</td>\n",
              "      <td>-0.314993</td>\n",
              "      <td>0.033594</td>\n",
              "      <td>-0.003405</td>\n",
              "      <td>0.005925</td>\n",
              "      <td>-0.002269</td>\n",
              "      <td>-0.003010</td>\n",
              "      <td>...</td>\n",
              "      <td>-0.004911</td>\n",
              "      <td>0.002851</td>\n",
              "      <td>-0.000044</td>\n",
              "      <td>-0.003658</td>\n",
              "      <td>0.000432</td>\n",
              "      <td>-0.002393</td>\n",
              "      <td>0.000555</td>\n",
              "      <td>-0.002260</td>\n",
              "      <td>0.000333</td>\n",
              "      <td>-0.004287</td>\n",
              "    </tr>\n",
              "    <tr>\n",
              "      <th>29/02/2000</th>\n",
              "      <td>-6.658700</td>\n",
              "      <td>3.850307</td>\n",
              "      <td>0.471722</td>\n",
              "      <td>-0.135993</td>\n",
              "      <td>-0.230799</td>\n",
              "      <td>0.023854</td>\n",
              "      <td>-0.003715</td>\n",
              "      <td>0.006717</td>\n",
              "      <td>0.003090</td>\n",
              "      <td>-0.002197</td>\n",
              "      <td>...</td>\n",
              "      <td>-0.001016</td>\n",
              "      <td>-0.001414</td>\n",
              "      <td>0.001940</td>\n",
              "      <td>0.000561</td>\n",
              "      <td>0.002556</td>\n",
              "      <td>-0.001502</td>\n",
              "      <td>0.000074</td>\n",
              "      <td>0.002089</td>\n",
              "      <td>-0.003644</td>\n",
              "      <td>0.001069</td>\n",
              "    </tr>\n",
              "    <tr>\n",
              "      <th>31/03/2000</th>\n",
              "      <td>-6.117852</td>\n",
              "      <td>3.665328</td>\n",
              "      <td>0.080680</td>\n",
              "      <td>-0.180386</td>\n",
              "      <td>-0.159779</td>\n",
              "      <td>0.025677</td>\n",
              "      <td>0.004758</td>\n",
              "      <td>-0.000537</td>\n",
              "      <td>-0.002207</td>\n",
              "      <td>-0.001894</td>\n",
              "      <td>...</td>\n",
              "      <td>-0.002834</td>\n",
              "      <td>-0.000456</td>\n",
              "      <td>-0.000649</td>\n",
              "      <td>0.003672</td>\n",
              "      <td>0.000941</td>\n",
              "      <td>0.000899</td>\n",
              "      <td>-0.002096</td>\n",
              "      <td>-0.000153</td>\n",
              "      <td>0.001705</td>\n",
              "      <td>-0.000561</td>\n",
              "    </tr>\n",
              "    <tr>\n",
              "      <th>30/04/2000</th>\n",
              "      <td>-5.496048</td>\n",
              "      <td>3.763970</td>\n",
              "      <td>0.273128</td>\n",
              "      <td>-0.087998</td>\n",
              "      <td>-0.213192</td>\n",
              "      <td>0.028336</td>\n",
              "      <td>0.006590</td>\n",
              "      <td>-0.004433</td>\n",
              "      <td>0.001819</td>\n",
              "      <td>-0.000721</td>\n",
              "      <td>...</td>\n",
              "      <td>0.001562</td>\n",
              "      <td>-0.000495</td>\n",
              "      <td>-0.003845</td>\n",
              "      <td>-0.000530</td>\n",
              "      <td>0.000493</td>\n",
              "      <td>-0.002847</td>\n",
              "      <td>0.000742</td>\n",
              "      <td>-0.001104</td>\n",
              "      <td>0.000401</td>\n",
              "      <td>-0.000909</td>\n",
              "    </tr>\n",
              "    <tr>\n",
              "      <th>31/05/2000</th>\n",
              "      <td>-5.564263</td>\n",
              "      <td>3.658990</td>\n",
              "      <td>0.154624</td>\n",
              "      <td>-0.042483</td>\n",
              "      <td>-0.037856</td>\n",
              "      <td>0.046089</td>\n",
              "      <td>0.020942</td>\n",
              "      <td>-0.010452</td>\n",
              "      <td>0.001145</td>\n",
              "      <td>-0.003082</td>\n",
              "      <td>...</td>\n",
              "      <td>0.001124</td>\n",
              "      <td>0.001873</td>\n",
              "      <td>0.000328</td>\n",
              "      <td>-0.002248</td>\n",
              "      <td>-0.000004</td>\n",
              "      <td>0.001559</td>\n",
              "      <td>-0.002521</td>\n",
              "      <td>0.000708</td>\n",
              "      <td>-0.000233</td>\n",
              "      <td>-0.000097</td>\n",
              "    </tr>\n",
              "  </tbody>\n",
              "</table>\n",
              "<p>5 rows × 49 columns</p>\n",
              "</div>"
            ],
            "text/plain": [
              "                  0         1         2         3         4         5   \\\n",
              "Date                                                                     \n",
              "31/01/2000 -7.954140  3.796736  0.747118 -0.162828 -0.314993  0.033594   \n",
              "29/02/2000 -6.658700  3.850307  0.471722 -0.135993 -0.230799  0.023854   \n",
              "31/03/2000 -6.117852  3.665328  0.080680 -0.180386 -0.159779  0.025677   \n",
              "30/04/2000 -5.496048  3.763970  0.273128 -0.087998 -0.213192  0.028336   \n",
              "31/05/2000 -5.564263  3.658990  0.154624 -0.042483 -0.037856  0.046089   \n",
              "\n",
              "                  6         7         8         9   ...        39        40  \\\n",
              "Date                                                ...                       \n",
              "31/01/2000 -0.003405  0.005925 -0.002269 -0.003010  ... -0.004911  0.002851   \n",
              "29/02/2000 -0.003715  0.006717  0.003090 -0.002197  ... -0.001016 -0.001414   \n",
              "31/03/2000  0.004758 -0.000537 -0.002207 -0.001894  ... -0.002834 -0.000456   \n",
              "30/04/2000  0.006590 -0.004433  0.001819 -0.000721  ...  0.001562 -0.000495   \n",
              "31/05/2000  0.020942 -0.010452  0.001145 -0.003082  ...  0.001124  0.001873   \n",
              "\n",
              "                  41        42        43        44        45        46  \\\n",
              "Date                                                                     \n",
              "31/01/2000 -0.000044 -0.003658  0.000432 -0.002393  0.000555 -0.002260   \n",
              "29/02/2000  0.001940  0.000561  0.002556 -0.001502  0.000074  0.002089   \n",
              "31/03/2000 -0.000649  0.003672  0.000941  0.000899 -0.002096 -0.000153   \n",
              "30/04/2000 -0.003845 -0.000530  0.000493 -0.002847  0.000742 -0.001104   \n",
              "31/05/2000  0.000328 -0.002248 -0.000004  0.001559 -0.002521  0.000708   \n",
              "\n",
              "                  47        48  \n",
              "Date                            \n",
              "31/01/2000  0.000333 -0.004287  \n",
              "29/02/2000 -0.003644  0.001069  \n",
              "31/03/2000  0.001705 -0.000561  \n",
              "30/04/2000  0.000401 -0.000909  \n",
              "31/05/2000 -0.000233 -0.000097  \n",
              "\n",
              "[5 rows x 49 columns]"
            ]
          },
          "execution_count": 33,
          "metadata": {},
          "output_type": "execute_result"
        }
      ],
      "source": [
        "principal_components = df_std.dot(eigenvectors)\n",
        "principal_components.head()"
      ]
    },
    {
      "cell_type": "code",
      "execution_count": 39,
      "metadata": {},
      "outputs": [
        {
          "data": {
            "image/png": "[encoded data removed]",
            "text/plain": [
              "<Figure size 720x432 with 1 Axes>"
            ]
          },
          "metadata": {
            "needs_background": "light"
          },
          "output_type": "display_data"
        }
      ],
      "source": [
        "ax = plt.figure(figsize=(10,6))\n",
        "ax = plt.plot(principal_components[0])\n",
        "ax = plt.plot(df_std[\"10.0\"])\n",
        "ax = plt.title(\"First Principle Component\")"
      ]
    },
    {
      "cell_type": "code",
      "execution_count": 49,
      "metadata": {},
      "outputs": [
        {
          "data": {
            "text/html": [
              "<div>\n",
              "<style scoped>\n",
              "    .dataframe tbody tr th:only-of-type {\n",
              "        vertical-align: middle;\n",
              "    }\n",
              "\n",
              "    .dataframe tbody tr th {\n",
              "        vertical-align: top;\n",
              "    }\n",
              "\n",
              "    .dataframe thead th {\n",
              "        text-align: right;\n",
              "    }\n",
              "</style>\n",
              "<table border=\"1\" class=\"dataframe\">\n",
              "  <thead>\n",
              "    <tr style=\"text-align: right;\">\n",
              "      <th></th>\n",
              "      <th>2.0</th>\n",
              "      <th>10.0</th>\n",
              "      <th>slope</th>\n",
              "    </tr>\n",
              "    <tr>\n",
              "      <th>Date</th>\n",
              "      <th></th>\n",
              "      <th></th>\n",
              "      <th></th>\n",
              "    </tr>\n",
              "  </thead>\n",
              "  <tbody>\n",
              "    <tr>\n",
              "      <th>31/08/2015</th>\n",
              "      <td>-1.134205</td>\n",
              "      <td>-1.669821</td>\n",
              "      <td>-0.535616</td>\n",
              "    </tr>\n",
              "    <tr>\n",
              "      <th>30/09/2015</th>\n",
              "      <td>-1.183512</td>\n",
              "      <td>-1.828428</td>\n",
              "      <td>-0.644916</td>\n",
              "    </tr>\n",
              "    <tr>\n",
              "      <th>31/10/2015</th>\n",
              "      <td>-1.153928</td>\n",
              "      <td>-1.687444</td>\n",
              "      <td>-0.533516</td>\n",
              "    </tr>\n",
              "    <tr>\n",
              "      <th>30/11/2015</th>\n",
              "      <td>-1.158859</td>\n",
              "      <td>-1.757936</td>\n",
              "      <td>-0.599077</td>\n",
              "    </tr>\n",
              "    <tr>\n",
              "      <th>31/12/2015</th>\n",
              "      <td>-1.114483</td>\n",
              "      <td>-1.634575</td>\n",
              "      <td>-0.520092</td>\n",
              "    </tr>\n",
              "  </tbody>\n",
              "</table>\n",
              "</div>"
            ],
            "text/plain": [
              "                 2.0      10.0     slope\n",
              "Date                                    \n",
              "31/08/2015 -1.134205 -1.669821 -0.535616\n",
              "30/09/2015 -1.183512 -1.828428 -0.644916\n",
              "31/10/2015 -1.153928 -1.687444 -0.533516\n",
              "30/11/2015 -1.158859 -1.757936 -0.599077\n",
              "31/12/2015 -1.114483 -1.634575 -0.520092"
            ]
          },
          "execution_count": 49,
          "metadata": {},
          "output_type": "execute_result"
        }
      ],
      "source": [
        "# Calaculate 10Y-2M slope\n",
        "\n",
        "df_s = df_std.copy()\n",
        "df_s = df_s[[\"2.0\",\"10.0\"]]\n",
        "df_s[\"slope\"] = df_s[\"10.0\"] - df_s[\"2.0\"]\n",
        "df_s.tail()"
      ]
    },
    {
      "cell_type": "code",
      "execution_count": 48,
      "metadata": {},
      "outputs": [
        {
          "data": {
            "image/png": "[encoded data removed]",
            "text/plain": [
              "<Figure size 432x288 with 1 Axes>"
            ]
          },
          "metadata": {
            "needs_background": "light"
          },
          "output_type": "display_data"
        },
        {
          "data": {
            "text/plain": [
              "<Figure size 648x360 with 0 Axes>"
            ]
          },
          "metadata": {},
          "output_type": "display_data"
        }
      ],
      "source": [
        "ax = df_s.plot(y=\"slope\", legend=False)\n",
        "ax = plt.plot(principal_components[1])\n",
        "ax = plt.title(\"10Y - 2M slope\")\n",
        "ax = plt.figure(figsize=(9,5))"
      ]
    }
  ],
  "metadata": {
    "colab": {
      "authorship_tag": "ABX9TyMV/G2MpZVhAT72xI+uOTZQ",
      "collapsed_sections": [],
      "include_colab_link": true,
      "name": "Clase_5.ipynb",
      "provenance": []
    },
    "kernelspec": {
      "display_name": "base",
      "language": "python",
      "name": "python3"
    },
    "language_info": {
      "codemirror_mode": {
        "name": "ipython",
        "version": 3
      },
      "file_extension": ".py",
      "mimetype": "text/x-python",
      "name": "python",
      "nbconvert_exporter": "python",
      "pygments_lexer": "ipython3",
      "version": "3.9.7"
    },
    "vscode": {
      "interpreter": {
        "hash": "ad2bdc8ecc057115af97d19610ffacc2b4e99fae6737bb82f5d7fb13d2f2c186"
      }
    }
  },
  "nbformat": 4,
  "nbformat_minor": 0
}
