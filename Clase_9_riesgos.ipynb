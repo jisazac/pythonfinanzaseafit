{
 "cells": [
  {
   "cell_type": "code",
   "execution_count": null,
   "metadata": {},
   "outputs": [],
   "source": [
    "### temas a consultar\n",
    "\"\"\"\n",
    "\n",
    "Modelo KMV (Kecholfer, McQuown y Vasicek)\n",
    "Probit y Logit\n",
    "survival analysis\n",
    "PCA Curves\n",
    "Score de credito\n",
    "CDS, ABS, MBS, CDO\n",
    "\n",
    "\"\"\""
   ]
  },
  {
   "cell_type": "code",
   "execution_count": null,
   "metadata": {},
   "outputs": [],
   "source": [
    "import math\n",
    "\n",
    "def kmv_model(equity_value, total_debt, risk_free_rate, volatility, time_to_maturity):\n",
    "    \"\"\"\n",
    "    Calculates the probability of default using the KMV model.\n",
    "    :param equity_value: The market value of equity\n",
    "    :param total_debt: The face value of total debt outstanding\n",
    "    :param risk_free_rate: The annual risk-free interest rate\n",
    "    :param volatility: The annualized volatility of the equity\n",
    "    :param time_to_maturity: Time to maturity of the debt in years\n",
    "    :return: The probability of default\n",
    "    \"\"\"\n",
    "    d1 = (math.log(equity_value / total_debt) + (risk_free_rate + (0.5 * volatility ** 2)) * time_to_maturity) / (volatility * math.sqrt(time_to_maturity))\n",
    "    d2 = d1 - (volatility * math.sqrt(time_to_maturity))\n",
    "    pd = 1 - norm.cdf(d1) - ((total_debt / equity_value) * norm.cdf(d2))\n",
    "    return pd"
   ]
  },
  {
   "attachments": {},
   "cell_type": "markdown",
   "metadata": {},
   "source": [
    "This function calculates the probability of default using the KMV model, which is a structural credit risk model that relates the market value of a firm's assets to its total debt outstanding. The inputs to the model are the market value of equity (equity_value), the face value of total debt outstanding (total_debt), the annual risk-free interest rate (risk_free_rate), the annualized volatility of the equity (volatility), and the time to maturity of the debt in years (time_to_maturity). The function returns the probability of default (pd).\n",
    "\n",
    "The KMV model uses the Black-Scholes-Merton option pricing model to estimate the probability of default. The function calculates the d1 and d2 parameters using the standard Black-Scholes-Merton formulas, and then uses these to calculate the probability of default using the cumulative distribution function of the standard normal distribution (norm.cdf()).\n",
    "\n",
    "Note that you will need to import the math module and the norm object from the scipy.stats module for this function to work."
   ]
  },
  {
   "attachments": {},
   "cell_type": "markdown",
   "metadata": {},
   "source": [
    "## 1. Modelación de Curva Yield con PCA para Valoración de Riesgo de Mercado\n"
   ]
  },
  {
   "attachments": {},
   "cell_type": "markdown",
   "metadata": {},
   "source": [
    "Esta sección veremos cómo los componentes principales calculados en una serie temporal multivariada de curvas de rendimiento para EE.UU. permiten identificar el tipo los tipos de movimientos más comunes  que ocurren en las tasas de interés a diferentes vencimientos. El paper seminal de esta sección es **Litterman, R., & Scheinkman, J. (1991). Common factors affecting bond returns. Journal of fixed income**"
   ]
  },
  {
   "attachments": {},
   "cell_type": "markdown",
   "metadata": {},
   "source": [
    "### 1.1 Teoría: Curva Yield"
   ]
  },
  {
   "cell_type": "code",
   "execution_count": null,
   "metadata": {},
   "outputs": [],
   "source": [
    "import pandas as pd\n",
    "import numpy as np\n",
    "import fredapi\n",
    "import plotly.express as px\n",
    "\n",
    "#pip install fredapi\n",
    "#pip install fred\n",
    "\n",
    "# load yield curve data for the 10-year Treasury constant maturity rate from FRED\n",
    "fred = fredapi.Fred(api_key='')\n",
    "yield_curve_3m = fred.get_series('DTB3', start_date='2010-01-01').dropna()\n",
    "yield_curve_1y = fred.get_series('DGS1', start_date='2010-01-01').dropna()\n",
    "yield_curve_2y = fred.get_series('DGS2', start_date='2010-01-01').dropna()\n",
    "yield_curve_5y = fred.get_series('DGS5', start_date='2010-01-01').dropna()\n",
    "yield_curve_10y = fred.get_series('DGS10', start_date='2010-01-01').dropna()\n",
    "yield_curve_20y = fred.get_series('DGS20', start_date='2010-01-01').dropna()\n",
    "yield_curve = pd.DataFrame({'3m': yield_curve_3m,\n",
    "                            '1y': yield_curve_1y,\n",
    "                            '2y': yield_curve_2y,\n",
    "                            '5y': yield_curve_5y,\n",
    "                            '10y': yield_curve_10y,\n",
    "                            '20y': yield_curve_20y}).loc[\"2000-01-01\":].dropna()"
   ]
  },
  {
   "cell_type": "code",
   "execution_count": 10,
   "metadata": {},
   "outputs": [],
   "source": [
    "import pandas as pd\n",
    "yield_curve=pd.read_csv(\"fred_data.csv\")\n",
    "yield_curve[\"Date\"]=pd.to_datetime(yield_curve[\"Date\"])\n",
    "yield_curve.set_index(\"Date\",inplace=True)"
   ]
  },
  {
   "cell_type": "code",
   "execution_count": 12,
   "metadata": {},
   "outputs": [
    {
     "data": {
      "application/vnd.plotly.v1+json": {
       "config": {
        "plotlyServerURL": "https://plot.ly"
       },
       "data": [
        {
         "hovertemplate": "variable=2010<br>index=%{x}<br>value=%{y}<extra></extra>",
         "legendgroup": "2010",
         "line": {
          "color": "#636efa",
          "dash": "solid"
         },
         "marker": {
          "symbol": "circle"
         },
         "mode": "markers+lines",
         "name": "2010",
         "orientation": "v",
         "showlegend": true,
         "type": "scatter",
         "x": [
          "3m",
          "1y",
          "2y",
          "5y",
          "10y",
          "20y"
         ],
         "xaxis": "x",
         "y": [
          0.14,
          0.3,
          0.68,
          2.11,
          3.53,
          4.37
         ],
         "yaxis": "y"
        },
        {
         "hovertemplate": "variable=2020<br>index=%{x}<br>value=%{y}<extra></extra>",
         "legendgroup": "2020",
         "line": {
          "color": "#EF553B",
          "dash": "solid"
         },
         "marker": {
          "symbol": "circle"
         },
         "mode": "markers+lines",
         "name": "2020",
         "orientation": "v",
         "showlegend": true,
         "type": "scatter",
         "x": [
          "3m",
          "1y",
          "2y",
          "5y",
          "10y",
          "20y"
         ],
         "xaxis": "x",
         "y": [
          0.12,
          0.14,
          0.23,
          0.39,
          0.7,
          1.1
         ],
         "yaxis": "y"
        },
        {
         "hovertemplate": "variable=2023<br>index=%{x}<br>value=%{y}<extra></extra>",
         "legendgroup": "2023",
         "line": {
          "color": "#00cc96",
          "dash": "solid"
         },
         "marker": {
          "symbol": "circle"
         },
         "mode": "markers+lines",
         "name": "2023",
         "orientation": "v",
         "showlegend": true,
         "type": "scatter",
         "x": [
          "3m",
          "1y",
          "2y",
          "5y",
          "10y",
          "20y"
         ],
         "xaxis": "x",
         "y": [
          4.59,
          4.71,
          4.25,
          3.68,
          3.55,
          3.79
         ],
         "yaxis": "y"
        }
       ],
       "layout": {
        "legend": {
         "title": {
          "text": "variable"
         },
         "tracegroupgap": 0
        },
        "template": {
         "data": {
          "bar": [
           {
            "error_x": {
             "color": "#2a3f5f"
            },
            "error_y": {
             "color": "#2a3f5f"
            },
            "marker": {
             "line": {
              "color": "#E5ECF6",
              "width": 0.5
             },
             "pattern": {
              "fillmode": "overlay",
              "size": 10,
              "solidity": 0.2
             }
            },
            "type": "bar"
           }
          ],
          "barpolar": [
           {
            "marker": {
             "line": {
              "color": "#E5ECF6",
              "width": 0.5
             },
             "pattern": {
              "fillmode": "overlay",
              "size": 10,
              "solidity": 0.2
             }
            },
            "type": "barpolar"
           }
          ],
          "carpet": [
           {
            "aaxis": {
             "endlinecolor": "#2a3f5f",
             "gridcolor": "white",
             "linecolor": "white",
             "minorgridcolor": "white",
             "startlinecolor": "#2a3f5f"
            },
            "baxis": {
             "endlinecolor": "#2a3f5f",
             "gridcolor": "white",
             "linecolor": "white",
             "minorgridcolor": "white",
             "startlinecolor": "#2a3f5f"
            },
            "type": "carpet"
           }
          ],
          "choropleth": [
           {
            "colorbar": {
             "outlinewidth": 0,
             "ticks": ""
            },
            "type": "choropleth"
           }
          ],
          "contour": [
           {
            "colorbar": {
             "outlinewidth": 0,
             "ticks": ""
            },
            "colorscale": [
             [
              0,
              "#0d0887"
             ],
             [
              0.1111111111111111,
              "#46039f"
             ],
             [
              0.2222222222222222,
              "#7201a8"
             ],
             [
              0.3333333333333333,
              "#9c179e"
             ],
             [
              0.4444444444444444,
              "#bd3786"
             ],
             [
              0.5555555555555556,
              "#d8576b"
             ],
             [
              0.6666666666666666,
              "#ed7953"
             ],
             [
              0.7777777777777778,
              "#fb9f3a"
             ],
             [
              0.8888888888888888,
              "#fdca26"
             ],
             [
              1,
              "#f0f921"
             ]
            ],
            "type": "contour"
           }
          ],
          "contourcarpet": [
           {
            "colorbar": {
             "outlinewidth": 0,
             "ticks": ""
            },
            "type": "contourcarpet"
           }
          ],
          "heatmap": [
           {
            "colorbar": {
             "outlinewidth": 0,
             "ticks": ""
            },
            "colorscale": [
             [
              0,
              "#0d0887"
             ],
             [
              0.1111111111111111,
              "#46039f"
             ],
             [
              0.2222222222222222,
              "#7201a8"
             ],
             [
              0.3333333333333333,
              "#9c179e"
             ],
             [
              0.4444444444444444,
              "#bd3786"
             ],
             [
              0.5555555555555556,
              "#d8576b"
             ],
             [
              0.6666666666666666,
              "#ed7953"
             ],
             [
              0.7777777777777778,
              "#fb9f3a"
             ],
             [
              0.8888888888888888,
              "#fdca26"
             ],
             [
              1,
              "#f0f921"
             ]
            ],
            "type": "heatmap"
           }
          ],
          "heatmapgl": [
           {
            "colorbar": {
             "outlinewidth": 0,
             "ticks": ""
            },
            "colorscale": [
             [
              0,
              "#0d0887"
             ],
             [
              0.1111111111111111,
              "#46039f"
             ],
             [
              0.2222222222222222,
              "#7201a8"
             ],
             [
              0.3333333333333333,
              "#9c179e"
             ],
             [
              0.4444444444444444,
              "#bd3786"
             ],
             [
              0.5555555555555556,
              "#d8576b"
             ],
             [
              0.6666666666666666,
              "#ed7953"
             ],
             [
              0.7777777777777778,
              "#fb9f3a"
             ],
             [
              0.8888888888888888,
              "#fdca26"
             ],
             [
              1,
              "#f0f921"
             ]
            ],
            "type": "heatmapgl"
           }
          ],
          "histogram": [
           {
            "marker": {
             "pattern": {
              "fillmode": "overlay",
              "size": 10,
              "solidity": 0.2
             }
            },
            "type": "histogram"
           }
          ],
          "histogram2d": [
           {
            "colorbar": {
             "outlinewidth": 0,
             "ticks": ""
            },
            "colorscale": [
             [
              0,
              "#0d0887"
             ],
             [
              0.1111111111111111,
              "#46039f"
             ],
             [
              0.2222222222222222,
              "#7201a8"
             ],
             [
              0.3333333333333333,
              "#9c179e"
             ],
             [
              0.4444444444444444,
              "#bd3786"
             ],
             [
              0.5555555555555556,
              "#d8576b"
             ],
             [
              0.6666666666666666,
              "#ed7953"
             ],
             [
              0.7777777777777778,
              "#fb9f3a"
             ],
             [
              0.8888888888888888,
              "#fdca26"
             ],
             [
              1,
              "#f0f921"
             ]
            ],
            "type": "histogram2d"
           }
          ],
          "histogram2dcontour": [
           {
            "colorbar": {
             "outlinewidth": 0,
             "ticks": ""
            },
            "colorscale": [
             [
              0,
              "#0d0887"
             ],
             [
              0.1111111111111111,
              "#46039f"
             ],
             [
              0.2222222222222222,
              "#7201a8"
             ],
             [
              0.3333333333333333,
              "#9c179e"
             ],
             [
              0.4444444444444444,
              "#bd3786"
             ],
             [
              0.5555555555555556,
              "#d8576b"
             ],
             [
              0.6666666666666666,
              "#ed7953"
             ],
             [
              0.7777777777777778,
              "#fb9f3a"
             ],
             [
              0.8888888888888888,
              "#fdca26"
             ],
             [
              1,
              "#f0f921"
             ]
            ],
            "type": "histogram2dcontour"
           }
          ],
          "mesh3d": [
           {
            "colorbar": {
             "outlinewidth": 0,
             "ticks": ""
            },
            "type": "mesh3d"
           }
          ],
          "parcoords": [
           {
            "line": {
             "colorbar": {
              "outlinewidth": 0,
              "ticks": ""
             }
            },
            "type": "parcoords"
           }
          ],
          "pie": [
           {
            "automargin": true,
            "type": "pie"
           }
          ],
          "scatter": [
           {
            "fillpattern": {
             "fillmode": "overlay",
             "size": 10,
             "solidity": 0.2
            },
            "type": "scatter"
           }
          ],
          "scatter3d": [
           {
            "line": {
             "colorbar": {
              "outlinewidth": 0,
              "ticks": ""
             }
            },
            "marker": {
             "colorbar": {
              "outlinewidth": 0,
              "ticks": ""
             }
            },
            "type": "scatter3d"
           }
          ],
          "scattercarpet": [
           {
            "marker": {
             "colorbar": {
              "outlinewidth": 0,
              "ticks": ""
             }
            },
            "type": "scattercarpet"
           }
          ],
          "scattergeo": [
           {
            "marker": {
             "colorbar": {
              "outlinewidth": 0,
              "ticks": ""
             }
            },
            "type": "scattergeo"
           }
          ],
          "scattergl": [
           {
            "marker": {
             "colorbar": {
              "outlinewidth": 0,
              "ticks": ""
             }
            },
            "type": "scattergl"
           }
          ],
          "scattermapbox": [
           {
            "marker": {
             "colorbar": {
              "outlinewidth": 0,
              "ticks": ""
             }
            },
            "type": "scattermapbox"
           }
          ],
          "scatterpolar": [
           {
            "marker": {
             "colorbar": {
              "outlinewidth": 0,
              "ticks": ""
             }
            },
            "type": "scatterpolar"
           }
          ],
          "scatterpolargl": [
           {
            "marker": {
             "colorbar": {
              "outlinewidth": 0,
              "ticks": ""
             }
            },
            "type": "scatterpolargl"
           }
          ],
          "scatterternary": [
           {
            "marker": {
             "colorbar": {
              "outlinewidth": 0,
              "ticks": ""
             }
            },
            "type": "scatterternary"
           }
          ],
          "surface": [
           {
            "colorbar": {
             "outlinewidth": 0,
             "ticks": ""
            },
            "colorscale": [
             [
              0,
              "#0d0887"
             ],
             [
              0.1111111111111111,
              "#46039f"
             ],
             [
              0.2222222222222222,
              "#7201a8"
             ],
             [
              0.3333333333333333,
              "#9c179e"
             ],
             [
              0.4444444444444444,
              "#bd3786"
             ],
             [
              0.5555555555555556,
              "#d8576b"
             ],
             [
              0.6666666666666666,
              "#ed7953"
             ],
             [
              0.7777777777777778,
              "#fb9f3a"
             ],
             [
              0.8888888888888888,
              "#fdca26"
             ],
             [
              1,
              "#f0f921"
             ]
            ],
            "type": "surface"
           }
          ],
          "table": [
           {
            "cells": {
             "fill": {
              "color": "#EBF0F8"
             },
             "line": {
              "color": "white"
             }
            },
            "header": {
             "fill": {
              "color": "#C8D4E3"
             },
             "line": {
              "color": "white"
             }
            },
            "type": "table"
           }
          ]
         },
         "layout": {
          "annotationdefaults": {
           "arrowcolor": "#2a3f5f",
           "arrowhead": 0,
           "arrowwidth": 1
          },
          "autotypenumbers": "strict",
          "coloraxis": {
           "colorbar": {
            "outlinewidth": 0,
            "ticks": ""
           }
          },
          "colorscale": {
           "diverging": [
            [
             0,
             "#8e0152"
            ],
            [
             0.1,
             "#c51b7d"
            ],
            [
             0.2,
             "#de77ae"
            ],
            [
             0.3,
             "#f1b6da"
            ],
            [
             0.4,
             "#fde0ef"
            ],
            [
             0.5,
             "#f7f7f7"
            ],
            [
             0.6,
             "#e6f5d0"
            ],
            [
             0.7,
             "#b8e186"
            ],
            [
             0.8,
             "#7fbc41"
            ],
            [
             0.9,
             "#4d9221"
            ],
            [
             1,
             "#276419"
            ]
           ],
           "sequential": [
            [
             0,
             "#0d0887"
            ],
            [
             0.1111111111111111,
             "#46039f"
            ],
            [
             0.2222222222222222,
             "#7201a8"
            ],
            [
             0.3333333333333333,
             "#9c179e"
            ],
            [
             0.4444444444444444,
             "#bd3786"
            ],
            [
             0.5555555555555556,
             "#d8576b"
            ],
            [
             0.6666666666666666,
             "#ed7953"
            ],
            [
             0.7777777777777778,
             "#fb9f3a"
            ],
            [
             0.8888888888888888,
             "#fdca26"
            ],
            [
             1,
             "#f0f921"
            ]
           ],
           "sequentialminus": [
            [
             0,
             "#0d0887"
            ],
            [
             0.1111111111111111,
             "#46039f"
            ],
            [
             0.2222222222222222,
             "#7201a8"
            ],
            [
             0.3333333333333333,
             "#9c179e"
            ],
            [
             0.4444444444444444,
             "#bd3786"
            ],
            [
             0.5555555555555556,
             "#d8576b"
            ],
            [
             0.6666666666666666,
             "#ed7953"
            ],
            [
             0.7777777777777778,
             "#fb9f3a"
            ],
            [
             0.8888888888888888,
             "#fdca26"
            ],
            [
             1,
             "#f0f921"
            ]
           ]
          },
          "colorway": [
           "#636efa",
           "#EF553B",
           "#00cc96",
           "#ab63fa",
           "#FFA15A",
           "#19d3f3",
           "#FF6692",
           "#B6E880",
           "#FF97FF",
           "#FECB52"
          ],
          "font": {
           "color": "#2a3f5f"
          },
          "geo": {
           "bgcolor": "white",
           "lakecolor": "white",
           "landcolor": "#E5ECF6",
           "showlakes": true,
           "showland": true,
           "subunitcolor": "white"
          },
          "hoverlabel": {
           "align": "left"
          },
          "hovermode": "closest",
          "mapbox": {
           "style": "light"
          },
          "paper_bgcolor": "white",
          "plot_bgcolor": "#E5ECF6",
          "polar": {
           "angularaxis": {
            "gridcolor": "white",
            "linecolor": "white",
            "ticks": ""
           },
           "bgcolor": "#E5ECF6",
           "radialaxis": {
            "gridcolor": "white",
            "linecolor": "white",
            "ticks": ""
           }
          },
          "scene": {
           "xaxis": {
            "backgroundcolor": "#E5ECF6",
            "gridcolor": "white",
            "gridwidth": 2,
            "linecolor": "white",
            "showbackground": true,
            "ticks": "",
            "zerolinecolor": "white"
           },
           "yaxis": {
            "backgroundcolor": "#E5ECF6",
            "gridcolor": "white",
            "gridwidth": 2,
            "linecolor": "white",
            "showbackground": true,
            "ticks": "",
            "zerolinecolor": "white"
           },
           "zaxis": {
            "backgroundcolor": "#E5ECF6",
            "gridcolor": "white",
            "gridwidth": 2,
            "linecolor": "white",
            "showbackground": true,
            "ticks": "",
            "zerolinecolor": "white"
           }
          },
          "shapedefaults": {
           "line": {
            "color": "#2a3f5f"
           }
          },
          "ternary": {
           "aaxis": {
            "gridcolor": "white",
            "linecolor": "white",
            "ticks": ""
           },
           "baxis": {
            "gridcolor": "white",
            "linecolor": "white",
            "ticks": ""
           },
           "bgcolor": "#E5ECF6",
           "caxis": {
            "gridcolor": "white",
            "linecolor": "white",
            "ticks": ""
           }
          },
          "title": {
           "x": 0.05
          },
          "xaxis": {
           "automargin": true,
           "gridcolor": "white",
           "linecolor": "white",
           "ticks": "",
           "title": {
            "standoff": 15
           },
           "zerolinecolor": "white",
           "zerolinewidth": 2
          },
          "yaxis": {
           "automargin": true,
           "gridcolor": "white",
           "linecolor": "white",
           "ticks": "",
           "title": {
            "standoff": 15
           },
           "zerolinecolor": "white",
           "zerolinewidth": 2
          }
         }
        },
        "title": {
         "text": "Yield Curves in Time"
        },
        "xaxis": {
         "anchor": "y",
         "domain": [
          0,
          1
         ],
         "title": {
          "text": "index"
         }
        },
        "yaxis": {
         "anchor": "x",
         "domain": [
          0,
          1
         ],
         "title": {
          "text": "value"
         }
        }
       }
      }
     },
     "metadata": {},
     "output_type": "display_data"
    }
   ],
   "source": [
    "# Veamos la curva en diferentes cortes de tiempo\n",
    "\n",
    "yield_curve_2010=yield_curve.loc[\"2010-12-15\"]\n",
    "yield_curve_2020=yield_curve.loc[\"2020-03-30\"]\n",
    "yield_curve_2023=yield_curve.loc[\"2023-01-30\"]\n",
    "yield_cross=pd.concat([yield_curve_2010,yield_curve_2020,yield_curve_2023],axis=1)\n",
    "yield_cross.columns=[\"2010\",\"2020\",\"2023\"]\n",
    "fig = px.line(yield_cross,title='Yield Curves in Time',markers=True)\n",
    "fig.show()"
   ]
  },
  {
   "cell_type": "code",
   "execution_count": null,
   "metadata": {},
   "outputs": [],
   "source": [
    "# Veamos el comportamiento Historico de cada nodo\n",
    "fig = px.line(yield_curve,title='Yield Nodes in Time')\n",
    "fig.show()"
   ]
  },
  {
   "attachments": {},
   "cell_type": "markdown",
   "metadata": {},
   "source": [
    "Para el propósito del análisis actual, no será relevante tanto la forma particular que asuma la curva de rendimiento en un determinado día, sino que nos enfocaremos los cambios absolutos entre dos puntos consecutivos en el tiempo. Estos movimientos en la curva resulta útiles no  solo para el análisis del riesgo de interés, sino también para determinar el allocation en un portafolio que podrían aprovechar dichos movimientos."
   ]
  },
  {
   "cell_type": "code",
   "execution_count": null,
   "metadata": {},
   "outputs": [],
   "source": [
    "#Veamos la correlación de la estructura a plazos de la tasa de interés\n",
    "yield_curve.corr()"
   ]
  },
  {
   "attachments": {},
   "cell_type": "markdown",
   "metadata": {},
   "source": [
    "Observamos que la estructura  está altamente correlacionada, en particular, entre tasas de vencimiento cercano. Las cifras en la tabla muestran   que la correlación entre los rendimientos es mayor alrededor de la diagonal principal, lo que significa que las tasas de interés de maturity similar se mueven de manera cercana. Por el contrario, la correlación es más débil entre las tasas de interés de vencimientos mas lejanos."
   ]
  },
  {
   "cell_type": "code",
   "execution_count": null,
   "metadata": {},
   "outputs": [],
   "source": [
    "#Veamos la correlación de la estructura a plazos de la tasa de interés\n",
    "fig=px.imshow(yield_curve.corr(), text_auto=True, aspect=\"auto\",color_continuous_scale='RdBu_r')\n",
    "fig.show()"
   ]
  },
  {
   "cell_type": "code",
   "execution_count": null,
   "metadata": {},
   "outputs": [],
   "source": [
    "#Diferencias dia a dis en puntos basicos\n",
    "df_basis=yield_curve.diff().dropna()*100\n",
    "\n",
    "#Estandarizamos y centramos los datos\n",
    "df_standard=(df_basis-df_basis.mean())/(df_basis.std())\n",
    "df_standard\n"
   ]
  },
  {
   "cell_type": "code",
   "execution_count": null,
   "metadata": {},
   "outputs": [],
   "source": [
    "#Create a covariance matrix \n",
    "cov_matrix_array = np.array(np.cov(df_standard, rowvar=False))\n",
    "\n",
    "# Perform eigendecomposition\n",
    "eigenvalues, eigenvectors = np.linalg.eig(cov_matrix_array)\n",
    "\n",
    "# Put data into a DataFrame \n",
    "df_eigval = pd.DataFrame({\"Eigenvalues\":eigenvalues})\n",
    "df_eigvec = pd.DataFrame(eigenvectors)\n",
    "df_eigvec.columns=[\"v1\",\"v2\",\"v3\",\"v4\",\"v5\",\"v6\"]\n",
    "df_eigvec.index=[\"3m\",\"1y\",\"2y\",\"5y\",\"10y\",\"20y\"]\n",
    "# Veamos el comportamiento Historico de cada nodo\n",
    "fig = px.line(df_eigvec.iloc[:,0:3],markers=True)\n",
    "fig.show()"
   ]
  },
  {
   "cell_type": "code",
   "execution_count": null,
   "metadata": {},
   "outputs": [],
   "source": [
    "# Work out explained proportion \n",
    "df_eigval[\"Explained proportion\"] = df_eigval[\"Eigenvalues\"] / np.sum(df_eigval[\"Eigenvalues\"])\n",
    "\n",
    "#Format as percentage\n",
    "df_eigval"
   ]
  },
  {
   "cell_type": "code",
   "execution_count": null,
   "metadata": {},
   "outputs": [],
   "source": [
    "principal_components = df_basis.dot(eigenvectors)\n",
    "principal_components.columns=[\"PC1\",\"PC2\",\"PC3\",\"PC4\",\"PC5\",\"PC6\"]\n",
    "fig = px.line(principal_components.iloc[:,0:3])\n",
    "fig.show()"
   ]
  },
  {
   "cell_type": "code",
   "execution_count": null,
   "metadata": {},
   "outputs": [],
   "source": [
    "principal_components[\"slope\"]=df_basis[\"10y\"]-df_basis[\"2y\"]\n"
   ]
  },
  {
   "cell_type": "code",
   "execution_count": null,
   "metadata": {},
   "outputs": [],
   "source": [
    "fig = px.line(principal_components[[\"PC2\",\"slope\"]].iloc[0:100,:])\n",
    "fig.show()\n"
   ]
  },
  {
   "cell_type": "code",
   "execution_count": null,
   "metadata": {},
   "outputs": [],
   "source": [
    "# Perform eigendecomposition\n",
    "from sklearn.decomposition import PCA\n",
    "pca = PCA(n_components=2)\n",
    "factors = pca.fit_transform(df_standard)\n"
   ]
  },
  {
   "cell_type": "code",
   "execution_count": null,
   "metadata": {},
   "outputs": [],
   "source": [
    "factors"
   ]
  },
  {
   "cell_type": "code",
   "execution_count": null,
   "metadata": {},
   "outputs": [],
   "source": [
    "pca.explained_variance_ratio_\n",
    "pca.singular_values_"
   ]
  },
  {
   "cell_type": "code",
   "execution_count": null,
   "metadata": {},
   "outputs": [],
   "source": [
    "changes"
   ]
  },
  {
   "cell_type": "code",
   "execution_count": null,
   "metadata": {},
   "outputs": [],
   "source": [
    "yield_curve.dropna().isnull().sum()"
   ]
  },
  {
   "cell_type": "code",
   "execution_count": null,
   "metadata": {},
   "outputs": [],
   "source": [
    "import numpy as np\n",
    "import pandas as pd\n",
    "from sklearn.decomposition import PCA\n",
    "import matplotlib.pyplot as plt\n",
    "\n",
    "# example yield curve data for multiple nodes (10 nodes, 8 maturities each)\n",
    "yield_curves = pd.DataFrame(np.random.randn(8, 10), columns=list('ABCDEFGHIJ'))"
   ]
  },
  {
   "cell_type": "code",
   "execution_count": null,
   "metadata": {},
   "outputs": [],
   "source": [
    "# calculate changes in yield rates for each maturity and node\n",
    "yields = yield_curves.values\n",
    "changes = np.diff(yields, axis=0) / yields[:-1, :]\n",
    "\n",
    "# use PCA to extract level and slope factors\n",
    "pca = PCA(n_components=2)\n",
    "factors = pca.fit_transform(changes.T)\n",
    "\n",
    "# plot time series of slope and level factors\n",
    "fig, ax = plt.subplots(nrows=2, ncols=1, figsize=(10, 8))\n",
    "ax[0].plot(factors[:, 0])\n",
    "ax[0].set_title('Level Factor')\n",
    "ax[1].plot(factors[:, 1])\n",
    "ax[1].set_title('Slope Factor')\n",
    "plt.show()"
   ]
  },
  {
   "cell_type": "code",
   "execution_count": null,
   "metadata": {},
   "outputs": [],
   "source": [
    "%matplotlib inline\n",
    "import matplotlib.pyplot as plt\n",
    "import pandas as pd\n",
    "import numpy as np\n",
    "# Leemos la data de la ruta o repositorio\n",
    "df = pd.read_csv(\"spot_curve_uk.csv\")\n",
    "# Select all of the data up to 10 years\n",
    "\n",
    "df.set_index(\"Date\",inplace=True)\n",
    "df.head()"
   ]
  },
  {
   "attachments": {},
   "cell_type": "markdown",
   "metadata": {},
   "source": [
    "### Probit"
   ]
  },
  {
   "attachments": {},
   "cell_type": "markdown",
   "metadata": {},
   "source": [
    "Cuyo nombre proviene de la abreviación de **probability unit**\n",
    "\n",
    "Pasaremos a modelar ahora situaciones donde buscamos un indicador o conocer si un resultado se ha dado. Modelaremos entonces probabilidades usando herramientas econometricas para hacer proposiciones probabilisticas acerca de la ocurrencia de estos eventos. \n",
    "\n",
    "Así estos modelos a estudiar son inherentemente e intrinsecamente no lineales. Empezaremos así con resultados binarios "
   ]
  },
  {
   "attachments": {},
   "cell_type": "markdown",
   "metadata": {},
   "source": [
    "### Models for binary outcomes\n",
    "\n",
    "Construiremos modelos que relacionan un resultado a un conjunto de factores. Nuestra aproximación buscará analizar cada uno de ellos en el marco general de un modelo de probabilidad:\n",
    "\n",
    "Prob(event j occurs | **x**) = Prob(Y = j | **x**) = F(relevant effects, parameters, **x**)\n",
    "\n",
    "Prob(Y = 1| **x**) = Probability that event of interest occurs| **x**,\n",
    "\n",
    "y, naturalmente, Prob(Y = 0| x) = [1 - Prob(Y = 1| x)] es la probabilidad de que el evento no ocurra. "
   ]
  },
  {
   "attachments": {},
   "cell_type": "markdown",
   "metadata": {},
   "source": [
    "$Prob(Y = 1| x) =\\int_{-\\infty }^{x'B}\\phi(t)\\mathrm{d} t=\\Phi(x'B)$"
   ]
  },
  {
   "attachments": {},
   "cell_type": "markdown",
   "metadata": {},
   "source": [
    "The question of which distribution to use is a natural one. The logistic distribution\n",
    "is similar to the normal except in the tails, which are considerably heavier. (It more\n",
    "closely resembles a t distribution with seven degrees of freedom.) For intermediate\n",
    "values of x\u001eB, the two distributions tend to give very similar probabilities. The\n",
    "logistic distribution tends to give larger probabilities to Y = 1 when x\u001eB is extremely\n",
    "small (and smaller probabilities to Y = 1 when x\u001eB is very large) than the normal\n",
    "distribution. It is difficult to provide practical generalities on this basis, however,\n",
    "as they would require knowledge of B. We might expect different predictions from\n",
    "the two models, however, if the sample contains (1) very few responses (Y’s equal\n",
    "to 1) or very few nonresponses (Y’s equal to 0) and (2) very wide variation in an\n",
    "important independent variable, particularly if (1) is also true. There are practical\n",
    "reasons for favoring one or the other in some cases for mathematical convenience, but\n",
    "it is difficult to justify the choice of one distribution or another on theoretical grounds.\n",
    "Amemiya (1981) discusses a number of related issues, but as a general proposition,\n",
    "the question is unresolved. In most applications, the choice between these two seems\n",
    "not to make much difference."
   ]
  },
  {
   "cell_type": "code",
   "execution_count": null,
   "metadata": {},
   "outputs": [],
   "source": []
  },
  {
   "cell_type": "code",
   "execution_count": null,
   "metadata": {},
   "outputs": [],
   "source": [
    "import pandas as pd\n",
    "import numpy as np\n",
    "import statsmodels.tools as sm\n",
    "from statsmodels.discrete.discrete_model import Probit\n",
    "data = pd.read_csv('https://vincentarelbundock.github.io/Rdatasets/csv/carData/Mroz.csv')"
   ]
  },
  {
   "cell_type": "code",
   "execution_count": null,
   "metadata": {},
   "outputs": [],
   "source": [
    "data = data.drop(data.columns[0], axis = 1)\n",
    "data[\"lfp\"] = data[\"lfp\"] == \"yes\"\n",
    "data[\"wc\"] = data[\"wc\"] == \"yes\"\n",
    "data[\"hc\"] = data[\"hc\"] == \"yes\""
   ]
  },
  {
   "cell_type": "code",
   "execution_count": null,
   "metadata": {},
   "outputs": [],
   "source": [
    "Y = data[\"lfp\"]\n",
    "X = data.drop([\"lfp\"], 1)\n",
    "X = sm.add_constant(X)\n",
    "model = Probit(Y, X.astype(float))\n",
    "probit_model = model.fit()\n",
    "print(probit_model.summary())"
   ]
  },
  {
   "cell_type": "code",
   "execution_count": null,
   "metadata": {},
   "outputs": [],
   "source": [
    "mfx = probit_model.get_margeff(at=\"all\")\n",
    "#print(mfx.summary())\n",
    "mfx"
   ]
  },
  {
   "cell_type": "code",
   "execution_count": null,
   "metadata": {},
   "outputs": [],
   "source": [
    "import statsmodels.api as sm\n",
    "import matplotlib.pyplot as plt\n",
    "import numpy as np\n",
    "\n",
    "# Generate some example data\n",
    "np.random.seed(0)\n",
    "nobs = 100\n",
    "#x1 = c\n",
    "x2 = np.random.normal(size=nobs)\n",
    "\n",
    "# Add small amount of random noise to the predictors to avoid perfect separation\n",
    "x1 = np.random.normal(size=nobs)+ np.random.normal(scale=0.1, size=nobs)\n",
    "x2 =  np.random.normal(scale=0.1, size=nobs)\n",
    "\n",
    "X = sm.add_constant(np.column_stack((x1, x2)))\n",
    "y = (x1 + x2 > 0)\n",
    "\n",
    "# Fit the logit model\n",
    "model = sm.Logit(y, X).fit()\n",
    "\n",
    "# Define the range of x values for which to calculate the predictions\n",
    "x_vals = np.linspace(x1.min(), x1.max(), 100)\n",
    "\n",
    "# Calculate the marginal effect of x1 at the mean of x2\n",
    "mean_x2 = x2.mean()\n",
    "x_grid = np.column_stack((x_vals, np.repeat(mean_x2, 100)))\n",
    "predict_mean_x2 = model.predict(exog=x_grid)\n",
    "\n",
    "# Plot the marginal effect of x1 at the mean of x2\n",
    "plt.plot(x_vals, predict_mean_x2)\n",
    "plt.xlabel('x1')\n",
    "plt.ylabel('P(y=1)')\n",
    "plt.title('Marginal Effect of x1 at the Mean of x2')\n",
    "plt.show()"
   ]
  }
 ],
 "metadata": {
  "kernelspec": {
   "display_name": "ficnenv",
   "language": "python",
   "name": "python3"
  },
  "language_info": {
   "codemirror_mode": {
    "name": "ipython",
    "version": 3
   },
   "file_extension": ".py",
   "mimetype": "text/x-python",
   "name": "python",
   "nbconvert_exporter": "python",
   "pygments_lexer": "ipython3",
   "version": "3.10.4"
  },
  "orig_nbformat": 4,
  "vscode": {
   "interpreter": {
    "hash": "e89378495d178caf50c08d3a8a1a60bbdd4eafc4e7de4eef4ecb396e970d40c5"
   }
  }
 },
 "nbformat": 4,
 "nbformat_minor": 2
}
