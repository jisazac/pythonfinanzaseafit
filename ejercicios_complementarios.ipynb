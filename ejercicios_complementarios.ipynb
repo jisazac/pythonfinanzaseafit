{
 "cells": [
  {
   "cell_type": "code",
   "execution_count": null,
   "metadata": {},
   "outputs": [],
   "source": []
  },
  {
   "attachments": {},
   "cell_type": "markdown",
   "metadata": {},
   "source": [
    "## EJERCICIOS COMPLEMENTARIOS"
   ]
  },
  {
   "attachments": {},
   "cell_type": "markdown",
   "metadata": {},
   "source": [
    "### Ejercicio 1.1"
   ]
  },
  {
   "attachments": {},
   "cell_type": "markdown",
   "metadata": {},
   "source": [
    "Defina una función black_scholes_call() que calcule el precio de una opción de compra europea utilizando la fórmula de Black-Scholes. La función debe tener los siguientes parámetros:\n",
    "\n",
    "\n",
    "+ 'S': precio actual del activo subyacente\n",
    "+ 'K': precio de ejercicio de la opción\n",
    "+ 'r': tasa de interés libre de riesgo\n",
    "+ 'sigma': volatilidad implícita del activo subyacente\n",
    "+ 'T': tiempo hasta el vencimiento de la opción (en años)\n",
    "\n",
    "La fórmula de Black-Scholes para el precio de una opción de compra europea es:\n",
    "\n",
    "$$C = S * \\Phi(d_{1}) - K * e^{(-r*T)} * \\Phi(d_{2})$$\n",
    "\n",
    "donde \n",
    "$$d_{1} = (ln(S/K) + (r + 1/2 * \\sigma^{2}) * T) / (\\sigma * \\sqrt{T})$$\n",
    "\n",
    "$$ d_{2} = d_{1} - \\sigma * \\sqrt{T}$$\n",
    "\n",
    "Donde $\\Phi$ es la función de distribución acumulativa estándar.\n",
    "\n",
    "**Pistas** \n",
    "\n",
    "```python\n",
    "from scipy.stats import norm\n",
    "d1 = (np.log(S / K) + (r + 0.5 * sigma ** 2) * T) / (sigma * np.sqrt(T))\n",
    "d2 = d1 - sigma * np.sqrt(T)\n",
    "norm.cdf(x) #Phi de x\n",
    "```"
   ]
  },
  {
   "cell_type": "code",
   "execution_count": null,
   "metadata": {},
   "outputs": [],
   "source": [
    "### Desarrolle aqui el ejercicio"
   ]
  },
  {
   "attachments": {},
   "cell_type": "markdown",
   "metadata": {},
   "source": [
    "De click **aquí** para ver la respuesta.\n",
    "\n",
    "<!---\n",
    "# No esperaba verte tan rápido aquí :(\n",
    "\n",
    "# Una posible solución\n",
    "from scipy.stats import norm\n",
    "import numpy as np\n",
    "\n",
    "def black_scholes_call(S, K, r, sigma, T):\n",
    "    d1 = (np.log(S / K) + (r + 0.5 * sigma ** 2) * T) / (sigma * np.sqrt(T))\n",
    "    d2 = d1 - sigma * np.sqrt(T)\n",
    "    option_price = S * norm.cdf(d1) - K * np.exp(-r * T) * norm.cdf(d2)\n",
    "    return option_price\n",
    "\n",
    "\n",
    "--->"
   ]
  },
  {
   "attachments": {},
   "cell_type": "markdown",
   "metadata": {},
   "source": [
    "### Ejercicio 1.2"
   ]
  },
  {
   "attachments": {},
   "cell_type": "markdown",
   "metadata": {},
   "source": [
    "Define una función monte_carlo que calcule el precio de una opción de compra europea utilizando la simulación de Monte Carlo. La función debe tener los siguientes parámetros:\n",
    "\n",
    "+ S: precio actual del activo subyacente\n",
    "+ K: precio de ejercicio de la opción\n",
    "+ r: tasa de interés libre de riesgo\n",
    "+ sigma: volatilidad implícita del activo subyacente\n",
    "+ T: tiempo hasta el vencimiento de la opción (en años)\n",
    "+ N: número de simulaciones de Monte Carlo\n",
    "\n",
    "Para cada simulación, la función debe generar un número aleatorio $z$ de una distribución normal estándar, y luego calcular el precio del activo subyacente en el vencimiento $S_T$ y el pago de la opción $payoff$. El precio de la opción se calcula como el promedio de todos los pagos, descontado a valor presente por la tasa libre de riesgo.\n",
    "\n",
    "El precio del activo subyacente se calcula de la siguiente manera:\n",
    "\n",
    "$$S_{T} = S * e^{(r - 1/2 * \\sigma^2) * T + \\sigma * \\sqrt{T} * z}$$\n",
    "\n",
    "El payoff lo calculamos como:\n",
    "\n",
    "$$ payoff = max(S_{T} - K, 0)$$\n",
    "\n",
    "El precio de la opción se calcula de la siguiente manera:\n",
    "\n",
    "$$C = e^{-r*T} * \\frac{1}{N} \\cdot \\Sigma_{i=1}^{N}(payoff_{i})$$ \n",
    "\n",
    "**Pistas** \n",
    "\n",
    "```python\n",
    "from scipy.stats import norm\n",
    "def monte_carlo(S, K, r, sigma, T, N):\n",
    "    \"\"\"\"\"\"\n",
    "    z=np.random.standard_normal(N)\n",
    "\n",
    "    return option_price\n",
    "\n",
    "\n",
    "```"
   ]
  },
  {
   "cell_type": "code",
   "execution_count": null,
   "metadata": {},
   "outputs": [],
   "source": [
    "#Desarrolle aqui su ejercicio"
   ]
  },
  {
   "attachments": {},
   "cell_type": "markdown",
   "metadata": {},
   "source": [
    "De click **aquí** para ver la respuesta.\n",
    "\n",
    "<!---\n",
    "# No esperaba verte tan rápido aquí :(\n",
    "\n",
    "# Una posible solución\n",
    "from scipy.stats import norm\n",
    "import numpy as np\n",
    "\n",
    "# Define function for Monte Carlo simulation\n",
    "def monte_carlo(S, K, r, sigma, T, N):\n",
    "    # Generate N random numbers from standard normal distribution\n",
    "    z = np.random.standard_normal(N)\n",
    "    # Calculate stock prices at expiration\n",
    "    ST = S * np.exp((r - 0.5 * sigma ** 2) * T + sigma * np.sqrt(T) * z)\n",
    "    # Calculate option payoff at expiration\n",
    "    payoff = np.maximum(ST - K, 0)\n",
    "    # Discount the payoff back to the present\n",
    "    option_price = np.exp(-r * T) * np.mean(payoff)\n",
    "    return option_price\n",
    "\n",
    "--->"
   ]
  },
  {
   "attachments": {},
   "cell_type": "markdown",
   "metadata": {},
   "source": [
    "### Ejercicio 1.3 \n",
    "\n",
    "Utilizando la función black_scholes_call del Ejercicio 1.1, calcule el precio de una opción de compra europea con los siguientes parámetros:\n",
    "\n",
    "+ S: 100\n",
    "+ K: 110\n",
    "+ r: 0.05\n",
    "+ sigma: 0.2\n",
    "+ T: 1\n",
    "\n",
    "Asigne el resultado a la variable 'option_price' e imprima el resultado"
   ]
  },
  {
   "cell_type": "code",
   "execution_count": null,
   "metadata": {},
   "outputs": [],
   "source": [
    "#Desarrolle aqui su ejercicio"
   ]
  },
  {
   "attachments": {},
   "cell_type": "markdown",
   "metadata": {},
   "source": [
    "De click **aquí** para ver la respuesta.\n",
    "\n",
    "<!---\n",
    "# No esperaba verte tan rápido aquí :(\n",
    "\n",
    "# Una posible solución\n",
    "# Set parameters\n",
    "S = 100     # Stock price\n",
    "K = 110     # Strike price\n",
    "r = 0.05    # Risk-free interest rate\n",
    "T = 1       # Time to expiration (in years)\n",
    "N = 100000  # Number of simulations\n",
    "sigma=0.2\n",
    "# Calculate option price using initial guess for volatility\n",
    "option_price = black_scholes_call(S, K, r, sigma, T)\n",
    "\n",
    "--->"
   ]
  },
  {
   "attachments": {},
   "cell_type": "markdown",
   "metadata": {},
   "source": [
    "Ahora utilizaremos el metodo de bisección para encontrar a partir de una sigma_guess evaluada en nuestra funcion_montecarlo() para encontrar la volatilidad implicita, la cual es el valor de sigma que haga nuestra opcion a partir de montecarlo tener el mismo precio que la opcion valorada por black scholes"
   ]
  },
  {
   "cell_type": "code",
   "execution_count": 1,
   "metadata": {},
   "outputs": [
    {
     "name": "stderr",
     "output_type": "stream",
     "text": [
      "c:\\ProgramData\\Anaconda3\\lib\\site-packages\\scipy\\__init__.py:146: UserWarning: A NumPy version >=1.16.5 and <1.23.0 is required for this version of SciPy (detected version 1.24.2\n",
      "  warnings.warn(f\"A NumPy version >={np_minversion} and <{np_maxversion}\"\n"
     ]
    },
    {
     "name": "stdout",
     "output_type": "stream",
     "text": [
      "Implied volatility: 0.2007788510992068\n"
     ]
    }
   ],
   "source": [
    "# Set parameters\n",
    "S = 100     # Stock price\n",
    "K = 110     # Strike price\n",
    "r = 0.05    # Risk-free interest rate\n",
    "T = 1       # Time to expiration (in years)\n",
    "N = 100000  # Number of simulations\n",
    "sigma = 0.2\n",
    "\n",
    "\n",
    "# Calculate option price \n",
    "option_price = black_scholes_call(S, K, r, sigma, T)\n",
    "\n",
    "# Set tolerance and maximum number of iterations for bisection method\n",
    "tolerance = 0.0001\n",
    "max_iterations = 100\n",
    "\n",
    "# Implement bisection method to find implied volatility\n",
    "lower_bound = 0.0001\n",
    "upper_bound = 1.0\n",
    "\n",
    "for i in range(max_iterations):\n",
    "    sigma_mid = (lower_bound + upper_bound) / 2\n",
    "    option_price_mid = monte_carlo(S, K, r, sigma_mid, T, N)\n",
    "    \n",
    "    if abs(option_price_mid - option_price) < tolerance:\n",
    "        break\n",
    "    \n",
    "    if option_price_mid > option_price:\n",
    "        upper_bound = sigma_mid\n",
    "    else:\n",
    "        lower_bound = sigma_mid\n",
    "    \n",
    "implied_volatility = sigma_mid\n",
    "\n",
    "# Print the implied volatility\n",
    "print(\"Implied volatility:\", implied_volatility)\n"
   ]
  },
  {
   "attachments": {},
   "cell_type": "markdown",
   "metadata": {},
   "source": [
    "### Ejercicio 2.1 Optimizacion de portafolios: Media Varianza Teorica"
   ]
  },
  {
   "cell_type": "code",
   "execution_count": 2,
   "metadata": {},
   "outputs": [
    {
     "name": "stdout",
     "output_type": "stream",
     "text": [
      "Optimized Weights: [1.12598763e-18 1.06929959e-10 2.71702755e-12 1.00000000e+00]\n",
      "Optimized Portfolio Return: 0.12000000002179353\n",
      "Optimized Portfolio Volatility: 0.2828427124899814\n"
     ]
    }
   ],
   "source": [
    "import numpy as np\n",
    "from scipy.optimize import minimize\n",
    "\n",
    "# Definir los rendimientos esperados y la matriz de covarianza\n",
    "returns = np.array([0.1, 0.2, 0.15, 0.12])  # Ejemplo de rendimientos esperados\n",
    "covariance = np.array([[0.05, 0.02, 0.01, 0.03],\n",
    "                       [0.02, 0.07, 0.03, 0.04],\n",
    "                       [0.01, 0.03, 0.06, 0.025],\n",
    "                       [0.03, 0.04, 0.025, 0.08]])  # Ejemplo de matriz de covarianza\n",
    "\n",
    "# Definimos las restricciones\n",
    "volatility_constraint = 0.3  # Maximum allowable portfolio volatility\n",
    "weights_constraint = ({'type': 'eq', 'fun': lambda w: np.sum(w) - 1.0})  # Sum of weights constraint, eq means equality\n",
    "\n",
    "# Se define  la función objetivo (retorno promedio negativo para minimización)\n",
    "def objective_function(weights):\n",
    "    return -np.dot(weights, returns)\n",
    "\n",
    "# Definimos la función de restricción para la volatilidad del portafolio\n",
    "def volatility_constraint_function(weights):\n",
    "    portfolio_variance = np.dot(weights.T, np.dot(covariance, weights))\n",
    "    return np.sqrt(portfolio_variance) - volatility_constraint\n",
    "\n",
    "# Especificamos unos valores iniciales\n",
    "initial_guess = np.ones(len(returns)) / len(returns)\n",
    "\n",
    "# Definimos los limites para los pesos de cada activo\n",
    "bounds = [(0, 1)] * len(returns)\n",
    "\n",
    "# Resolvemos la optimización\n",
    "result = minimize(objective_function, initial_guess, method='SLSQP', bounds=bounds, constraints=[weights_constraint, {'type': 'ineq', 'fun': volatility_constraint_function}])\n",
    "\n",
    "# Print the optimized results\n",
    "print(\"Optimized Weights:\", result.x)\n",
    "print(\"Optimized Portfolio Return:\", -result.fun)\n",
    "print(\"Optimized Portfolio Volatility:\", np.sqrt(np.dot(result.x.T, np.dot(covariance, result.x))))\n"
   ]
  },
  {
   "attachments": {},
   "cell_type": "markdown",
   "metadata": {},
   "source": [
    "### Ejercicio 2.1 Optimizacion de portafolios: Media Varianza Teorica con asset allocation constraints"
   ]
  },
  {
   "cell_type": "code",
   "execution_count": 56,
   "metadata": {},
   "outputs": [
    {
     "name": "stdout",
     "output_type": "stream",
     "text": [
      "Optimized Weights: [0.    0.45  0.178 0.322]\n",
      "Optimized Portfolio Return: 0.16433798759864368\n",
      "Optimized Portfolio Volatility: 0.20889400259564528\n",
      "Equity Allocation: 45.00%\n",
      "Fixed Income Allocation: 50.00%\n"
     ]
    }
   ],
   "source": [
    "import numpy as np\n",
    "from scipy.optimize import minimize\n",
    "\n",
    "# Define the expected returns and covariance matrix\n",
    "returns = np.array([0.14, 0.22, 0.15, 0.12])  # Example expected returns\n",
    "covariance = np.array([[0.05, 0.02, 0.01, 0.03],\n",
    "                       [0.02, 0.07, 0.03, 0.04],\n",
    "                       [0.01, 0.03, 0.06, 0.025],\n",
    "                       [0.03, 0.04, 0.025, 0.08]])  # Example covariance matrix\n",
    "\n",
    "# Define the constraints\n",
    "volatility_constraint = 0.3  # Maximum allowable portfolio volatility\n",
    "allocation_constraint = [ # Equities constraint\n",
    "                         {'type': 'ineq', 'fun': lambda w: 0.1 - w[:2].sum()},  # Minimum equity constraint\n",
    "                         {'type': 'ineq', 'fun': lambda w: 0.2 - w[2:].sum()},# Minimum fixed income constraint\n",
    "                         #{'type': 'eq', 'fun': lambda w: 1 - w[:2].sum() - w[2:].sum()}, # Total sum=1\n",
    "                         {'type': 'ineq', 'fun': lambda w: w[:2].sum()-0.45 },\n",
    "                         {'type': 'ineq', 'fun': lambda w: w[2:].sum()-0.55 }]  # Maximum level equity\n",
    "\n",
    "# Define the objective function (negative mean return for maximization)\n",
    "def objective_function(weights):\n",
    "    # Calculate the violation of each constraint\n",
    "    constraint_violations = np.array([\n",
    "        max(0, 0.1 - weights[:2].sum()),\n",
    "        max(0, 0.2 - weights[2:].sum()),\n",
    "        max(0, weights[:2].sum() - 0.46)\n",
    "    ])\n",
    "    # Penalize the violation of constraints in the objective function\n",
    "    penalty = 1**(-1000)  # Penalty coefficient (you can adjust this value)\n",
    "    return -np.dot(weights, returns) + penalty * np.sum(constraint_violations)\n",
    "\n",
    "# Define the constraint function for portfolio volatility\n",
    "def volatility_constraint_function(weights):\n",
    "    portfolio_variance = np.dot(weights.T, np.dot(covariance, weights))\n",
    "    return np.sqrt(portfolio_variance) - volatility_constraint\n",
    "\n",
    "# Define the initial guess\n",
    "initial_guess = np.ones(len(returns)) / len(returns)\n",
    "\n",
    "# Define the bounds for the weights (between 0 and 1)\n",
    "bounds = [(0, 1)] * len(returns)\n",
    "\n",
    "# Solve the optimization problem\n",
    "result = minimize(objective_function, initial_guess, method='SLSQP', bounds=bounds, constraints=[*allocation_constraint, {'type': 'ineq', 'fun': volatility_constraint_function}])\n",
    "\n",
    "# Print the optimized results\n",
    "print(\"Optimized Weights:\", np.round(result.x,3))\n",
    "print(\"Optimized Portfolio Return:\", -result.fun)\n",
    "print(\"Optimized Portfolio Volatility:\", np.sqrt(np.dot(result.x.T, np.dot(covariance, result.x))))\n",
    "\n",
    "# Calculate and print percentage allocation to equities and fixed income\n",
    "equity_allocation = result.x[:2].sum() * 100\n",
    "fixed_income_allocation = result.x[2:].sum() * 100\n",
    "print(\"Equity Allocation: {:.2f}%\".format(equity_allocation))\n",
    "print(\"Fixed Income Allocation: {:.2f}%\".format(fixed_income_allocation))\n"
   ]
  },
  {
   "attachments": {},
   "cell_type": "markdown",
   "metadata": {},
   "source": []
  },
  {
   "cell_type": "code",
   "execution_count": 46,
   "metadata": {},
   "outputs": [
    {
     "name": "stdout",
     "output_type": "stream",
     "text": [
      "Optimized Weights: [1.38777878e-17 3.46944695e-16 5.55555555e-01 4.44444445e-01]\n",
      "Optimized Portfolio Return: 0.08666666666079548\n",
      "Optimized Portfolio Volatility: 0.1968893905058473\n",
      "Final Developed Country Level: 0.5000000000880674\n"
     ]
    }
   ],
   "source": [
    "import numpy as np\n",
    "from scipy.optimize import minimize\n",
    "\n",
    "# Define the expected returns and covariance matrix\n",
    "returns = np.array([0.08, 0.06, 0.1, 0.07])  # Example expected returns\n",
    "covariance = np.array([[0.04, 0.01, 0.02, 0.015],\n",
    "                       [0.01, 0.03, 0.015, 0.01],\n",
    "                       [0.02, 0.015, 0.06, 0.025],\n",
    "                       [0.015, 0.01, 0.025, 0.04]])  # Example covariance matrix\n",
    "\n",
    "# Define the mutual fund composition (emerging, developed percentages)\n",
    "mutual_funds = [(0.5, 0.5), (0.2, 0.8), (0.7, 0.3), (0.25, 0.75)]  # Example mutual funds composition\n",
    "\n",
    "# Calculate the global developed country allocation constraint\n",
    "global_developed_allocation_constraint = {'type': 'ineq', 'fun': lambda w: np.sum([mf[1]*w[i] for i, mf in enumerate(mutual_funds)])-0.5}\n",
    "\n",
    "# Define the weights constraint (sum of weights equals 1)\n",
    "weights_constraint = {'type': 'eq', 'fun': lambda w: np.sum(w) - 1.0}\n",
    "\n",
    "# Define the objective function (negative mean return for maximization)\n",
    "def objective_function(weights):\n",
    "    return -np.dot(weights, returns)\n",
    "\n",
    "# Define the initial guess\n",
    "initial_guess = np.ones(len(returns)) / len(returns)\n",
    "\n",
    "# Define the bounds for the weights (between 0 and 1)\n",
    "bounds = [(0, 1)] * len(returns)\n",
    "\n",
    "# Solve the optimization problem\n",
    "result = minimize(objective_function, initial_guess, method='SLSQP', bounds=bounds, constraints=[global_developed_allocation_constraint, weights_constraint])\n",
    "\n",
    "# Print the optimized results\n",
    "print(\"Optimized Weights:\", result.x)\n",
    "print(\"Optimized Portfolio Return:\", -result.fun)\n",
    "print(\"Optimized Portfolio Volatility:\", np.sqrt(np.dot(result.x.T, np.dot(covariance, result.x))))\n",
    "\n",
    "# Calculate the final level of developed countries\n",
    "final_developed_level = np.sum([mf[1]*result.x[i] for i, mf in enumerate(mutual_funds)])\n",
    "print(\"Final Developed Country Level:\", final_developed_level)\n"
   ]
  },
  {
   "cell_type": "code",
   "execution_count": 42,
   "metadata": {},
   "outputs": [
    {
     "name": "stdout",
     "output_type": "stream",
     "text": [
      "Optimized Weights: [0.00000000e+00 2.49354302e-15 1.00000000e+00 0.00000000e+00]\n",
      "Optimized Portfolio Return: -0.41999999999999776\n",
      "Optimized Portfolio Volatility: 0.24494897427831766\n",
      "Final Developed Country Level: 0.6000000000000013\n"
     ]
    }
   ],
   "source": [
    "import numpy as np\n",
    "from scipy.optimize import minimize\n",
    "\n",
    "# Define the expected returns and covariance matrix\n",
    "returns = np.array([0.08, 0.06, 0.1, 0.07])  # Example expected returns\n",
    "covariance = np.array([[0.04, 0.01, 0.02, 0.015],\n",
    "                       [0.01, 0.03, 0.015, 0.01],\n",
    "                       [0.02, 0.015, 0.06, 0.025],\n",
    "                       [0.015, 0.01, 0.025, 0.04]])  # Example covariance matrix\n",
    "\n",
    "# Define the mutual fund composition (emerging, developed percentages)\n",
    "mutual_funds = [(0.3, 0.7), (0.2, 0.8), (0.4, 0.6), (0.25, 0.75)]  # Example mutual funds composition\n",
    "\n",
    "# Calculate the global developed country allocation constraint\n",
    "global_developed_allocation_constraint = {'type': 'ineq', 'fun': lambda w: 0.6 - np.sum([mf[1]*w[i] for i, mf in enumerate(mutual_funds)])}\n",
    "\n",
    "# Define the weights constraint (sum of weights equals 1)\n",
    "weights_constraint = {'type': 'eq', 'fun': lambda w: np.sum(w) - 1.0}\n",
    "\n",
    "# Define the objective function (negative mean return for maximization)\n",
    "def objective_function(weights):\n",
    "    return -np.dot(weights, returns)\n",
    "\n",
    "# Define the constraint function for soft constraints (penalty term for violation)\n",
    "def soft_constraint_function(weights):\n",
    "    penalty = 0.0\n",
    "    for i, mf in enumerate(mutual_funds):\n",
    "        emerging, developed = mf\n",
    "        penalty += max(0, weights[i] - emerging) ** 2 + max(0, weights[i] - developed) ** 2\n",
    "    return penalty\n",
    "\n",
    "# Define the initial guess\n",
    "initial_guess = np.ones(len(returns)) / len(returns)\n",
    "\n",
    "# Define the bounds for the weights (between 0 and 1)\n",
    "bounds = [(0, 1)] * len(returns)\n",
    "\n",
    "# Solve the optimization problem\n",
    "result = minimize(lambda weights: objective_function(weights) + soft_constraint_function(weights), initial_guess, method='SLSQP', bounds=bounds, constraints=[global_developed_allocation_constraint, weights_constraint])\n",
    "\n",
    "# Print the optimized results\n",
    "print(\"Optimized Weights:\", result.x)\n",
    "print(\"Optimized Portfolio Return:\", -result.fun)\n",
    "print(\"Optimized Portfolio Volatility:\", np.sqrt(np.dot(result.x.T, np.dot(covariance, result.x))))\n",
    "\n",
    "# Calculate the final level of developed countries\n",
    "final_developed_level = np.sum([mf[1]*result.x[i] for i, mf in enumerate(mutual_funds)])\n",
    "print(\"Final Developed Country Level:\", final_developed_level)\n"
   ]
  },
  {
   "cell_type": "code",
   "execution_count": 64,
   "metadata": {},
   "outputs": [
    {
     "name": "stdout",
     "output_type": "stream",
     "text": [
      "Optimized Weights: [0.    0.    0.609 0.391]\n",
      "Optimized Portfolio Return: 0.10826477750650573\n",
      "Optimized Duration: 3.39117408317866\n",
      "Optimized Tracking Error: 0.11076403904800816\n"
     ]
    }
   ],
   "source": [
    "import numpy as np\n",
    "from scipy.optimize import minimize\n",
    "\n",
    "\n",
    "def acte(w,cov_matrix):\n",
    "    \"\"\"returns the vector of marginal contribution risk\n",
    "\n",
    "    Args:\n",
    "        w (_type_): _description_\n",
    "        covar (_type_): _description_\n",
    "    \"\"\"\n",
    "    marginal_result = np.dot(w, cov_matrix)\n",
    "    variance= np.dot(np.dot(w, cov_matrix),w.T)\n",
    "    margin_risk=np.dot(w, cov_matrix)/np.sqrt(variance)\n",
    "    acte=w*margin_risk\n",
    "\n",
    "\n",
    "    return acte\n",
    "\n",
    "# Define the expected returns and covariance matrix\n",
    "returns = np.array([0.1, 0.08, 0.12, 0.09])  # Example expected returns\n",
    "covariance = np.array([[0.04, 0.01, 0.02, 0.015],\n",
    "                       [0.01, 0.03, 0.015, 0.01],\n",
    "                       [0.02, 0.015, 0.06, 0.025],\n",
    "                       [0.015, 0.01, 0.025, 0.04]])  # Example covariance matrix\n",
    "\n",
    "# Define the duration constraint\n",
    "duration_constraint = 9.5\n",
    "\n",
    "# Define the benchmark weights\n",
    "benchmark_weights = np.array([0.3, 0.2, 0.1, 0.4])  # Example benchmark weights\n",
    "tracking_error_constraint = 0.3\n",
    "\n",
    "\n",
    "# Define the constraint function for duration\n",
    "def duration_constraint_function(weights):\n",
    "    duration = np.dot(weights, np.array([1, 2, 3, 4]))  # Example weights to duration conversion\n",
    "    return duration - duration_constraint\n",
    "\n",
    "# Define the constraint function for tracking error\n",
    "def tracking_error_constraint_function(weights):\n",
    "    ow_uw=weights-benchmark_weights\n",
    "    tracking_error = acte(ow_uw,covariance).sum()\n",
    "    return tracking_error - tracking_error_constraint\n",
    "\n",
    "# Define the objective function to maximize return\n",
    "def objective_function(weights):\n",
    "    return -np.dot(weights, returns)\n",
    "\n",
    "\n",
    "\n",
    "# Define the initial guess\n",
    "initial_guess = np.ones(len(returns)) / len(returns)\n",
    "\n",
    "# Define the bounds for the weights (between 0 and 1)\n",
    "bounds = [(0, 1)] * len(returns)\n",
    "\n",
    "# Define the constraints\n",
    "constraints = [{'type': 'eq', 'fun': duration_constraint_function},\n",
    "               {'type': 'eq', 'fun': tracking_error_constraint_function},\n",
    "               {'type': 'eq', 'fun': lambda w: np.sum(w) - 1.0}]\n",
    "\n",
    "# Solve the optimization problem\n",
    "result = minimize(objective_function, initial_guess, method='SLSQP', bounds=bounds, constraints=constraints)\n",
    "\n",
    "# Print the optimized results\n",
    "print(\"Optimized Weights:\", np.round(result.x,3))\n",
    "print(\"Optimized Portfolio Return:\", -result.fun)\n",
    "print(\"Optimized Duration:\", np.dot(result.x, np.array([1, 2, 3, 4])))\n",
    "tracking_error = np.sqrt(np.dot(np.dot(result.x - benchmark_weights, covariance), (result.x - benchmark_weights).T))\n",
    "print(\"Optimized Tracking Error:\", tracking_error)\n"
   ]
  },
  {
   "attachments": {},
   "cell_type": "markdown",
   "metadata": {},
   "source": []
  }
 ],
 "metadata": {
  "kernelspec": {
   "display_name": "base",
   "language": "python",
   "name": "python3"
  },
  "language_info": {
   "codemirror_mode": {
    "name": "ipython",
    "version": 3
   },
   "file_extension": ".py",
   "mimetype": "text/x-python",
   "name": "python",
   "nbconvert_exporter": "python",
   "pygments_lexer": "ipython3",
   "version": "3.9.7"
  },
  "orig_nbformat": 4
 },
 "nbformat": 4,
 "nbformat_minor": 2
}
