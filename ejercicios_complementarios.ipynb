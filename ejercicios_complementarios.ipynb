{
 "cells": [
  {
   "cell_type": "code",
   "execution_count": null,
   "metadata": {},
   "outputs": [],
   "source": []
  },
  {
   "attachments": {},
   "cell_type": "markdown",
   "metadata": {},
   "source": [
    "## EJERCICIOS COMPLEMENTARIOS"
   ]
  },
  {
   "attachments": {},
   "cell_type": "markdown",
   "metadata": {},
   "source": [
    "### Ejercicio 1.1"
   ]
  },
  {
   "attachments": {},
   "cell_type": "markdown",
   "metadata": {},
   "source": [
    "Defina una función black_scholes_call() que calcule el precio de una opción de compra europea utilizando la fórmula de Black-Scholes. La función debe tener los siguientes parámetros:\n",
    "\n",
    "\n",
    "+ 'S': precio actual del activo subyacente\n",
    "+ 'K': precio de ejercicio de la opción\n",
    "+ 'r': tasa de interés libre de riesgo\n",
    "+ 'sigma': volatilidad implícita del activo subyacente\n",
    "+ 'T': tiempo hasta el vencimiento de la opción (en años)\n",
    "\n",
    "La fórmula de Black-Scholes para el precio de una opción de compra europea es:\n",
    "\n",
    "$$C = S * \\Phi(d_{1}) - K * e^{(-r*T)} * \\Phi(d_{2})$$\n",
    "\n",
    "donde \n",
    "$$d_{1} = (ln(S/K) + (r + 1/2 * \\sigma^{2}) * T) / (\\sigma * \\sqrt{T})$$\n",
    "\n",
    "$$ d_{2} = d_{1} - \\sigma * \\sqrt{T}$$\n",
    "\n",
    "Donde $\\Phi$ es la función de distribución acumulativa estándar.\n",
    "\n",
    "**Pistas** \n",
    "\n",
    "```python\n",
    "from scipy.stats import norm\n",
    "d1 = (np.log(S / K) + (r + 0.5 * sigma ** 2) * T) / (sigma * np.sqrt(T))\n",
    "d2 = d1 - sigma * np.sqrt(T)\n",
    "norm.cdf(x) #Phi de x\n",
    "```"
   ]
  },
  {
   "cell_type": "code",
   "execution_count": null,
   "metadata": {},
   "outputs": [],
   "source": [
    "### Desarrolle aqui el ejercicio"
   ]
  },
  {
   "attachments": {},
   "cell_type": "markdown",
   "metadata": {},
   "source": [
    "De click **aquí** para ver la respuesta.\n",
    "\n",
    "<!---\n",
    "# No esperaba verte tan rápido aquí :(\n",
    "\n",
    "# Una posible solución\n",
    "from scipy.stats import norm\n",
    "import numpy as np\n",
    "\n",
    "def black_scholes_call(S, K, r, sigma, T):\n",
    "    d1 = (np.log(S / K) + (r + 0.5 * sigma ** 2) * T) / (sigma * np.sqrt(T))\n",
    "    d2 = d1 - sigma * np.sqrt(T)\n",
    "    option_price = S * norm.cdf(d1) - K * np.exp(-r * T) * norm.cdf(d2)\n",
    "    return option_price\n",
    "\n",
    "\n",
    "--->"
   ]
  },
  {
   "attachments": {},
   "cell_type": "markdown",
   "metadata": {},
   "source": [
    "### Ejercicio 1.2"
   ]
  },
  {
   "attachments": {},
   "cell_type": "markdown",
   "metadata": {},
   "source": [
    "Define una función monte_carlo que calcule el precio de una opción de compra europea utilizando la simulación de Monte Carlo. La función debe tener los siguientes parámetros:\n",
    "\n",
    "+ S: precio actual del activo subyacente\n",
    "+ K: precio de ejercicio de la opción\n",
    "+ r: tasa de interés libre de riesgo\n",
    "+ sigma: volatilidad implícita del activo subyacente\n",
    "+ T: tiempo hasta el vencimiento de la opción (en años)\n",
    "+ N: número de simulaciones de Monte Carlo\n",
    "\n",
    "Para cada simulación, la función debe generar un número aleatorio $z$ de una distribución normal estándar, y luego calcular el precio del activo subyacente en el vencimiento $S_T$ y el pago de la opción $payoff$. El precio de la opción se calcula como el promedio de todos los pagos, descontado a valor presente por la tasa libre de riesgo.\n",
    "\n",
    "El precio del activo subyacente se calcula de la siguiente manera:\n",
    "\n",
    "$$S_{T} = S * e^{(r - 1/2 * \\sigma^2) * T + \\sigma * \\sqrt{T} * z}$$\n",
    "\n",
    "El payoff lo calculamos como:\n",
    "\n",
    "$$ payoff = max(S_{T} - K, 0)$$\n",
    "\n",
    "El precio de la opción se calcula de la siguiente manera:\n",
    "\n",
    "$$C = e^{-r*T} * \\frac{1}{N} \\cdot \\Sigma_{i=1}^{N}(payoff_{i})$$ \n",
    "\n",
    "**Pistas** \n",
    "\n",
    "```python\n",
    "from scipy.stats import norm\n",
    "def monte_carlo(S, K, r, sigma, T, N):\n",
    "    \"\"\"\"\"\"\n",
    "    z=np.random.standard_normal(N)\n",
    "\n",
    "    return option_price\n",
    "\n",
    "\n",
    "```"
   ]
  },
  {
   "cell_type": "code",
   "execution_count": null,
   "metadata": {},
   "outputs": [],
   "source": [
    "#Desarrolle aqui su ejercicio"
   ]
  },
  {
   "attachments": {},
   "cell_type": "markdown",
   "metadata": {},
   "source": [
    "De click **aquí** para ver la respuesta.\n",
    "\n",
    "<!---\n",
    "# No esperaba verte tan rápido aquí :(\n",
    "\n",
    "# Una posible solución\n",
    "from scipy.stats import norm\n",
    "import numpy as np\n",
    "\n",
    "# Define function for Monte Carlo simulation\n",
    "def monte_carlo(S, K, r, sigma, T, N):\n",
    "    # Generate N random numbers from standard normal distribution\n",
    "    z = np.random.standard_normal(N)\n",
    "    # Calculate stock prices at expiration\n",
    "    ST = S * np.exp((r - 0.5 * sigma ** 2) * T + sigma * np.sqrt(T) * z)\n",
    "    # Calculate option payoff at expiration\n",
    "    payoff = np.maximum(ST - K, 0)\n",
    "    # Discount the payoff back to the present\n",
    "    option_price = np.exp(-r * T) * np.mean(payoff)\n",
    "    return option_price\n",
    "\n",
    "--->"
   ]
  },
  {
   "cell_type": "markdown",
   "metadata": {},
   "source": []
  }
 ],
 "metadata": {
  "language_info": {
   "name": "python"
  },
  "orig_nbformat": 4
 },
 "nbformat": 4,
 "nbformat_minor": 2
}
